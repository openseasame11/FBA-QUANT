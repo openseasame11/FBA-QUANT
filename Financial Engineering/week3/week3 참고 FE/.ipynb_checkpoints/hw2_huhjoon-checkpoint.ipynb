{
 "cells": [
  {
   "cell_type": "markdown",
   "id": "4454873b",
   "metadata": {},
   "source": [
    "p1\n",
    "\n",
    "1-a\n",
    "used excel: yieldis 4.636%\n",
    "zero-coupon bond: 635.6071\n",
    "\n",
    "1-b\n",
    "1+2-3+zero=2*current rate+2000face= 1150+635.6=1785.6=> 1*current+1000face = 892.8=$\n",
    "\n"
   ]
  },
  {
   "cell_type": "markdown",
   "id": "e771366a",
   "metadata": {},
   "source": [
    "2. dp/dy = -DP"
   ]
  },
  {
   "cell_type": "markdown",
   "id": "b85911fd",
   "metadata": {},
   "source": [
    "![week2_3.jpg](week2_3.jpg)"
   ]
  },
  {
   "cell_type": "markdown",
   "id": "ca6cd5b6",
   "metadata": {},
   "source": [
    "![week2_4.jpg](week2_4.jpg)"
   ]
  },
  {
   "cell_type": "code",
   "execution_count": 1,
   "id": "bcee02ac",
   "metadata": {},
   "outputs": [
    {
     "name": "stdout",
     "output_type": "stream",
     "text": [
      "5\n",
      "0\n",
      "0\n",
      "0\n",
      "2\n"
     ]
    }
   ],
   "source": [
    "#5\n",
    "def rabit_hop(n):\n",
    "    \n",
    "    if int(n)!=n:\n",
    "        return 0\n",
    "    if n<=0:\n",
    "        return 0\n",
    "    \n",
    "    if n==1:\n",
    "        return 1\n",
    "    elif n==2:\n",
    "        return 2\n",
    "    else:\n",
    "        return(rabit_hop(n-1)+rabit_hop(n-2))\n",
    "    \n",
    "print(rabit_hop(4))\n",
    "print(rabit_hop(0))\n",
    "print(rabit_hop(-1))\n",
    "print(rabit_hop(1.3))\n",
    "print(rabit_hop(2))"
   ]
  }
 ],
 "metadata": {
  "kernelspec": {
   "display_name": "Python 3 (ipykernel)",
   "language": "python",
   "name": "python3"
  },
  "language_info": {
   "codemirror_mode": {
    "name": "ipython",
    "version": 3
   },
   "file_extension": ".py",
   "mimetype": "text/x-python",
   "name": "python",
   "nbconvert_exporter": "python",
   "pygments_lexer": "ipython3",
   "version": "3.9.13"
  },
  "toc": {
   "base_numbering": 1,
   "nav_menu": {},
   "number_sections": true,
   "sideBar": true,
   "skip_h1_title": false,
   "title_cell": "Table of Contents",
   "title_sidebar": "Contents",
   "toc_cell": false,
   "toc_position": {},
   "toc_section_display": true,
   "toc_window_display": false
  },
  "varInspector": {
   "cols": {
    "lenName": 16,
    "lenType": 16,
    "lenVar": 40
   },
   "kernels_config": {
    "python": {
     "delete_cmd_postfix": "",
     "delete_cmd_prefix": "del ",
     "library": "var_list.py",
     "varRefreshCmd": "print(var_dic_list())"
    },
    "r": {
     "delete_cmd_postfix": ") ",
     "delete_cmd_prefix": "rm(",
     "library": "var_list.r",
     "varRefreshCmd": "cat(var_dic_list()) "
    }
   },
   "types_to_exclude": [
    "module",
    "function",
    "builtin_function_or_method",
    "instance",
    "_Feature"
   ],
   "window_display": false
  }
 },
 "nbformat": 4,
 "nbformat_minor": 5
}
