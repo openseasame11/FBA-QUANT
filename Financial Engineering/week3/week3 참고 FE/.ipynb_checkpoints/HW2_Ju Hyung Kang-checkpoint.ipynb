{
 "cells": [
  {
   "cell_type": "markdown",
   "id": "0c0ee8a2",
   "metadata": {},
   "source": [
    "# HW2_Q6\n",
    "\n",
    "Name: Ju Hyung Kang\n",
    "\n",
    "Date: Feb. 17, 2023"
   ]
  },
  {
   "cell_type": "markdown",
   "id": "a800d6cd",
   "metadata": {},
   "source": [
    "## Problem 1\n",
    "\n",
    "### There are three bonds in the market as follows:\n",
    "\n",
    "### 1. A bond with 4% coupon rate (paid annually), 10 years to maturity, and \\\\$1,000 face value\n",
    "\n",
    "### 2. A bond with 4% plus current (short) rate (paid annually), 10 years to maturity, and \\\\$1,000 face value\n",
    "\n",
    "### 3. A bond with 8% minus current (short) rate (paid annually), 10 years to maturity, and \\\\$1,000 face value\n",
    "\n",
    "### The prices of the bonds are \\\\$950, \\\\$1,100, and \\\\$900, respectively."
   ]
  },
  {
   "cell_type": "markdown",
   "id": "ff934a14",
   "metadata": {},
   "source": [
    "### (a) Derive the price of a zero-coupon bond with 10 years to maturity and \\\\$1,000 face value."
   ]
  },
  {
   "cell_type": "markdown",
   "id": "19ff77ca",
   "metadata": {},
   "source": [
    "Solution) Note that the price of a bond is\n",
    "\n",
    "$$\n",
    "P=\\frac{F}{\\left(1+\\frac{\\lambda}{m}\\right)^n}+\\frac{C}{\\lambda}\\left\\{1-\\frac{1}{(1+\\frac{\\lambda}{m})^n}\\right\\}.\n",
    "$$\n",
    "\n",
    "where $F$ is face value, $C$ yearly coupon payment, $m$ the number of coupon payments per year, $n$ coupon periods, and $\\lambda$ yield to maturity. Thus,\n",
    "\n",
    "$$\n",
    "P=950 = \\frac{1000}{(1+\\lambda)^{10}}+\\frac{40}{\\lambda}\\left\\{1-\\frac{1}{(1+\\lambda)^{10}}\\right\\}\n",
    "$$\n",
    "\n",
    "By doing arithmetic works, the equation can be rewritten as\n",
    "\n",
    "$$\n",
    "950(1+\\lambda)^{10}-1000-40(\\lambda^9+10\\lambda^8+45\\lambda^7+120\\lambda^6+210\\lambda^5+252\\lambda^4+210\\lambda^3+120\\lambda^2+45\\lambda+10)=0.\n",
    "$$\n",
    "\n",
    "The equation can be solved by python code."
   ]
  },
  {
   "cell_type": "code",
   "execution_count": 1,
   "id": "d1758b9f",
   "metadata": {},
   "outputs": [
    {
     "data": {
      "text/latex": [
       "$\\displaystyle 0.0463613054277988$"
      ],
      "text/plain": [
       "0.0463613054277988"
      ]
     },
     "execution_count": 1,
     "metadata": {},
     "output_type": "execute_result"
    }
   ],
   "source": [
    "from sympy import Symbol, nsolve\n",
    "x=Symbol('x')\n",
    "equation = 950*((1+x)**10) - 1000 - 40 * (x**9 + 10 * (x**8) + 45 * (x**7) + 120 * (x**6) + 210 * (x**5) + 252 * (x**4) + 210 * (x**3) + 120 * (x**2) + 45 * x + 10)\n",
    "ytm = nsolve(equation, 1)\n",
    "ytm"
   ]
  },
  {
   "cell_type": "markdown",
   "id": "95354ffd",
   "metadata": {},
   "source": [
    "Solving the equation, the yield-to-maturity is approximately 4.64%. Thus, the price of zero-coupon bond with 10 years to maturity and \\\\$1,000 face value is"
   ]
  },
  {
   "cell_type": "code",
   "execution_count": 2,
   "id": "c7609271",
   "metadata": {},
   "outputs": [
    {
     "data": {
      "text/latex": [
       "$\\displaystyle 635.59912384335$"
      ],
      "text/plain": [
       "635.599123843350"
      ]
     },
     "execution_count": 2,
     "metadata": {},
     "output_type": "execute_result"
    }
   ],
   "source": [
    "F_a = 1000\n",
    "ytm = ytm\n",
    "P_a = F_a/((1+ytm)**10)\n",
    "P_a"
   ]
  },
  {
   "cell_type": "markdown",
   "id": "2d327209",
   "metadata": {},
   "source": [
    "### (b) Derive the price of a floating-rate bond (coupon paid annually) with 10 years to maturity and \\\\$1,000 face value."
   ]
  },
  {
   "cell_type": "markdown",
   "id": "ec7a5653",
   "metadata": {},
   "source": [
    "Define the price of 1,2, 3, and zero coupon bond of (a) as $P_1, P_2, P_3,$ and $P_0$. Then,\n",
    "\n",
    "$$\n",
    "\\begin{align*}\n",
    "P_1 &= \\frac{1000}{(1+\\lambda)^{10}}+\\frac{1000\\cdot 0.04}{\\lambda}\\left\\{1-\\frac{1}{(1+\\lambda)^{10}}\\right\\}\\\\\n",
    "P_2 &= \\frac{1000}{(1+\\lambda)^{10}}+\\frac{1000(0.04+r_{short})}{\\lambda}\\left\\{1-\\frac{1}{(1+\\lambda)^{10}}\\right\\}\\\\\n",
    "P_3 &= \\frac{1000}{(1+\\lambda)^{10}}+\\frac{1000(0.08-r_{short})}{\\lambda}\\left\\{1-\\frac{1}{(1+\\lambda)^{10}}\\right\\}\\\\\n",
    "P_a &= \\frac{1000}{(1+\\lambda)^{10}}.\n",
    "\\end{align*}\n",
    "$$\n",
    "\n",
    "Note that\n",
    "\n",
    "$$\n",
    "P_1+P_2-P_3+P_a = 2\\left(\\frac{1000}{(1+\\lambda)^{10}}+\\frac{1000\\cdot r_{short}}{\\lambda}\\left\\{1-\\frac{1}{(1+\\lambda)^{10}}\\right\\}\\right)\n",
    "$$\n",
    "\n",
    "Thus, the price of (b), $P_b$, is\n",
    "\n",
    "$$\n",
    "P_b = \\frac{1000}{(1+\\lambda)^{10}}+\\frac{1000\\cdot r_{short}}{\\lambda}\\left\\{1-\\frac{1}{(1+\\lambda)^{10}}\\right\\} = \\frac{P_1+P_2-P_3+P_a}{2}\n",
    "$$"
   ]
  },
  {
   "cell_type": "code",
   "execution_count": 3,
   "id": "c1c839e1",
   "metadata": {},
   "outputs": [
    {
     "data": {
      "text/latex": [
       "$\\displaystyle 892.799561921675$"
      ],
      "text/plain": [
       "892.799561921675"
      ]
     },
     "execution_count": 3,
     "metadata": {},
     "output_type": "execute_result"
    }
   ],
   "source": [
    "P_1 = 950\n",
    "P_2 = 1100\n",
    "P_3 = 900\n",
    "P_a = P_a\n",
    "\n",
    "P_b = (P_1 + P_2 - P_3 + P_a)/2\n",
    "P_b"
   ]
  },
  {
   "cell_type": "markdown",
   "id": "2bd41a6a",
   "metadata": {},
   "source": [
    "## Problem 2\n",
    "\n",
    "### Under continuous compounding the Macaulay duration becomes\n",
    "\n",
    "$$\n",
    "D= \\frac{\\sum^n_{k=0}t_k e^{-\\lambda t_k}c_k}{P}\n",
    "$$\n",
    "\n",
    "### Where $\\lambda$ is the yield and\n",
    "\n",
    "$$\n",
    "P=\\sum^n_{k=0}e^{-\\lambda t_k}c_k\n",
    "$$\n",
    "\n",
    "### Find $\\frac{dP}{d\\lambda}$ in temrs of $D$ and $P$."
   ]
  },
  {
   "cell_type": "markdown",
   "id": "8fdcee68",
   "metadata": {},
   "source": [
    "Solution)\n",
    "\n",
    "$$\n",
    "\\begin{align*}\n",
    "\\frac{dP}{d\\lambda} &= \\frac{d}{d\\lambda}\\left(e^{\\lambda t_0}+ \\cdots + e^{\\lambda t_n}\\right)\\\\\n",
    "&=(-t_0)e^{\\lambda t_0} + \\cdots + (-t_n)e^{\\lambda t_n}\\\\\n",
    "&= -(t_0e^{\\lambda t_0} + \\cdots + t_n e^{\\lambda t_n})\\\\\n",
    "&=-PD\\\\\n",
    "\\end{align*}\n",
    "$$\n",
    "\n",
    "$$\n",
    "\\therefore \\frac{dP}{d\\lambda} = -PD\n",
    "$$"
   ]
  },
  {
   "cell_type": "markdown",
   "id": "078f9093",
   "metadata": {},
   "source": [
    "## Problem 3. Mr A. Gaylord manages a pension fund and believes that the his stock selection ability is excellent. However, he is worried because the market could go down. He considers entering an equity swap where each quarter $i$, up to quarter $M$, he pays counterparty B the previous quarters total rate of return $r_i$ on the S&P 500 index times some notional principal and receives payments at a fixed rate $r$ on the same principal. The total rate of return includes dividends. Specifically, $1+r_i=\\frac{(S_i+d_i)}{S_{i-1}}$, where $S_i$ and $d_i$ are the values of the index at $i$ and the dividends received from $i-1$ to $i$, respectively. Derive the value of such a swap by the following steps:"
   ]
  },
  {
   "cell_type": "markdown",
   "id": "5c0d695b",
   "metadata": {},
   "source": [
    "### (a) Let $V_{i-1}(S_i + d_i)$ denote the value at time $i-1$ of receiving $S_i+d_i$ at time $i$. Argue that $V_{i-1}(S_i+d_i)=S_{i-1}$ and find $V_{i-1}(r_i)$."
   ]
  },
  {
   "cell_type": "markdown",
   "id": "be8cf22e",
   "metadata": {},
   "source": [
    "Solution) The value at time $i-1$ of receiving $S_i+d_i$ at time $i$ can be calculated by discounting the value with $1+r_i$. Thus,\n",
    "\n",
    "$$\n",
    "V_{i-1}(S_i + d_i) = \\frac{S_i + d_i}{1+r_i} = S_{i-1}.\n",
    "$$\n",
    "\n",
    "Note that\n",
    "\n",
    "$$\n",
    "V_{i-1}(r_i) = \\frac{r_i}{1+r_i}\n",
    "$$\n"
   ]
  },
  {
   "cell_type": "markdown",
   "id": "b250b2ab",
   "metadata": {},
   "source": [
    "### (b) Find $V_0(r_i)$."
   ]
  },
  {
   "cell_type": "markdown",
   "id": "45eb78a3",
   "metadata": {},
   "source": [
    "Solution) Note that\n",
    "$$\n",
    "V_{i-2}(r_i) = \\frac{V_{i-1}}{1+r_{i-1}} = \\frac{r_i}{(1+r_{i-1})(1+r_i)}\n",
    "$$\n",
    "\n",
    "Thus,\n",
    "$$\n",
    "V_{0}(r_i) = \\frac{r_i}{(1+r_1)(1+r_2)\\cdots(1+r_i)}\n",
    "$$"
   ]
  },
  {
   "cell_type": "markdown",
   "id": "a635c337",
   "metadata": {},
   "source": [
    "### (c) Find $\\sum^M_{i=1} V_0(r_i)$."
   ]
  },
  {
   "cell_type": "markdown",
   "id": "a188d7ce",
   "metadata": {},
   "source": [
    "Solution) \n",
    "\n",
    "$$\n",
    "\\sum^M_{i=1} V_0(r_i) = \\frac{r_1}{(1+r_1)} + \\frac{r_2}{(1+r_1)(1+r_2)}\\cdots + \\frac{r_M}{(1+r_1)(1+r_2)\\cdots(1+r_M)}\n",
    "$$"
   ]
  },
  {
   "cell_type": "markdown",
   "id": "df714335",
   "metadata": {},
   "source": [
    "### (d) Find the value of the swap."
   ]
  },
  {
   "cell_type": "markdown",
   "id": "96ee618d",
   "metadata": {},
   "source": [
    "Note that\n",
    "$$\n",
    "\\sum^M_{i=1}V_0(r)=\\frac{r}{1+r}+\\frac{r}{(1+r)^2}+\\cdots + \\frac{r}{(1+r)^M}=\\frac{\\frac{r}{1+r}}{1-\\frac{1}{1+r}}\\left(1-\\left(\\frac{1}{1+r}\\right)^M\\right)=1-\\left(\\frac{1}{1+r}\\right)^M\n",
    "$$\n",
    "\n",
    "\n",
    "Define the pricipal as $P$ and the value of the swap as $V$. Then, the value of the swap is\n",
    "\n",
    "$$\n",
    "\\begin{align*}\n",
    "V &= P\\left(\\sum^M_{i=1}(V_0(r)-V_0(r_i))\\right)\\\\\n",
    "&=P\\left(\\sum^M_{i=1}V_0(r)-\\sum^M_{i=1}V_0(r_i)\\right)\\\\\n",
    "&=P\\left(1-\\left(\\frac{1}{1+r}\\right)^M-\\left(\\frac{r_1}{(1+r_1)}+ \\frac{r_2}{(1+r_1)(1+r_2)}\\cdots + \\frac{r_M}{(1+r_1)(1+r_2)\\cdots(1+r_M)}\\right)\\right)\\\\\n",
    "\\end{align*}\\\\\n",
    "$$"
   ]
  },
  {
   "cell_type": "markdown",
   "id": "d5b57f87",
   "metadata": {},
   "source": [
    "## Problem 4\n",
    "\n",
    "### Farmer D. Jones has a crop of grapefruit juice that will be ready for harvest and sale as 150,000 pounds of grapefruit juice in 3 months. Jones is worried about possible price changes, so he is considering hedging. There is no futures contract for grapefruit juice, but there is a futures contract for orange juice. His son, Gavin, recently studied minimum-variance hedging and suggests it as a possible approach. Currently the spot prices are \\\\$1.20 per pound for orange juice and \\\\$1.50 per pound for grapefruit juice. The standard deviation of the prices of orange juice and grapefruit juice is about 20% per year, and the correlation coefficient between them is about .7. What is the minimum variance hedge for farmer Jones, and how effective is this hedge as compared to no hedge?\n"
   ]
  },
  {
   "cell_type": "markdown",
   "id": "5afa0d0b",
   "metadata": {},
   "source": [
    "Solution) Define $x$ such that\n",
    "\n",
    "$$\n",
    "x=150000 \\cdot S_T\n",
    "$$\n",
    "\n",
    "where $S_T$ is the spot price of grapefruit juice per pound at $T$.\n",
    "\n",
    "Now, define $y$ such that\n",
    "\n",
    "$$\n",
    "y=x-(F_T-F_0)h\n",
    "$$\n",
    "\n",
    "where $F$ denote the futures price of the contract of orange juice. For simplicity, let one pound corresponds to one contract. Then,\n",
    "\n",
    "$$\n",
    "Var(y)=E[x-\\overline{x} - (F_T-\\overline{F}_T)h]^2=Var(x)+2Cov(x,F_T)h+Var(F_T)h^2\n",
    "$$\n",
    "\n",
    "Note that $Var(y)$ is minimized at\n",
    "\n",
    "$$\n",
    "h=\\frac{Cov(x,F_T)}{Var(F_T)}\\frac{Cov(150000S_T,F_T}{Var(F_T)}=150000\\frac{Cov(S_T,F_T)}{Var(F_T)}=150000\\frac{0.7\\cdot0.2\\cdot0.2}{0.2^2}=150000\\cdot0.7=105000.\n",
    "$$\n",
    "\n",
    "Thus, the futures contract for orange juice of 105000 pounds should be made to minimize the variance.\n",
    "\n",
    "Note that\n",
    "\n",
    "$$\n",
    "Var(y) = Var(x) - \\frac{Cov(x,F_T)^2}{Var(F_T)}=(150000\\cdot0.2)^2 - \\frac{150000\\cdot 0.7\\cdot0.2^2}{0.2^2}=899895000\n",
    "$$\n",
    "\n",
    "$$\n",
    "\\sigma_y = \\sqrt{Var(y)} \\approx 29998.25\n",
    "$$\n",
    "\n",
    "$$\n",
    "\\sigma_x = \\sqrt{Var(x)} =\\sqrt{(150000*0.2)^2}=30000,\n",
    "$$\n",
    "\n",
    "which indicates the hedging strategy lowers the standard deviation by 1.75."
   ]
  },
  {
   "cell_type": "markdown",
   "id": "21d84a61",
   "metadata": {},
   "source": [
    "## Problem 5\n",
    "\n",
    "###  A rabbit sits at the bottom of a staircase with n stairs. The rabbit can hop up only one or two or three stairs at a time. How many different combinations are there for the rabbit to ascend to the top of the stairs? Try to solve this problem with Python using recursive function."
   ]
  },
  {
   "cell_type": "markdown",
   "id": "ac88f5c2",
   "metadata": {},
   "source": [
    "Solution) Define a function, $f(x)$, such that yields the number of combinations for the rabbit to ascend to the top of the stairs for remaining $x$ stairs. Then,\n",
    "\n",
    "$$\n",
    "f(x)=\n",
    "\\begin{cases}\n",
    "1, &x=1\\\\\n",
    "2, &x=2\\\\\n",
    "4, &x=3\\\\\n",
    "f(x-1) + f(x-2) + f(x-3), &x \\geq 4\\\\\n",
    "\\end{cases}\n",
    "$$\n",
    "\n",
    "The function can be formulated as a recursive function via Python."
   ]
  },
  {
   "cell_type": "code",
   "execution_count": 4,
   "id": "45cf9bbe",
   "metadata": {},
   "outputs": [],
   "source": [
    "def f(n):\n",
    "    if (n == 1):\n",
    "        return 1\n",
    "    elif (n == 2):\n",
    "        return 2\n",
    "    elif (n == 3):\n",
    "        return 4\n",
    "    else:\n",
    "        return f(n-1) + f(n-2) + f(n-3)"
   ]
  },
  {
   "cell_type": "code",
   "execution_count": 5,
   "id": "9bb59872",
   "metadata": {},
   "outputs": [
    {
     "data": {
      "text/plain": [
       "1"
      ]
     },
     "execution_count": 5,
     "metadata": {},
     "output_type": "execute_result"
    }
   ],
   "source": [
    "f(1)"
   ]
  },
  {
   "cell_type": "code",
   "execution_count": 6,
   "id": "e5fda0df",
   "metadata": {},
   "outputs": [
    {
     "data": {
      "text/plain": [
       "2"
      ]
     },
     "execution_count": 6,
     "metadata": {},
     "output_type": "execute_result"
    }
   ],
   "source": [
    "f(2)"
   ]
  },
  {
   "cell_type": "code",
   "execution_count": 7,
   "id": "99e9af59",
   "metadata": {},
   "outputs": [
    {
     "data": {
      "text/plain": [
       "4"
      ]
     },
     "execution_count": 7,
     "metadata": {},
     "output_type": "execute_result"
    }
   ],
   "source": [
    "f(3)"
   ]
  },
  {
   "cell_type": "code",
   "execution_count": 8,
   "id": "64994e8c",
   "metadata": {},
   "outputs": [
    {
     "data": {
      "text/plain": [
       "7"
      ]
     },
     "execution_count": 8,
     "metadata": {},
     "output_type": "execute_result"
    }
   ],
   "source": [
    "f(4)"
   ]
  },
  {
   "cell_type": "code",
   "execution_count": 9,
   "id": "ad759bce",
   "metadata": {},
   "outputs": [
    {
     "data": {
      "text/plain": [
       "13"
      ]
     },
     "execution_count": 9,
     "metadata": {},
     "output_type": "execute_result"
    }
   ],
   "source": [
    "f(5)"
   ]
  },
  {
   "cell_type": "code",
   "execution_count": 10,
   "id": "fe827f3d",
   "metadata": {},
   "outputs": [
    {
     "data": {
      "text/plain": [
       "24"
      ]
     },
     "execution_count": 10,
     "metadata": {},
     "output_type": "execute_result"
    }
   ],
   "source": [
    "f(6)"
   ]
  }
 ],
 "metadata": {
  "kernelspec": {
   "display_name": "Python 3 (ipykernel)",
   "language": "python",
   "name": "python3"
  },
  "language_info": {
   "codemirror_mode": {
    "name": "ipython",
    "version": 3
   },
   "file_extension": ".py",
   "mimetype": "text/x-python",
   "name": "python",
   "nbconvert_exporter": "python",
   "pygments_lexer": "ipython3",
   "version": "3.9.13"
  }
 },
 "nbformat": 4,
 "nbformat_minor": 5
}
