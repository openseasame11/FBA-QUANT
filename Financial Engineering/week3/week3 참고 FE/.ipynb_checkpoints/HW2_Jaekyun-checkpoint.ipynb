{
 "cells": [
  {
   "cell_type": "markdown",
   "metadata": {},
   "source": [
    "# Prob 1\n",
    "\n",
    "## (a)\n",
    "\n",
    "From bond 1, YTM is 4.636%. For zero coupon bond, just discount with it. 1000/(1.04636) = 955.7$\n",
    "\n",
    "## (b)\n",
    "\n",
    "Value of floater is equal to face value, 1000$"
   ]
  },
  {
   "cell_type": "markdown",
   "metadata": {},
   "source": [
    "# Prob 2\n",
    "\n",
    "$dP/d\\lambda = \\sum_{k=0}^n(-c_k t_k) e^{-\\lambda t_k} = -PD$\n"
   ]
  },
  {
   "cell_type": "markdown",
   "metadata": {},
   "source": [
    "# Prob 3\n",
    "\n",
    "## (a)\n",
    "\n",
    "It's pretty straightforward, since the discount rate from $i-1$ to $i$ is $r_i$. \n",
    "\n",
    "So $V_{i-1} (S_i + d_i) = (S_i + d_i) d(i-1, i) = S_{i-1}$\n",
    "\n",
    "$V_{i-1}(r_i) = r_i \\times d(i-1, i) = r_i / (1+r_i) = 1 - d(i-1, i)$\n",
    "\n",
    "## (b)\n",
    "\n",
    "$d(i-1, i) = 1/ (1+r_i)$\n",
    "\n",
    "$V_0(r_i) = r_i / (1+ r_1) = d(0,1) r_i$"
   ]
  },
  {
   "cell_type": "markdown",
   "metadata": {},
   "source": [
    "# Prob 4\n",
    "\n",
    "It's kind of a cross hedge of selling a fixed amount.\n",
    "\n",
    "$\\beta = \\frac{cov(orange, grape)}{var(orange)} = 0.7$\n",
    "\n",
    "and $h = -0.7 \\times 150000 \\times 1.5/1.2$, short 131250 pounds of orange juice.\n",
    "\n",
    "risk reuction is measured by $\\sqrt{1-\\rho^2} = 0.714$\n",
    "\n"
   ]
  },
  {
   "cell_type": "code",
   "execution_count": 7,
   "metadata": {},
   "outputs": [
    {
     "data": {
      "text/plain": [
       "1389537"
      ]
     },
     "execution_count": 7,
     "metadata": {},
     "output_type": "execute_result"
    }
   ],
   "source": [
    "# Prob 5\n",
    "\n",
    "def rabbit(a):\n",
    "    if a <= 0:\n",
    "        return 0\n",
    "    elif a == 1:\n",
    "        return 1\n",
    "    elif a == 2:\n",
    "        # (1+1), (2)\n",
    "        return 2\n",
    "    elif a == 3:\n",
    "        # (1+1+1), (1+2), (2+1), (3)\n",
    "        return 4\n",
    "    else:\n",
    "        return rabbit(a-1) + rabbit(a-2) + rabbit(a-3)\n",
    "\n",
    "rabbit(24)"
   ]
  }
 ],
 "metadata": {
  "kernelspec": {
   "display_name": "Python 3 (ipykernel)",
   "language": "python",
   "name": "python3"
  },
  "language_info": {
   "codemirror_mode": {
    "name": "ipython",
    "version": 3
   },
   "file_extension": ".py",
   "mimetype": "text/x-python",
   "name": "python",
   "nbconvert_exporter": "python",
   "pygments_lexer": "ipython3",
   "version": "3.9.13"
  },
  "vscode": {
   "interpreter": {
    "hash": "7e85ec9bf098c5427e45e2f632dcd4eeff803b007e1abd287d600879388709c1"
   }
  }
 },
 "nbformat": 4,
 "nbformat_minor": 2
}
