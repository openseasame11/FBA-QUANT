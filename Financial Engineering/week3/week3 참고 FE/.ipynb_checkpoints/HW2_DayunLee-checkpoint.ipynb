{
 "cells": [
  {
   "cell_type": "code",
   "execution_count": 1,
   "metadata": {
    "id": "hj4k0ZfG50sK"
   },
   "outputs": [],
   "source": [
    "import math\n",
    "import pandas as pd"
   ]
  },
  {
   "cell_type": "markdown",
   "metadata": {
    "id": "QNQnxLaB6Iw9"
   },
   "source": [
    "Problem 1. There are three bonds in the market as follows:\n",
    "1. A bond with 4% coupon rate (paid annually), 10 years to maturity, and $1,000\n",
    "face value\n",
    "\n",
    "2. A bond with 4% plus current (short) rate (paid annually), 10 years to maturity, and $1,000 face value\n",
    "\n",
    "3. A bond with 8% minus current (short) rate (paid annually), 10 years to\n",
    "maturity, and $1,000 face value.\n",
    "\n",
    "The prices of the bonds are \\$950, \\$1,100, and $900, respectively.\n",
    "\n",
    "(a) Derive the price of a zero-coupon bond with 10 years to maturity and $1,000 face value.\n",
    "\n",
    "(b) Derive the price of a floating-rate bond (coupon paid annually) with 10 years to maturity and $1,000 face value."
   ]
  },
  {
   "cell_type": "code",
   "execution_count": 17,
   "metadata": {
    "colab": {
     "base_uri": "https://localhost:8080/",
     "height": 143
    },
    "id": "_npzlGxa58uk",
    "outputId": "73206bd7-51bd-4e4f-f8b6-82e860acd800"
   },
   "outputs": [
    {
     "data": {
      "text/html": [
       "\n",
       "  <div id=\"df-7242c9f2-94ee-4cc2-92d7-6dea508acd3a\">\n",
       "    <div class=\"colab-df-container\">\n",
       "      <div>\n",
       "<style scoped>\n",
       "    .dataframe tbody tr th:only-of-type {\n",
       "        vertical-align: middle;\n",
       "    }\n",
       "\n",
       "    .dataframe tbody tr th {\n",
       "        vertical-align: top;\n",
       "    }\n",
       "\n",
       "    .dataframe thead th {\n",
       "        text-align: right;\n",
       "    }\n",
       "</style>\n",
       "<table border=\"1\" class=\"dataframe\">\n",
       "  <thead>\n",
       "    <tr style=\"text-align: right;\">\n",
       "      <th></th>\n",
       "      <th>YTM</th>\n",
       "      <th>PV</th>\n",
       "    </tr>\n",
       "  </thead>\n",
       "  <tbody>\n",
       "    <tr>\n",
       "      <th>0</th>\n",
       "      <td>0.046154</td>\n",
       "      <td>636.860685</td>\n",
       "    </tr>\n",
       "    <tr>\n",
       "      <th>1</th>\n",
       "      <td>0.061905</td>\n",
       "      <td>548.459189</td>\n",
       "    </tr>\n",
       "    <tr>\n",
       "      <th>2</th>\n",
       "      <td>0.057895</td>\n",
       "      <td>569.607154</td>\n",
       "    </tr>\n",
       "  </tbody>\n",
       "</table>\n",
       "</div>\n",
       "      <button class=\"colab-df-convert\" onclick=\"convertToInteractive('df-7242c9f2-94ee-4cc2-92d7-6dea508acd3a')\"\n",
       "              title=\"Convert this dataframe to an interactive table.\"\n",
       "              style=\"display:none;\">\n",
       "        \n",
       "  <svg xmlns=\"http://www.w3.org/2000/svg\" height=\"24px\"viewBox=\"0 0 24 24\"\n",
       "       width=\"24px\">\n",
       "    <path d=\"M0 0h24v24H0V0z\" fill=\"none\"/>\n",
       "    <path d=\"M18.56 5.44l.94 2.06.94-2.06 2.06-.94-2.06-.94-.94-2.06-.94 2.06-2.06.94zm-11 1L8.5 8.5l.94-2.06 2.06-.94-2.06-.94L8.5 2.5l-.94 2.06-2.06.94zm10 10l.94 2.06.94-2.06 2.06-.94-2.06-.94-.94-2.06-.94 2.06-2.06.94z\"/><path d=\"M17.41 7.96l-1.37-1.37c-.4-.4-.92-.59-1.43-.59-.52 0-1.04.2-1.43.59L10.3 9.45l-7.72 7.72c-.78.78-.78 2.05 0 2.83L4 21.41c.39.39.9.59 1.41.59.51 0 1.02-.2 1.41-.59l7.78-7.78 2.81-2.81c.8-.78.8-2.07 0-2.86zM5.41 20L4 18.59l7.72-7.72 1.47 1.35L5.41 20z\"/>\n",
       "  </svg>\n",
       "      </button>\n",
       "      \n",
       "  <style>\n",
       "    .colab-df-container {\n",
       "      display:flex;\n",
       "      flex-wrap:wrap;\n",
       "      gap: 12px;\n",
       "    }\n",
       "\n",
       "    .colab-df-convert {\n",
       "      background-color: #E8F0FE;\n",
       "      border: none;\n",
       "      border-radius: 50%;\n",
       "      cursor: pointer;\n",
       "      display: none;\n",
       "      fill: #1967D2;\n",
       "      height: 32px;\n",
       "      padding: 0 0 0 0;\n",
       "      width: 32px;\n",
       "    }\n",
       "\n",
       "    .colab-df-convert:hover {\n",
       "      background-color: #E2EBFA;\n",
       "      box-shadow: 0px 1px 2px rgba(60, 64, 67, 0.3), 0px 1px 3px 1px rgba(60, 64, 67, 0.15);\n",
       "      fill: #174EA6;\n",
       "    }\n",
       "\n",
       "    [theme=dark] .colab-df-convert {\n",
       "      background-color: #3B4455;\n",
       "      fill: #D2E3FC;\n",
       "    }\n",
       "\n",
       "    [theme=dark] .colab-df-convert:hover {\n",
       "      background-color: #434B5C;\n",
       "      box-shadow: 0px 1px 3px 1px rgba(0, 0, 0, 0.15);\n",
       "      filter: drop-shadow(0px 1px 2px rgba(0, 0, 0, 0.3));\n",
       "      fill: #FFFFFF;\n",
       "    }\n",
       "  </style>\n",
       "\n",
       "      <script>\n",
       "        const buttonEl =\n",
       "          document.querySelector('#df-7242c9f2-94ee-4cc2-92d7-6dea508acd3a button.colab-df-convert');\n",
       "        buttonEl.style.display =\n",
       "          google.colab.kernel.accessAllowed ? 'block' : 'none';\n",
       "\n",
       "        async function convertToInteractive(key) {\n",
       "          const element = document.querySelector('#df-7242c9f2-94ee-4cc2-92d7-6dea508acd3a');\n",
       "          const dataTable =\n",
       "            await google.colab.kernel.invokeFunction('convertToInteractive',\n",
       "                                                     [key], {});\n",
       "          if (!dataTable) return;\n",
       "\n",
       "          const docLinkHtml = 'Like what you see? Visit the ' +\n",
       "            '<a target=\"_blank\" href=https://colab.research.google.com/notebooks/data_table.ipynb>data table notebook</a>'\n",
       "            + ' to learn more about interactive tables.';\n",
       "          element.innerHTML = '';\n",
       "          dataTable['output_type'] = 'display_data';\n",
       "          await google.colab.output.renderOutput(dataTable, element);\n",
       "          const docLink = document.createElement('div');\n",
       "          docLink.innerHTML = docLinkHtml;\n",
       "          element.appendChild(docLink);\n",
       "        }\n",
       "      </script>\n",
       "    </div>\n",
       "  </div>\n",
       "  "
      ],
      "text/plain": [
       "        YTM          PV\n",
       "0  0.046154  636.860685\n",
       "1  0.061905  548.459189\n",
       "2  0.057895  569.607154"
      ]
     },
     "execution_count": 17,
     "metadata": {},
     "output_type": "execute_result"
    }
   ],
   "source": [
    "def present_value(C, r, n, F):\n",
    "  # Define a function to calculate the present value of the bond cash flows\n",
    "  return (C / r) * (1 - (1 + r)**(-n)) + (F / (1 + r)**n)\n",
    "\n",
    "\n",
    "\n",
    "def calculate_yield_to_maturity(C, n, F, PV):\n",
    "  return (C + ((F - PV) / n)) / ((F + PV) / 2)\n",
    "\n",
    "r_1=calculate_yield_to_maturity(40, 10, 1000, 950)\n",
    "r_2=calculate_yield_to_maturity(75, 10, 1000, 1100)\n",
    "r_3=calculate_yield_to_maturity(45, 10, 1000, 900)\n",
    "\n",
    "a_1=present_value(0,r_1,10,1000)\n",
    "a_2=present_value(0,r_2,10,1000)\n",
    "a_3=present_value(0,r_3,10,1000)\n",
    "\n",
    "df=pd.DataFrame([[r_1, a_1],[r_2, a_2],[r_3,a_3]], columns=['YTM','PV'])\n",
    "df"
   ]
  },
  {
   "cell_type": "code",
   "execution_count": 18,
   "metadata": {
    "colab": {
     "base_uri": "https://localhost:8080/",
     "height": 143
    },
    "id": "mVV-ZT7mrIvZ",
    "outputId": "e323db92-2baf-4675-f0c5-026c64df7eac"
   },
   "outputs": [
    {
     "data": {
      "text/html": [
       "\n",
       "  <div id=\"df-c29b8449-1b5c-423f-b8b8-ec51d77606c7\">\n",
       "    <div class=\"colab-df-container\">\n",
       "      <div>\n",
       "<style scoped>\n",
       "    .dataframe tbody tr th:only-of-type {\n",
       "        vertical-align: middle;\n",
       "    }\n",
       "\n",
       "    .dataframe tbody tr th {\n",
       "        vertical-align: top;\n",
       "    }\n",
       "\n",
       "    .dataframe thead th {\n",
       "        text-align: right;\n",
       "    }\n",
       "</style>\n",
       "<table border=\"1\" class=\"dataframe\">\n",
       "  <thead>\n",
       "    <tr style=\"text-align: right;\">\n",
       "      <th></th>\n",
       "      <th>YTM</th>\n",
       "      <th>PV</th>\n",
       "    </tr>\n",
       "  </thead>\n",
       "  <tbody>\n",
       "    <tr>\n",
       "      <th>0</th>\n",
       "      <td>-2.005039</td>\n",
       "      <td>950.977981</td>\n",
       "    </tr>\n",
       "    <tr>\n",
       "      <th>1</th>\n",
       "      <td>0.000081</td>\n",
       "      <td>999.195179</td>\n",
       "    </tr>\n",
       "    <tr>\n",
       "      <th>2</th>\n",
       "      <td>0.000054</td>\n",
       "      <td>999.462629</td>\n",
       "    </tr>\n",
       "  </tbody>\n",
       "</table>\n",
       "</div>\n",
       "      <button class=\"colab-df-convert\" onclick=\"convertToInteractive('df-c29b8449-1b5c-423f-b8b8-ec51d77606c7')\"\n",
       "              title=\"Convert this dataframe to an interactive table.\"\n",
       "              style=\"display:none;\">\n",
       "        \n",
       "  <svg xmlns=\"http://www.w3.org/2000/svg\" height=\"24px\"viewBox=\"0 0 24 24\"\n",
       "       width=\"24px\">\n",
       "    <path d=\"M0 0h24v24H0V0z\" fill=\"none\"/>\n",
       "    <path d=\"M18.56 5.44l.94 2.06.94-2.06 2.06-.94-2.06-.94-.94-2.06-.94 2.06-2.06.94zm-11 1L8.5 8.5l.94-2.06 2.06-.94-2.06-.94L8.5 2.5l-.94 2.06-2.06.94zm10 10l.94 2.06.94-2.06 2.06-.94-2.06-.94-.94-2.06-.94 2.06-2.06.94z\"/><path d=\"M17.41 7.96l-1.37-1.37c-.4-.4-.92-.59-1.43-.59-.52 0-1.04.2-1.43.59L10.3 9.45l-7.72 7.72c-.78.78-.78 2.05 0 2.83L4 21.41c.39.39.9.59 1.41.59.51 0 1.02-.2 1.41-.59l7.78-7.78 2.81-2.81c.8-.78.8-2.07 0-2.86zM5.41 20L4 18.59l7.72-7.72 1.47 1.35L5.41 20z\"/>\n",
       "  </svg>\n",
       "      </button>\n",
       "      \n",
       "  <style>\n",
       "    .colab-df-container {\n",
       "      display:flex;\n",
       "      flex-wrap:wrap;\n",
       "      gap: 12px;\n",
       "    }\n",
       "\n",
       "    .colab-df-convert {\n",
       "      background-color: #E8F0FE;\n",
       "      border: none;\n",
       "      border-radius: 50%;\n",
       "      cursor: pointer;\n",
       "      display: none;\n",
       "      fill: #1967D2;\n",
       "      height: 32px;\n",
       "      padding: 0 0 0 0;\n",
       "      width: 32px;\n",
       "    }\n",
       "\n",
       "    .colab-df-convert:hover {\n",
       "      background-color: #E2EBFA;\n",
       "      box-shadow: 0px 1px 2px rgba(60, 64, 67, 0.3), 0px 1px 3px 1px rgba(60, 64, 67, 0.15);\n",
       "      fill: #174EA6;\n",
       "    }\n",
       "\n",
       "    [theme=dark] .colab-df-convert {\n",
       "      background-color: #3B4455;\n",
       "      fill: #D2E3FC;\n",
       "    }\n",
       "\n",
       "    [theme=dark] .colab-df-convert:hover {\n",
       "      background-color: #434B5C;\n",
       "      box-shadow: 0px 1px 3px 1px rgba(0, 0, 0, 0.15);\n",
       "      filter: drop-shadow(0px 1px 2px rgba(0, 0, 0, 0.3));\n",
       "      fill: #FFFFFF;\n",
       "    }\n",
       "  </style>\n",
       "\n",
       "      <script>\n",
       "        const buttonEl =\n",
       "          document.querySelector('#df-c29b8449-1b5c-423f-b8b8-ec51d77606c7 button.colab-df-convert');\n",
       "        buttonEl.style.display =\n",
       "          google.colab.kernel.accessAllowed ? 'block' : 'none';\n",
       "\n",
       "        async function convertToInteractive(key) {\n",
       "          const element = document.querySelector('#df-c29b8449-1b5c-423f-b8b8-ec51d77606c7');\n",
       "          const dataTable =\n",
       "            await google.colab.kernel.invokeFunction('convertToInteractive',\n",
       "                                                     [key], {});\n",
       "          if (!dataTable) return;\n",
       "\n",
       "          const docLinkHtml = 'Like what you see? Visit the ' +\n",
       "            '<a target=\"_blank\" href=https://colab.research.google.com/notebooks/data_table.ipynb>data table notebook</a>'\n",
       "            + ' to learn more about interactive tables.';\n",
       "          element.innerHTML = '';\n",
       "          dataTable['output_type'] = 'display_data';\n",
       "          await google.colab.output.renderOutput(dataTable, element);\n",
       "          const docLink = document.createElement('div');\n",
       "          docLink.innerHTML = docLinkHtml;\n",
       "          element.appendChild(docLink);\n",
       "        }\n",
       "      </script>\n",
       "    </div>\n",
       "  </div>\n",
       "  "
      ],
      "text/plain": [
       "        YTM          PV\n",
       "0 -2.005039  950.977981\n",
       "1  0.000081  999.195179\n",
       "2  0.000054  999.462629"
      ]
     },
     "execution_count": 18,
     "metadata": {},
     "output_type": "execute_result"
    }
   ],
   "source": [
    "def calculate_yield_to_maturity_NRmethod(C, n, F, bond_price):\n",
    "    \n",
    "    # Define a function to calculate the derivative of the present value function\n",
    "    def present_value_derivative(C, r, n, F):\n",
    "        return (C / r**2) * (1 - (1 + r)**(-n)) + (n * C / r) * (1 + r)**(-n-1) - (n * F / (1 + r)**(n+1))\n",
    "    \n",
    "    # Use the Newton-Raphson method to solve for the yield-to-maturity (r)\n",
    "    tolerance = 0.0001\n",
    "    max_iterations = 100\n",
    "    r = 0.05  # Initial guess for r\n",
    "    i = 0\n",
    "    while i < max_iterations:\n",
    "        pv = present_value(C, r, n, F)\n",
    "        pv_deriv = present_value_derivative(C, r, n, F)\n",
    "        r_new = r - (pv - bond_price) / pv_deriv\n",
    "        if abs(r_new - r) < tolerance:\n",
    "            return r_new\n",
    "        r = r_new\n",
    "        i += 1\n",
    "    \n",
    "    # If the method doesn't converge, return None\n",
    "    return None\n",
    "\n",
    "\n",
    "r_1=calculate_yield_to_maturity_NRmethod(40, 10, 1000, 950)\n",
    "r_2=calculate_yield_to_maturity_NRmethod(75, 10, 1000, 1100)\n",
    "r_3=calculate_yield_to_maturity_NRmethod(45, 10, 1000, 900)\n",
    "\n",
    "a_1=present_value(0,r_1,10,1000)\n",
    "a_2=present_value(0,r_2,10,1000)\n",
    "a_3=present_value(0,r_3,10,1000)\n",
    "\n",
    "df=pd.DataFrame([[r_1, a_1],[r_2, a_2],[r_3,a_3]], columns=['YTM','PV'])\n",
    "df"
   ]
  },
  {
   "cell_type": "markdown",
   "metadata": {
    "id": "XGn_CQg65DUo"
   },
   "source": [
    "Problem 2.Find dP/dλ in terms of D and P.\n",
    "\n",
    "$D= \\frac{\\sum^n_{k=0}t_k e^{-\\lambda t_k}c_k}{P}$\n",
    "\n",
    "$P=\\sum^n_{k=0}e^{-\\lambda t_k}c_k$\n",
    "\n",
    "$dP/d\\lambda = \\sum_{k=0}^n- t_k e^{-\\lambda t_k}c_k = -PD$"
   ]
  },
  {
   "cell_type": "code",
   "execution_count": null,
   "metadata": {
    "id": "ekoKb10_uKfW"
   },
   "outputs": [],
   "source": []
  },
  {
   "cell_type": "markdown",
   "metadata": {
    "id": "u-NNN1fSuRGG"
   },
   "source": [
    "Problem 4. \n",
    "Farmer D. Jones has a crop of grapefruit juice that will be ready for\n",
    "harvest and sale as 150, 000 pounds of grapefruit juice in 3 months. Jones is worried\n",
    "about possible price changes, so he is considering hedging. There is no futures contract\n",
    "for grapefruit juice, but there is a futures contract for orange juice. His son, Gavin,\n",
    "recently studied minimum-variance hedging and suggests it as a possible approach.\n",
    "Currently the spot prices are \\$1.20 per pound for orange juice and $1.50 per pound for\n",
    "grapefruit juice. The standard deviation of the prices of orange juice and grapefruit juice\n",
    "is about 20% per year, and the correlation coefficient between them is about .7. What is\n",
    "the minimum variance hedge for farmer Jones, and how effective is this hedge as\n",
    "compared to no hedge?\n"
   ]
  },
  {
   "cell_type": "code",
   "execution_count": null,
   "metadata": {
    "id": "wXgTmFFt1Bif"
   },
   "outputs": [],
   "source": [
    "\n"
   ]
  },
  {
   "cell_type": "markdown",
   "metadata": {
    "id": "hkn_QZvT1DlW"
   },
   "source": [
    "5. A rabbit sits at the bottom of a staircase with n stairs. The rabbit can hop\n",
    "up only one or two or three stairs at a time. How many different combinations are there\n",
    "for the rabbit to ascend to the top of the stairs? Try to solve this problem with Python\n",
    "using recursive function."
   ]
  },
  {
   "cell_type": "code",
   "execution_count": 20,
   "metadata": {
    "colab": {
     "base_uri": "https://localhost:8080/"
    },
    "id": "_dlHBqJ2uVe9",
    "outputId": "af6c71d3-5aa7-45d4-bc80-1aabd92ec3d6"
   },
   "outputs": [
    {
     "name": "stdout",
     "output_type": "stream",
     "text": [
      "274\n"
     ]
    }
   ],
   "source": [
    "def count_ways(n):\n",
    "    if n == 0:\n",
    "        return 1\n",
    "    elif n < 0:\n",
    "        return 0\n",
    "    else:\n",
    "        return count_ways(n-1) + count_ways(n-2) + count_ways(n-3)\n",
    "\n",
    "\n",
    "print(count_ways(10))"
   ]
  }
 ],
 "metadata": {
  "colab": {
   "provenance": []
  },
  "kernelspec": {
   "display_name": "Python 3 (ipykernel)",
   "language": "python",
   "name": "python3"
  },
  "language_info": {
   "codemirror_mode": {
    "name": "ipython",
    "version": 3
   },
   "file_extension": ".py",
   "mimetype": "text/x-python",
   "name": "python",
   "nbconvert_exporter": "python",
   "pygments_lexer": "ipython3",
   "version": "3.9.13"
  }
 },
 "nbformat": 4,
 "nbformat_minor": 1
}
