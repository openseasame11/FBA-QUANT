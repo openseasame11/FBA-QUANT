{
 "cells": [
  {
   "cell_type": "code",
   "execution_count": 24,
   "id": "6c54dab0",
   "metadata": {},
   "outputs": [],
   "source": [
    "import numpy as np\n",
    "import scipy\n",
    "from scipy.stats import norm\n",
    "import matplotlib.pyplot as plt\n",
    "import pandas as pd\n",
    "import math as math"
   ]
  },
  {
   "cell_type": "markdown",
   "id": "f482c558",
   "metadata": {},
   "source": [
    "### 1 - a) YTM으로 무이표채 가격 구하기"
   ]
  },
  {
   "cell_type": "markdown",
   "id": "ef2ffcda",
   "metadata": {},
   "source": [
    "$A_1=950 = \\frac{1000}{(1+i)^{10}}+\\frac{40}{i}\\left\\{1-\\frac{1}{(1+i)^{10}}\\right\\}$\n"
   ]
  },
  {
   "cell_type": "markdown",
   "id": "dc5a2b14",
   "metadata": {},
   "source": [
    "$i = 0.0463613 = YTM$ \n",
    "\n",
    "$10년만기 무이표채 채권가격(A_z) = \\frac{1000}{(1+i)^{10}} = 635.6$"
   ]
  },
  {
   "cell_type": "markdown",
   "id": "ad0a4dfc",
   "metadata": {},
   "source": [
    "### 1 - b) 변동금리채권의 가격"
   ]
  },
  {
   "cell_type": "markdown",
   "id": "efb7b17e",
   "metadata": {},
   "source": [
    "* 문제에서 주어진 3가지 채권과 무이표채를 이용해서 변동금리 채권의 현재가치 식을 구한다.\n",
    "\n",
    "$A_{FRN} = (A_1 + A_2 - A_3 + A_z) / 2 $\n",
    "$ = 892.8 $ "
   ]
  },
  {
   "cell_type": "markdown",
   "id": "3c2506c6",
   "metadata": {},
   "source": [
    "### 2) lambda에 대한 미분 (의미찾기)"
   ]
  },
  {
   "cell_type": "markdown",
   "id": "88d6081a",
   "metadata": {},
   "source": [
    "$\\frac{dP}{d\\lambda} = \\sum_{k=0}^n(-c_k e^{-\\lambda t_k})t_k = -PD$"
   ]
  },
  {
   "cell_type": "markdown",
   "id": "b7b67e9b",
   "metadata": {},
   "source": [
    "### 3 - a)"
   ]
  },
  {
   "cell_type": "markdown",
   "id": "ea976758",
   "metadata": {},
   "source": [
    "* t-1시점에 받은 금액은 t시점의 받은 금액과 이자를 1시점 앞으로 평가금액과 같음을 의미하는 식\n",
    "   \n",
    "   $V_{i-1}(S_i + d_i) = \\frac{S_i + d_i}{1+r_i} = S_{i-1}.$\n",
    "\n",
    "\n",
    "* 보험수리학의 할인률과 같은 개념\n",
    "\n",
    "    $V_{i-1}(r_i) = \\frac{r_i}{1+r_i}$\n"
   ]
  },
  {
   "cell_type": "markdown",
   "id": "1caa68d8",
   "metadata": {},
   "source": [
    "### 3 - b)"
   ]
  },
  {
   "cell_type": "markdown",
   "id": "f6c0d633",
   "metadata": {},
   "source": [
    "$V_{0}(r_i) = \\frac{r_i}{(1+r_i)(1+r_{i-1})\\cdots(1+r_2)(1+r_1)}$"
   ]
  },
  {
   "cell_type": "markdown",
   "id": "3ea79028",
   "metadata": {},
   "source": [
    "### 3 - c)"
   ]
  },
  {
   "cell_type": "markdown",
   "id": "faa7a1f7",
   "metadata": {},
   "source": [
    "$\\sum^m_{i=1} V_0(r_i) = \\frac{r_1}{(1+r_1)} + \\frac{r_2}{(1+r_1)(1+r_2)}+ \\cdots + \\frac{r_m}{(1+r_1)(1+r_2)\\cdots(1+r_m)}$"
   ]
  },
  {
   "cell_type": "markdown",
   "id": "7069d737",
   "metadata": {},
   "source": [
    "### 3 - d)"
   ]
  },
  {
   "cell_type": "markdown",
   "id": "b90a0d1b",
   "metadata": {},
   "source": [
    "### 4 )"
   ]
  },
  {
   "cell_type": "code",
   "execution_count": null,
   "id": "70cdd0a5",
   "metadata": {},
   "outputs": [],
   "source": []
  },
  {
   "cell_type": "markdown",
   "id": "d80ddaea",
   "metadata": {},
   "source": [
    "### 5 ) 재귀식 세우기"
   ]
  },
  {
   "cell_type": "code",
   "execution_count": 32,
   "id": "c472c738",
   "metadata": {},
   "outputs": [
    {
     "name": "stdout",
     "output_type": "stream",
     "text": [
      "7\n",
      "4\n",
      "13\n",
      "The number of stairs is an integer.\n"
     ]
    }
   ],
   "source": [
    "def stairs (n):\n",
    "    if n < 0 :\n",
    "        return 0\n",
    "    \n",
    "    elif n == 0 :\n",
    "        return 1\n",
    "    \n",
    "    elif int(n) != n:\n",
    "        return \"The number of stairs is an integer.\"\n",
    "    \n",
    "    else:\n",
    "        return stairs(n - 3) + stairs(n - 2) + stairs(n - 1)\n",
    "\n",
    "    \n",
    "## 예시\n",
    "print(stairs(4))\n",
    "print(stairs(3))\n",
    "print(stairs(5))\n",
    "print(stairs(5.3))"
   ]
  },
  {
   "cell_type": "code",
   "execution_count": null,
   "id": "5a76a4fa",
   "metadata": {},
   "outputs": [],
   "source": []
  }
 ],
 "metadata": {
  "kernelspec": {
   "display_name": "Python 3 (ipykernel)",
   "language": "python",
   "name": "python3"
  },
  "language_info": {
   "codemirror_mode": {
    "name": "ipython",
    "version": 3
   },
   "file_extension": ".py",
   "mimetype": "text/x-python",
   "name": "python",
   "nbconvert_exporter": "python",
   "pygments_lexer": "ipython3",
   "version": "3.9.13"
  }
 },
 "nbformat": 4,
 "nbformat_minor": 5
}
