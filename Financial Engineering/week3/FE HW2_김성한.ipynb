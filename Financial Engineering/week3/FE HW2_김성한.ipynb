{
 "cells": [
  {
   "cell_type": "markdown",
   "id": "233d91ec",
   "metadata": {},
   "source": [
    "# FE HW2_김성한"
   ]
  },
  {
   "cell_type": "markdown",
   "id": "b1dbb369",
   "metadata": {},
   "source": [
    "# Problem 1.\n",
    "There are three bonds in the market as follows:\n",
    "1. A bond with 4% coupon rate (paid annually), 10 years to maturity, and $1,000 face value\n",
    "\n",
    "\n",
    "2. A bond with 4% plus current (short) rate (paid annually), 10 years to maturity, and $1,000 face value\n",
    "\n",
    "\n",
    "3. A bond with 8% minus current (short) rate (paid annually), 10 years to maturity, and $1,000 face value\n",
    "\n",
    "\n",
    "The prices of the bonds are ${$950}$, ${$1,100}$, and ${$900}$ dollars, respectively."
   ]
  },
  {
   "cell_type": "markdown",
   "id": "9d029f01",
   "metadata": {},
   "source": [
    "#### (a) Derive the price of a zero-coupon bond with 10 years to maturity and $1,000 face value."
   ]
  },
  {
   "cell_type": "markdown",
   "id": "6e4d71ba",
   "metadata": {},
   "source": [
    "solution:\n",
    "\n",
    "The price of a zero-coupon bond with 10 year to maturity and $1,000 face value is\n",
    "\n",
    "$$ P = \\frac{F}{(1+r)^n}$$\n",
    "where F is face value, r is interest rate and n is the number of years remaining to maturity.<br/>\n",
    "\n",
    "Using the three bonds in the market, we can derive the current rate and yield.\n",
    "\n",
    "$$ P_{Bond1} = 950 = \\frac{40}{r}(1-\\frac{1}{(1+r)^{10}}) + \\frac{1000}{(1+r)^{10}}$$\n",
    "$$ P_{Bond2} = 1100 = \\frac{40+c_i}{r}(1-\\frac{1}{(1+r)^{10}}) + \\frac{1000}{(1+r)^{10}} $$\n",
    "$$ P_{Bond3} = 900 = \\frac{80-c_i}{r}(1-\\frac{1}{(1+r)^{10}}) + \\frac{1000}{(1+r)^{10}} $$\n",
    "\n",
    "\n",
    "The fomula of the zero-coupond bond with 10 year to maturity with 1,000 dollar face value is\n",
    "$$ \\frac{1000}{(1+r)^{10}} $$ <br/>\n",
    "Suppose the we have two of Bond1, each of Bond2 and 3. And they have the same YTM. <br/>\n",
    "Combine these bonds in two ways; One is comebining the two of Bond1 and the other is combining the Bond of 2 and 3.\n",
    "\n",
    "The price of first way is <br/>\n",
    "$$ 1900 =  \\frac{80}{r}(1-\\frac{1}{(1+r)^{10}}) + \\frac{2000}{(1+r)^{10}} $$\n",
    "\n",
    "And the price of second way is <br/>\n",
    "$$ 2000 = \\frac{40+c_i+80-c_i}{r}(1-\\frac{1}{(1+r)^{10}}) + \\frac{2000}{(1+r)^{10}} $$\n",
    "\n",
    "Subtract the second way from the fist way, <br/>\n",
    "\n",
    "$$ 2000 - 1900 = 100 = \\frac{120}{r}(1-\\frac{1}{(1+r)^{10}}) - \\frac{80}{r}(1-\\frac{1}{(1+r)^{10}}) = \\frac{40}{r}(1-\\frac{1}{(1+r)^{10}}) $$<br/>\n",
    "\n",
    "Since the price of bond 1 is $950 = \\frac{40}{r}(1-\\frac{1}{(1+r)^{10}}) + \\frac{1000}{(1+r)^{10}}$, <br/>\n",
    "\n",
    "$$ \\frac{1000}{(1+r)^{10}} = 950 - \\frac{40}{r}(1-\\frac{1}{(1+r)^{10}}) = 950 - 100 = 850 $$\n",
    "\n",
    "Therefore, the price of a zero-coupon bond with 10 year to maturity and $1,000 face value is 850 dollars."
   ]
  },
  {
   "cell_type": "markdown",
   "id": "1f76417b",
   "metadata": {},
   "source": [
    "#### (b) Derive the price of a floating-rate bond (coupon paid annually) with 10 years to maturity and $1,000 face value."
   ]
  },
  {
   "cell_type": "markdown",
   "id": "31a405ac",
   "metadata": {},
   "source": [
    "solution:\n",
    "\n",
    "The price of a floating-rate bond is equal to its face value F. Therefore, the price of a floating-rate bond is 1000 dollars."
   ]
  },
  {
   "cell_type": "markdown",
   "id": "a4a39be6",
   "metadata": {},
   "source": [
    "# Problem 2.\n",
    "Under continuous compounding the Macaulay duration becomes\n",
    "$$ D = \\frac{\\Sigma_{k=0}^{n}t_ke^{-\\lambda t_k}c_k}{P} $$\n",
    "Where $\\lambda$ is the yield and\n",
    "$$ P = \\Sigma_{k=0}^{n}e^{-\\lambda t_k}c_k$$\n",
    "\n",
    "Find $\\frac{dP}{d\\lambda}$ in temrs of D and P."
   ]
  },
  {
   "cell_type": "markdown",
   "id": "9bd2419a",
   "metadata": {},
   "source": [
    "solution:\n",
    "\n",
    "$ P = \\Sigma_{k=0}^{n}e^{-\\lambda t_k}c_k = \\Sigma_{k=0}^{n} PV_k $\n",
    "\n",
    "$ \\frac{dP}{d\\lambda} = \\Sigma_{k=0}^{n} \\frac{dPV_k}{d\\lambda} = - \\Sigma_{k=0}^{n}t_ke^{-\\lambda t_k}c_k $\n",
    "\n",
    "Since $ D = \\frac{\\Sigma_{k=0}^{n}t_ke^{-\\lambda t_k}c_k}{P}$, $ DP = \\Sigma_{k=0}^{n}t_ke^{-\\lambda t_k}c_k $\n",
    "\n",
    "Therefore, $ \\frac{dP}{d\\lambda} = -DP $."
   ]
  },
  {
   "cell_type": "markdown",
   "id": "497e0353",
   "metadata": {},
   "source": [
    "# Problem 3.\n",
    "Mr A. Gaylord manages a pension fund and believes that the his stock selection ability is excellent. However, he is worried because the market could go down. He considers entering an equity swap where each quarter i, up to quarter M, he pays counterparty B the previous quarters total rate of return $r_i$ on the S&P 500 index times some notional principal and receives payments at a fixed rate r on the same principal. The total rate of return includes dividends. Specifically, $1+r_i = \\frac{S_i + d_i}{S_{i-1}}$,where $S_i$ and $d_i$are the values of the index at i and the dividends received from i − 1 to i, \n",
    "respectively. Derive the value of such a swap by the following steps:"
   ]
  },
  {
   "cell_type": "markdown",
   "id": "b92d1fb4",
   "metadata": {},
   "source": [
    "#### (a) Let $V_{i-1}(S_i + d_i)$ denote the value at time i-1 of receiving $S_i +d_i$ at time i. Argue that $V_{i-1}(S_i + d_i) = S_{i-1}$ and find $V_{i-1}(r_i)$."
   ]
  },
  {
   "cell_type": "markdown",
   "id": "ec06da31",
   "metadata": {},
   "source": [
    "solution:\n",
    "\n",
    "$V_{i-1}(S_i + d_i)$ denotes the value at time i-1 of receiving $S_i +d_i$ at time i.\n",
    "\n",
    "Since $1+r_i = \\frac{S_i + d_i}{S_{i-1}}$, $S_{i-1}(1+r_i) = S_i + d_i$  means that the value at time i of receiving $S_i +d_i$ at time i.\n",
    "\n",
    "Therefore, $S_{i-1} = \\frac{S_i + d_i}{(1+r_i)} = V_{i-1}(S_i + d_i)$. (True)\n",
    "\n",
    "$ V_{i-1}(r_i) = V_{i-1}(\\frac{S_i + d_i}{S_{i-1}} - 1) = \\frac{V_{i-1}(S_i + d_i)}{S_{i-1}} - V_{i-1}(1) = 1 - V_{i-1}(1) = 1 - d(i-1,i) $   where $ d(i-1, i) $ is the discount rate at time i-1 to time i."
   ]
  },
  {
   "cell_type": "markdown",
   "id": "91035013",
   "metadata": {},
   "source": [
    "#### (b) Find $V_0(r_i)$."
   ]
  },
  {
   "cell_type": "markdown",
   "id": "a8c28c66",
   "metadata": {},
   "source": [
    "$ V_{0}(r_i) = d(0,i-1)[1-d(i-1,i)]=d(0,i-1)-d(0,i)$"
   ]
  },
  {
   "cell_type": "markdown",
   "id": "fc73d62c",
   "metadata": {},
   "source": [
    "#### (c) Find $ \\Sigma_{i=1}^{M} V_0(r_i) $"
   ]
  },
  {
   "cell_type": "markdown",
   "id": "db4f3bc1",
   "metadata": {},
   "source": [
    "$ \\Sigma_{i=1}^{M} V_0(r_i) = [d(0,0) - d(0,1)]+[d(0,1)-d(0,2)]+ ... + [d(0,M-1)- d(0,M)]= 1-d(0,M) $"
   ]
  },
  {
   "cell_type": "markdown",
   "id": "01d8bfd0",
   "metadata": {},
   "source": [
    "#### (d) Find the value of the swap"
   ]
  },
  {
   "cell_type": "markdown",
   "id": "f280f11d",
   "metadata": {},
   "source": [
    "The value of the swap = {$ \\Sigma_{i=1}^{M}d(0,i)r - [1-d(0,M)] $ }$N$. <br/>\n",
    "The first term can be reduced using the formula of the previous excercise."
   ]
  },
  {
   "cell_type": "markdown",
   "id": "27839d5a",
   "metadata": {},
   "source": [
    "# Problem 4.\n",
    "\n",
    "Farmer D. Jones has a crop of grapefruit juice that will be ready for harvest and sale as 150, 000 pounds of grapefruit juice in 3 months. Jones is worried about possible price changes, so he is considering hedging. There is no futures contract for grapefruit juice, but there is a futures contract for orange juice. His son, Gavin, recently studied minimum-variance hedging and suggests it as a possible approach. Currently the spot prices are 1.20 dollar per pound for orange juice and 1.50 dollar per pound for grapefruit juice. The standard deviation of the prices of orange juice and grapefruit juice is about 20% per year, and the correlation coefficient between them is about .7. What is the minimum variance hedge for farmer Jones, and how effective is this hedge as compared to no hedge?"
   ]
  },
  {
   "cell_type": "markdown",
   "id": "c14869a9",
   "metadata": {},
   "source": [
    "solution:\n",
    "\n",
    "$ h =  - \\beta W = - \\rho \\frac{\\sigma_G}{\\sigma_O} \\frac{S_G}{S_0} 150,000 = -(0.7)(\\frac{0.2}{0.2})(\\frac{$1.50}{$1.20})150,000 = -131,250$ <br/>\n",
    "\n",
    "Therefore, the farmer should shor 131125 pounds of orange juice.<br/>\n",
    "\n",
    "effectiveness of the hedage : Using standard deviation\n",
    "\n",
    "$$ \\sigma_{new} = \\sqrt{1-\\rho^2}\\sigma_{old} = \\sqrt{1-(0.7)^2}\\sigma_{old} \\approx 0.714\\sigma_{old} $$ "
   ]
  },
  {
   "cell_type": "markdown",
   "id": "04becd1d",
   "metadata": {},
   "source": [
    "# Problem 5.\n",
    "\n",
    "A rabbit sits at the bottom of a staircase with n stairs. The rabbit can hop up only one or two or three stairs at a time. How many different combinations are there for the rabbit to ascend to the top of the stairs? Try to solve this problem with Python using recursive function."
   ]
  },
  {
   "cell_type": "code",
   "execution_count": 1,
   "id": "f6845fe6",
   "metadata": {},
   "outputs": [
    {
     "name": "stdout",
     "output_type": "stream",
     "text": [
      "5\n",
      "0\n",
      "0\n",
      "0\n",
      "2\n"
     ]
    }
   ],
   "source": [
    "def rabit_hop(n):\n",
    "    \n",
    "    if int(n)!=n:\n",
    "        return 0\n",
    "    if n<=0:\n",
    "        return 0\n",
    "    \n",
    "    if n==1:\n",
    "        return 1\n",
    "    elif n==2:\n",
    "        return 2\n",
    "    else:\n",
    "        return(rabit_hop(n-1)+rabit_hop(n-2))\n",
    "    \n",
    "print(rabit_hop(4))\n",
    "print(rabit_hop(0))\n",
    "print(rabit_hop(-1))\n",
    "print(rabit_hop(1.3))\n",
    "print(rabit_hop(2))"
   ]
  }
 ],
 "metadata": {
  "kernelspec": {
   "display_name": "Python 3 (ipykernel)",
   "language": "python",
   "name": "python3"
  },
  "language_info": {
   "codemirror_mode": {
    "name": "ipython",
    "version": 3
   },
   "file_extension": ".py",
   "mimetype": "text/x-python",
   "name": "python",
   "nbconvert_exporter": "python",
   "pygments_lexer": "ipython3",
   "version": "3.9.16"
  }
 },
 "nbformat": 4,
 "nbformat_minor": 5
}
