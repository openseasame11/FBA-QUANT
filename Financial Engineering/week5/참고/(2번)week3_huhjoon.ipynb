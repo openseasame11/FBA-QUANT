{
 "cells": [
  {
   "cell_type": "markdown",
   "id": "7f7be30c",
   "metadata": {},
   "source": [
    "1. 시간 부족으로 못함"
   ]
  },
  {
   "cell_type": "code",
   "execution_count": 2,
   "id": "9cfd47f0",
   "metadata": {},
   "outputs": [
    {
     "data": {
      "text/plain": [
       "2.4492790487804874"
      ]
     },
     "execution_count": 2,
     "metadata": {},
     "output_type": "execute_result"
    }
   ],
   "source": [
    "#2번\n",
    "u=1.05\n",
    "d=1/1.05\n",
    "rf=1.0001\n",
    "\n",
    "q=(rf-d)/(u-d)\n",
    "\n",
    "s0=100\n",
    "s1u=100*u\n",
    "s1d=100*d\n",
    "s2uu=100*u*u\n",
    "s2ud=100\n",
    "s2dd=100*d*d\n",
    "\n",
    "\n",
    "c2uu=s2uu-100\n",
    "c1u=c2uu*q\n",
    "c0=c1u*q\n",
    "\n",
    "c0\n",
    "\n",
    "#american call 동일"
   ]
  },
  {
   "cell_type": "code",
   "execution_count": null,
   "id": "582468de",
   "metadata": {},
   "outputs": [],
   "source": [
    "#3. 시간 부족으로 못함"
   ]
  },
  {
   "cell_type": "code",
   "execution_count": 4,
   "id": "e1d1b00c",
   "metadata": {},
   "outputs": [
    {
     "data": {
      "text/plain": [
       "1.1"
      ]
     },
     "execution_count": 4,
     "metadata": {},
     "output_type": "execute_result"
    }
   ],
   "source": [
    "#4번\n",
    "gs=[1.6,1.5,1.4,1.3,1.2,1.15,1.1,1.05,1.02,1.01]\n",
    "\n",
    "u=1.2\n",
    "d=0.9\n",
    "rf=1.1\n",
    "\n",
    "price=2\n",
    "s0=5\n",
    "\n",
    "q=(rf-d)/(u-d)\n",
    "\n",
    "print(q*u+(1-q)*d)\n",
    "#a. 기대값이 1.1이므로, 가격 상승, 그리고 나무의 성장으로 반드시 이익.\n",
    "\n",
    "#b\n",
    "8.8\t14.52\t22.3608\t31.975944\t42.20824608\t53.39343129\t64.60605186\t74.6199899\t83.72362867\t93.01695145\n",
    "엑셀로 풀었을 때, 여전히 매년 비용보다 상승 기대값이 크다. 따라서 자르지 않음."
   ]
  },
  {
   "cell_type": "markdown",
   "id": "be668c8f",
   "metadata": {},
   "source": [
    "5번\n",
    "p_k=p*p_(k+1)+(1-p)*p_(k-1)\n",
    "\n",
    "(p_(k+1)-p_k)=((1-p)/p)(p_k-p_(k-1))\n",
    "\n",
    "p_0=0\n",
    "p_n=1\n",
    "P1=pP2\n",
    "\n",
    "P2=[1+q/p]P1\n",
    "P3=[1+q/p+(q/p)^2]...\n",
    "\n",
    "pi=[1+(q/p)..(q/p)^(i-1)]P1\n",
    "\n",
    "Pn=1\n",
    "q=p때 Pn=Np => p1=1/N\n",
    "아닐 때 (1-(q/p)^N)/(1-q/p)=> p1=(1-q/p)/(1-(q/p)^n)\n",
    "\n",
    "pi= i/N 혹은 (1-(q/p)^i)/(1-(q/p)^n)P1\n",
    "\n",
    "\n"
   ]
  },
  {
   "cell_type": "markdown",
   "id": "7737eee8",
   "metadata": {},
   "source": [
    "6번\n",
    "반드시 바꿔야 함.\n",
    "2/3"
   ]
  },
  {
   "cell_type": "code",
   "execution_count": null,
   "id": "cfc5824d",
   "metadata": {},
   "outputs": [],
   "source": [
    "#7\n",
    "\n",
    "import numpy as np\n",
    "class Solution(object):\n",
    "    def maxProfit(self, prices):\n",
    "        \"\"\"\n",
    "        :type prices: List[int]\n",
    "        :rtype: int\n",
    "        \"\"\"\n",
    "\n",
    "        min_price=prices[0]\n",
    "        max_prof=0\n",
    "\n",
    "        for i in range(1,len(prices)):\n",
    "            if prices[i]<min_price:\n",
    "                min_price=prices[i]\n",
    "            else:\n",
    "                if(prices[i]>min_price):\n",
    "                    max_prof+=prices[i]-min_price\n",
    "                    min_price=prices[i]\n",
    "\n",
    "        return max_prof\n"
   ]
  },
  {
   "cell_type": "code",
   "execution_count": 7,
   "id": "0ea0efb3",
   "metadata": {},
   "outputs": [
    {
     "data": {
      "text/plain": [
       "0"
      ]
     },
     "execution_count": 7,
     "metadata": {},
     "output_type": "execute_result"
    }
   ],
   "source": [
    "#8\n",
    "class Solution(object):\n",
    "    def firstUniqChar(self, s):\n",
    "        \"\"\"\n",
    "        :type s: str\n",
    "        :rtype: int\n",
    "        \"\"\"\n",
    "\n",
    "        check=[0 for _ in range(26)]\n",
    "        \n",
    "        for i in s:\n",
    "            check[ord(i)-97]+=1\n",
    "        for i in range(len(s)):\n",
    "            if check[ord(s[i])-97]==1:\n",
    "                return i\n",
    "        return -1"
   ]
  }
 ],
 "metadata": {
  "kernelspec": {
   "display_name": "Python 3 (ipykernel)",
   "language": "python",
   "name": "python3"
  },
  "language_info": {
   "codemirror_mode": {
    "name": "ipython",
    "version": 3
   },
   "file_extension": ".py",
   "mimetype": "text/x-python",
   "name": "python",
   "nbconvert_exporter": "python",
   "pygments_lexer": "ipython3",
   "version": "3.9.12"
  },
  "toc": {
   "base_numbering": 1,
   "nav_menu": {},
   "number_sections": true,
   "sideBar": true,
   "skip_h1_title": false,
   "title_cell": "Table of Contents",
   "title_sidebar": "Contents",
   "toc_cell": false,
   "toc_position": {},
   "toc_section_display": true,
   "toc_window_display": false
  },
  "varInspector": {
   "cols": {
    "lenName": 16,
    "lenType": 16,
    "lenVar": 40
   },
   "kernels_config": {
    "python": {
     "delete_cmd_postfix": "",
     "delete_cmd_prefix": "del ",
     "library": "var_list.py",
     "varRefreshCmd": "print(var_dic_list())"
    },
    "r": {
     "delete_cmd_postfix": ") ",
     "delete_cmd_prefix": "rm(",
     "library": "var_list.r",
     "varRefreshCmd": "cat(var_dic_list()) "
    }
   },
   "types_to_exclude": [
    "module",
    "function",
    "builtin_function_or_method",
    "instance",
    "_Feature"
   ],
   "window_display": false
  }
 },
 "nbformat": 4,
 "nbformat_minor": 5
}
