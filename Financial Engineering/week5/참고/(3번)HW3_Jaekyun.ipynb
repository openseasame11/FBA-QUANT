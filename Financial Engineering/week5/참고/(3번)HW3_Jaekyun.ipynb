{
 "cells": [
  {
   "attachments": {},
   "cell_type": "markdown",
   "metadata": {},
   "source": [
    "# Problem 1\n",
    "\n",
    "$q = \\frac{R-d}{u-d}$"
   ]
  },
  {
   "cell_type": "code",
   "execution_count": null,
   "metadata": {},
   "outputs": [],
   "source": [
    "import math\n",
    "import numpy as np\n",
    "\n",
    "def combos(n, i):\n",
    "    return math.factorial(n) / (math.factorial(n-i)*math.factorial(i))\n",
    "\n",
    "\n",
    "def hmm(type_, N = 15, sigma = 0.3, dt=0.25, r = 0.02, S0=100, K=1100, c = 0.01):\n",
    "    u = np.exp(sigma * np.sqrt(dt))\n",
    "    d = np.exp(-sigma * np.sqrt(dt))\n",
    "    p = (  np.exp(r*dt) - d - c)  /  (  u - d )\n",
    "    value = 0 \n",
    "    for i in range(N+1):\n",
    "        node_prob = combos(N, i)*p**i*(1-p)**(N-i)\n",
    "        ST = S0*(u)**i*(d)**(N-i)\n",
    "        if type_ == 'call':\n",
    "            if (val := value - ST) > 0:\n",
    "            value += max(ST-K,0) * node_prob\n",
    "        elif type_ == 'put':\n",
    "            value += max(K-ST, 0)*node_prob\n",
    "        else:\n",
    "            raise ValueError(\"type_ must be 'call' or 'put'\" )\n",
    "    return value*np.exp(-r*N*dt)\n",
    "\n",
    "print(hmm(type_ = 'call'))"
   ]
  },
  {
   "attachments": {},
   "cell_type": "markdown",
   "metadata": {},
   "source": [
    "# Problem 2\n",
    "\n",
    "## (a)\n",
    "\n",
    "```\n",
    "         110.25\n",
    "        /\n",
    "     105\n",
    "    /   \\\n",
    "100      100\n",
    "    \\   /\n",
    "     95.24\n",
    "        \\\n",
    "         90.7\n",
    "```\n",
    "\n",
    "$q = \\frac{R-d}{u-d} = 0.49$\n",
    "\n",
    "$C_0 = 10.25 * (q^3)/(1.0001)^2 = 1.197$\n",
    "\n",
    "## (b)\n",
    "\n",
    "It's never optimal to early exercise an American call option on non-dividend paying stock. So the result is the same"
   ]
  },
  {
   "attachments": {},
   "cell_type": "markdown",
   "metadata": {},
   "source": [
    "# Problem 3\n",
    "\n",
    "Look at the exponent term \n",
    "\n",
    "$(-w^2 +2(\\bar{w}- \\sigma^2)w -\\bar{w}^2)/2\\sigma^2$\n",
    "\n",
    "$(- (w - (\\bar{w} - \\sigma^2))^2 + (\\bar{w} - \\sigma^2)^2 - \\bar{w}^2)/2\\sigma^2$\n",
    "\n",
    "new mean is now $\\bar{w} - \\sigma^2$ \n",
    "\n",
    "$\\bar{u} = e^{((\\bar{w} - \\sigma^2)^2 - \\bar{w}^2)/2\\sigma^2}"
   ]
  },
  {
   "attachments": {},
   "cell_type": "markdown",
   "metadata": {},
   "source": [
    "# Problem 4\n",
    "\n",
    "This really reminds me of American option price\n",
    "\n",
    "Since $u > R > d$, $q = (R-d)/(u-d)= 0.67$\n"
   ]
  },
  {
   "cell_type": "code",
   "execution_count": null,
   "metadata": {},
   "outputs": [],
   "source": [
    "import math\n",
    "\n",
    "def combos(n, i):\n",
    "    return math.factorial(n) / (math.factorial(n-i)*math.factorial(i))\n",
    "\n",
    "\n",
    "def hmm(S0=5, K=0, R = 1.1, N=10):\n",
    "    growth_rate = [1.6,1.5,1.4,1.3,1.2,\n",
    "                   1.15,1.1,1.05,1.02,1.01]\n",
    "    u = 1.2\n",
    "    d = 0.9\n",
    "    p = (R-d)/(u-d)\n",
    "    value = 0 \n",
    "    for i in range(N+1):\n",
    "        node_prob = combos(N, i)*p**i*(1-p)**(N-i)\n",
    "        ST = S0*(u)**i*(d)**(N-i)\n",
    "        if ST < K:\n",
    "            print('ringring')\n",
    "        value += max(ST-K,0) * node_prob\n",
    "    return value/(R**10)"
   ]
  },
  {
   "attachments": {},
   "cell_type": "markdown",
   "metadata": {},
   "source": [
    "# Problem 5\n",
    "\n",
    "Let $R_n$ denote the total fortune after the $n$ th gamble\n",
    "\n",
    "Let \n",
    "\n",
    "$\\tau_i = \\min\\{n \\geq 0: R_n \\in \\{0, N\\}|R_0 = i\\}$\n",
    "\n",
    "$P_i = P(R_{\\tau_i} = N)$ is the probability we want\n",
    "\n",
    "$P_i = p P_{i+1} + q P_{i-1}$ \n",
    "\n",
    "if one wins first gamble, it's now $P_{i+1}$, if one loses then it's $P_{i-1}$\n",
    "\n",
    "$P_{i+1} - P_i = \\frac{q}{p} (P_i - P_{i-1})$\n",
    "\n",
    "since $P_0 = 0$, \n",
    "\n",
    "$P_{i+1} - P_i = (q/p)^i P_1\n",
    "\n",
    "also, $P_{i+1} - P_1 = \\sum_{k=1}^i P_{k+1} - P_k = \\sum_{k=1}^i (q/p)^k P_1$\n",
    "\n",
    "$P_{i+1} = P_1 \\frac{1-(q/p)^{i+1}}{1-(q/p)}$ or $P_1 (i+1)$ for $p=q$\n",
    "\n",
    "We also know $P_N =1$ so can express $P_1$\n",
    "\n"
   ]
  },
  {
   "attachments": {},
   "cell_type": "markdown",
   "metadata": {},
   "source": [
    "# Problem 6\n",
    "\n",
    "$$P(A) = \\sum_{i=1}^N P(A \\cap B_i)$$\n",
    "\n",
    "Door 1,2,3. Let car is behind door 1 WLOG\n",
    "\n",
    "i) You initially picked 1\n",
    "\n",
    "Monty will choose any door 2 or 3. If you change you get to lose\n",
    "\n",
    "ii) you initially picked 2\n",
    "\n",
    "Monty will choose door 3. If you change you get to win\n",
    "\n",
    "iii) you initially picked 3\n",
    "\n",
    "Monty will choose door 2. If you change you get to win\n",
    "\n",
    "$2/3$"
   ]
  }
 ],
 "metadata": {
  "kernelspec": {
   "display_name": "Python 3",
   "language": "python",
   "name": "python3"
  },
  "language_info": {
   "name": "python",
   "version": "3.8.2"
  },
  "orig_nbformat": 4,
  "vscode": {
   "interpreter": {
    "hash": "7e85ec9bf098c5427e45e2f632dcd4eeff803b007e1abd287d600879388709c1"
   }
  }
 },
 "nbformat": 4,
 "nbformat_minor": 2
}
