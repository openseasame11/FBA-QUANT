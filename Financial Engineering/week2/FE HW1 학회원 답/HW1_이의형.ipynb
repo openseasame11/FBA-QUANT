{
 "cells": [
  {
   "cell_type": "markdown",
   "id": "299e3799",
   "metadata": {},
   "source": [
    "# FE Homework 1\n",
    "**FBA Quant 이의형**"
   ]
  },
  {
   "cell_type": "markdown",
   "id": "14691e2b-2980-4714-b873-17f58d3c146c",
   "metadata": {},
   "source": [
    "---"
   ]
  },
  {
   "cell_type": "markdown",
   "id": "5c8d02f6",
   "metadata": {},
   "source": [
    "## Problem 1.  \n",
    "An investor deposits $15,000 in a bank today at 6% annual interest.  \n",
    "Assuming that no additional deposits are made, and that no money is withdrawn, how large will the account balance be 23 years from today if  \n",
    "- (a) the interest is computed using the simple interest convention?  \n",
    "- (b) the interest is compounded annually?  \n",
    "- (c) the interest is compounded quarterly?  \n",
    "- (d) the interest is compounded monthly?  \n",
    "- (e) the interest is compounded continuously?  \n",
    "\n",
    "(You should assume that the 6% annual interest rate applies to deposits of any length.)"
   ]
  },
  {
   "cell_type": "code",
   "execution_count": 1,
   "id": "64a2c45c",
   "metadata": {},
   "outputs": [
    {
     "name": "stdout",
     "output_type": "stream",
     "text": [
      "(a) $35700.00\n",
      "(b) $57296.24\n",
      "(c) $59015.64\n",
      "(d) $59418.86\n",
      "(e) $59623.52\n"
     ]
    }
   ],
   "source": [
    "import numpy as np\n",
    "\n",
    "money = 15000\n",
    "r = 0.06\n",
    "year = 23\n",
    "\n",
    "# (a)\n",
    "simple_interest = money * (1 + (r * year))\n",
    "print(f\"(a) ${simple_interest:.2f}\")\n",
    "\n",
    "# (b)\n",
    "cum_annually = money * (1 + r)**year\n",
    "print(f\"(b) ${cum_annually:.2f}\")\n",
    "\n",
    "# (c)\n",
    "cum_quarterly = money * (1 + r/4)**(year*4)\n",
    "print(f\"(c) ${cum_quarterly:.2f}\")\n",
    "\n",
    "# (d)\n",
    "cum_monthly = money * (1 + r/12)**(year*12)\n",
    "print(f\"(d) ${cum_monthly:.2f}\")\n",
    "\n",
    "# (e)\n",
    "cum_continuously = money * np.exp(year*r)\n",
    "print(f\"(e) ${cum_continuously:.2f}\")"
   ]
  },
  {
   "cell_type": "markdown",
   "id": "ebf31d23-d6b3-432e-9b51-2fc39aaa384f",
   "metadata": {},
   "source": [
    "---"
   ]
  },
  {
   "cell_type": "markdown",
   "id": "87555831",
   "metadata": {},
   "source": [
    "## Problem 2. \n",
    "If you buy a lottery ticket in 50 lotteries, in each of which your chances of winning a prize of 1/100, what is the probability that you will win a prize:  \n",
    "- (a) at least once?\n",
    "- (b) exactly twice?\n",
    "- (c) at least twice?  \n",
    "\n",
    "Calculate both the exact probabilities (using the binomial distribution) and the approximate probabilities (using the Poisson distribution)."
   ]
  },
  {
   "cell_type": "code",
   "execution_count": 2,
   "id": "fc04d5a1",
   "metadata": {},
   "outputs": [
    {
     "name": "stdout",
     "output_type": "stream",
     "text": [
      "(a) binomial : 0.3950\n",
      "    poisson : 0.3935\n",
      "(b) binomial : 0.0756\n",
      "    poisson : 0.0758\n",
      "(c) binomial : 0.0894\n",
      "    poisson : 0.0902\n"
     ]
    }
   ],
   "source": [
    "import math\n",
    "import numpy\n",
    "\n",
    "trial = 50\n",
    "prob = 1/100\n",
    "\n",
    "def binomial_p(n, p, x):\n",
    "    return (math.factorial(n)/(math.factorial(x)*math.factorial(n-x))) * (p**x) * ((1-p)**(n-x))\n",
    "\n",
    "def poisson_p(lambda_p, T, x):\n",
    "    alpha_p = lambda_p * T\n",
    "    return (alpha_p**x) * np.exp(-alpha_p) / math.factorial(x)\n",
    "\n",
    "\n",
    "# (a)\n",
    "at_least_once_bi = 1 - binomial_p(trial, prob, 0)\n",
    "at_least_once_po = 1 - poisson_p(prob, trial, 0)\n",
    "print(f'(a) binomial : {at_least_once_bi:.4f}')\n",
    "print(f'    poisson : {at_least_once_po:.4f}')\n",
    "\n",
    "# (b)\n",
    "exactly_twice_bi = binomial_p(trial, prob, 2)\n",
    "exactly_twice_po = poisson_p(prob, trial, 2)\n",
    "print(f'(b) binomial : {exactly_twice_bi:.4f}')\n",
    "print(f'    poisson : {exactly_twice_po:.4f}')\n",
    "\n",
    "# (c)\n",
    "at_least_twice_bi = 1 - binomial_p(trial, prob, 0) - binomial_p(trial, prob, 1)\n",
    "at_least_twice_po = 1 - poisson_p(prob, trial, 0) - poisson_p(prob, trial, 1)\n",
    "print(f'(c) binomial : {at_least_twice_bi:.4f}')\n",
    "print(f'    poisson : {at_least_twice_po:.4f}')"
   ]
  },
  {
   "cell_type": "markdown",
   "id": "bd351065-d21d-456a-83da-e793a48d29aa",
   "metadata": {},
   "source": [
    "---"
   ]
  },
  {
   "cell_type": "markdown",
   "id": "2691a4df",
   "metadata": {},
   "source": [
    "## Problem 3.\n",
    "Consider the following situation:\n",
    "  \n",
    "### $Y \\sim N(\\mu,\\sigma^2)$  \n",
    "### $(X | Y = y) \\sim N(y,v^2)$\n",
    "  \n",
    "We want to find the distribution of $𝑋$.  \n",
    "\n",
    "- (a) Find $f_{XY}(x,y)$ and then use a Law of Total Probability to determine the distribution of $X$\n",
    "### $f_X(x) = \\int f_{x|y}(x|y)f_Y(y)\\mathrm{d}y$  \n",
    "　  \n",
    "   \n",
    "- (b) Find the MGF $M_X(t)$ and determine the distribution of $X$  \n",
    "### $M_X(t) = E(e^{tX}) = E[E(e^{tX}|Y)]$\n",
    "where the “inner” expected value, $E(e^{tX}|Y)$ is the moment generating function of the\n",
    "random variable $X||Y = y$"
   ]
  },
  {
   "cell_type": "code",
   "execution_count": null,
   "id": "5eefe3b1",
   "metadata": {},
   "outputs": [],
   "source": []
  },
  {
   "cell_type": "markdown",
   "id": "c6530820-34c5-467d-bbe0-ef3c39ad764b",
   "metadata": {},
   "source": [
    "---"
   ]
  },
  {
   "cell_type": "markdown",
   "id": "e0e47250",
   "metadata": {
    "tags": []
   },
   "source": [
    "## Problem 4.\n",
    "Many people believe that the daily change of price of a company’s stock on the stock market is a random variable with mean 0 and variance $\\sigma^2$. That is, if $S_t$ represents the price of the stock on the $t$-th day, then\n",
    "### $S_t = S_{t-1}+W_t,　t\\ge1$\n",
    "  \n",
    "where $W_1,W_2,...,$ are independent and identically distributed random variables with mean 0 and variance $\\sigma^2$.  \n",
    "Suppose that the stock's price today is 100 and $\\sigma^2 = 1$.  \n",
    "- (a) What can you say about the probability that the stock’s price will exceed 105 after 10 days? (Hint: Chebyshev inequality)\n",
    "- (b) Suppose $W_1,W_2,...,$ are independent and identically distributed Normal random variables with mean 0 and variance $\\sigma^2$. What is the probability that the stock’s price will exceed 105 after 10 days?\n",
    "- (c) Simulate $M=10000$ trajectories of the stock price $S_t$ for $t=0,1,...,10$. Plot 10 pairs of trajectories of the stock and calculate the probability that the stock's price exceeds 105 after 10 days."
   ]
  },
  {
   "cell_type": "code",
   "execution_count": null,
   "id": "1cf7c093",
   "metadata": {},
   "outputs": [],
   "source": []
  },
  {
   "cell_type": "markdown",
   "id": "f3b16387-c7a8-46c3-a60a-eedd216fdef4",
   "metadata": {},
   "source": [
    "---"
   ]
  },
  {
   "cell_type": "markdown",
   "id": "6ea6fad1",
   "metadata": {},
   "source": [
    "## Problem 5. \n",
    "The IRR is generally calculated using an iterative procedure. Suppose that we define $f(\\lambda) = -a_0+a_1\\lambda +a_2\\lambda^2+...+a_n\\lambda^2$, where all $a_i$ are positive and $n > 1$. Here is an iterative technique that generates a sequence $\\lambda_0, \\lambda_1, \\lambda_2, ..., \\lambda_k, ...$ of estimates that converges to the $\\bar\\lambda > 0$, solving $f(\\bar\\lambda) = 0$. Start with any $\\lambda_0 > 0$ close to the solution. Assuming $\\lambda_k$ has been calculated, evaluate  \n",
    "### $f'(\\lambda_k) = a_1+2a_2\\lambda_k+3a_3\\lambda_k^2+ ... + na_n\\lambda_k^{n-1}$ \n",
    "and define  \n",
    "### $\\lambda_{k+1} = \\lambda_k - \\frac{f(\\lambda)}{f'(\\lambda)}$\n",
    "Try the procedure on $f(\\lambda) = -1 + \\lambda + \\lambda^2$ starting with $\\lambda_0 = 1$.  \n",
    "- (a) Write a Python function to calculate $\\bar\\lambda$ accurate up to 0.000001 and compute the computation time\n",
    "- (b) Use the Bisection method to calculate $\\bar\\lambda$ accurate up to 0.000001 and compare the computation time with the result from (a)"
   ]
  },
  {
   "cell_type": "code",
   "execution_count": 3,
   "id": "23cb441d",
   "metadata": {},
   "outputs": [
    {
     "name": "stdout",
     "output_type": "stream",
     "text": [
      "Lambda : 0.618033988749989\n",
      "computation time : 0.000000000초\n"
     ]
    }
   ],
   "source": [
    "# (a)\n",
    "\n",
    "import time\n",
    "\n",
    "start_time = time.time()\n",
    "\n",
    "def find_lambda_newton(x):\n",
    "    y = -1 + x + x**2\n",
    "    if abs(y) < 0.000001:\n",
    "        return x\n",
    "    dy = 1 + 2*x\n",
    "    return find_lambda_newton(x - (y/dy))\n",
    "\n",
    "lambda_newton = find_lambda_newton(1)\n",
    "print(f'Lambda : {lambda_newton}')\n",
    "\n",
    "end_time = time.time()\n",
    "computation_time_newton = end_time - start_time\n",
    "print(f'computation time : {computation_time_newton:.9f}초')"
   ]
  },
  {
   "cell_type": "code",
   "execution_count": 4,
   "id": "bd62c338",
   "metadata": {},
   "outputs": [
    {
     "name": "stdout",
     "output_type": "stream",
     "text": [
      "Lambda : 0.6180343627929688\n",
      "computation time : 0.000000000초\n"
     ]
    }
   ],
   "source": [
    "# (b)\n",
    "\n",
    "start_time = time.time()\n",
    "\n",
    "def find_lambda_bisection(x):\n",
    "    y = 1\n",
    "    start = 0\n",
    "    end = x\n",
    "    while abs(y) > 0.000001:\n",
    "        mid = (start + end) / 2\n",
    "        y = -1 + mid + mid**2\n",
    "        if y < 0:\n",
    "            start = mid\n",
    "        elif y > 0:\n",
    "            end = mid\n",
    "    return mid\n",
    "\n",
    "lambda_bisection = find_lambda_bisection(1)\n",
    "print(f'Lambda : {lambda_bisection}')\n",
    "\n",
    "end_time = time.time()\n",
    "computation_time_bisection = end_time - start_time\n",
    "print(f'computation time : {computation_time_bisection:.9f}초')"
   ]
  },
  {
   "cell_type": "code",
   "execution_count": 5,
   "id": "64dbff15",
   "metadata": {},
   "outputs": [
    {
     "name": "stdout",
     "output_type": "stream",
     "text": [
      "Newton 100만회 총 작동시간 : 12.010895490646362\n",
      "Bisection 100만회 총 작동시간 : 11.578346729278564\n"
     ]
    }
   ],
   "source": [
    "# 비교\n",
    "\n",
    "import pandas as pd\n",
    "\n",
    "comparison = pd.DataFrame(columns = ['Newton', 'Bisection'])\n",
    "\n",
    "for i in range(1000000):\n",
    "    start_time = time.time()\n",
    "    find_lambda_newton(1)\n",
    "    end_time = time.time()\n",
    "    newton_time = end_time - start_time\n",
    "    \n",
    "    start_time = time.time()\n",
    "    find_lambda_bisection(1)\n",
    "    end_time = time.time()\n",
    "    bisection_time = end_time - start_time\n",
    "    \n",
    "    comparison = comparison.append({'Newton':newton_time, 'Bisection':bisection_time}, ignore_index=True)\n",
    "\n",
    "\n",
    "print(f'Newton 100만회 총 작동시간 : {comparison[\"Newton\"].sum()}')\n",
    "print(f'Bisection 100만회 총 작동시간 : {comparison[\"Bisection\"].sum()}')"
   ]
  },
  {
   "cell_type": "markdown",
   "id": "45564989",
   "metadata": {},
   "source": [
    "(a)보다 (b)가 더 빠르므로, 해당 조건에서는 이분탐색보다 뉴턴의 방법이 해를 더 빨리 찾는다는 것을 알 수 있다."
   ]
  },
  {
   "cell_type": "markdown",
   "id": "d7e41c2e",
   "metadata": {},
   "source": [
    "---"
   ]
  },
  {
   "cell_type": "markdown",
   "id": "e7cfd413",
   "metadata": {},
   "source": [
    "## Problem 6. \n",
    "Given N points drawn randomly on the circumference of a circle, what is the probability that they are all within a semicircle?"
   ]
  },
  {
   "cell_type": "markdown",
   "id": "3c5b34ff",
   "metadata": {},
   "source": [
    "### Answer :  \n",
    "어떤 한 점이 원의 둘레 위에 있을 때, 다른 점이 그 점을 포함한 반원의 둘레에 있을 확률은 $\\frac{반원의 길이}{원의 길이} = \\frac{1}{2}$ 이다.  \n",
    "\n",
    "따라서 N개의 점이 있다고 했을 때, N-1개의 점이 어떤 한 점을 포함하는 반원 내에 있어야한다. 즉, 확률은 아래와 같다.\n",
    "\n",
    "### $$(\\frac{1}{2})^{N - 1}$$"
   ]
  },
  {
   "cell_type": "markdown",
   "id": "0ec2f150",
   "metadata": {},
   "source": [
    "---"
   ]
  }
 ],
 "metadata": {
  "kernelspec": {
   "display_name": "Python 3 (ipykernel)",
   "language": "python",
   "name": "python3"
  },
  "language_info": {
   "codemirror_mode": {
    "name": "ipython",
    "version": 3
   },
   "file_extension": ".py",
   "mimetype": "text/x-python",
   "name": "python",
   "nbconvert_exporter": "python",
   "pygments_lexer": "ipython3",
   "version": "3.9.13"
  }
 },
 "nbformat": 4,
 "nbformat_minor": 5
}
