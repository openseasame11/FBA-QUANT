{
 "cells": [
  {
   "cell_type": "markdown",
   "metadata": {
    "id": "Z2Nt7S3ztddw"
   },
   "source": [
    "**Problem 1**. An investor deposits $15,000 in a bank today at 6% annual interest.\n",
    "Assuming that no additional deposits are made, and that no money is withdrawn, how\n",
    "large will the account balance be 23 years from today if\n",
    "\n",
    "\n",
    "---\n",
    "\n",
    "\n",
    "(a) the interest is computed using the simple interest convention?\n",
    "\n",
    "(b) the interest is compounded annually?\n",
    "\n",
    "(c) the interest is compounded quarterly?\n",
    "\n",
    "(d) the interest is compounded monthly?\n",
    "\n",
    "(e) the interest is compounded continuously?\n",
    "\n",
    "(You should assume that the 6% annual interest rate applies to deposits of any length.)"
   ]
  },
  {
   "cell_type": "code",
   "execution_count": 1,
   "metadata": {
    "id": "1K9pWczHuOIp"
   },
   "outputs": [],
   "source": [
    "import math"
   ]
  },
  {
   "cell_type": "code",
   "execution_count": 9,
   "metadata": {
    "colab": {
     "base_uri": "https://localhost:8080/"
    },
    "id": "BW_Z0B2TtUnm",
    "outputId": "e269d299-cd70-45c7-854e-30bcb9bb2b7c"
   },
   "outputs": [
    {
     "name": "stdout",
     "output_type": "stream",
     "text": [
      "a: 35700.0\n",
      "b: 57296.24492359587\n",
      "c: 59015.64336415907\n",
      "d: 59418.858440729586\n",
      "e: 59623.52441242121\n"
     ]
    }
   ],
   "source": [
    "P=15000\n",
    "r=0.06\n",
    "n=23\n",
    "\n",
    "a=P*(1+r*n) #simple interest\n",
    "\n",
    "b=P*(1+r)**(23) #yearly compounded\n",
    "\n",
    "c=P*(1+0.06/4)**(23*4) #quarterly compounded\n",
    "\n",
    "d=P*(1+0.06/12)**(23*12) #monthly\n",
    "\n",
    "_e=P*math.e**(0.06*23)\n",
    "print(\"a: \"+str(a))\n",
    "print(\"b: \"+str(b))\n",
    "print(\"c: \"+str(c))\n",
    "print(\"d: \"+str(d))\n",
    "print(\"e: \"+str(_e))"
   ]
  },
  {
   "cell_type": "markdown",
   "metadata": {
    "id": "PnjtD32_xGqM"
   },
   "source": [
    "**Problem 2.** If you buy a lottery ticket in 50 lotteries, in each of which your chances\n",
    "of winning a prize of 1/100, what is the probability that you will win a prize:\n",
    "\n",
    "\n",
    "---\n",
    "\n",
    "\n",
    "(a) at least once?\n",
    "\n",
    "(b) exactly twice?\n",
    "\n",
    "(c) at least twice?\n",
    "\n",
    "Calculate both the exact probabilities (using the binomial distribution) and the\n",
    "approximate probabilities (using the Poisson distribution)."
   ]
  },
  {
   "cell_type": "code",
   "execution_count": 17,
   "metadata": {
    "colab": {
     "base_uri": "https://localhost:8080/",
     "height": 143
    },
    "id": "Bs2Fi44zxAb8",
    "outputId": "9009ee34-79e8-4037-9914-9f8d6c13d0ec"
   },
   "outputs": [
    {
     "data": {
      "text/html": [
       "\n",
       "  <div id=\"df-a2365c54-4b20-4aab-903d-e00eb14ab01e\">\n",
       "    <div class=\"colab-df-container\">\n",
       "      <div>\n",
       "<style scoped>\n",
       "    .dataframe tbody tr th:only-of-type {\n",
       "        vertical-align: middle;\n",
       "    }\n",
       "\n",
       "    .dataframe tbody tr th {\n",
       "        vertical-align: top;\n",
       "    }\n",
       "\n",
       "    .dataframe thead th {\n",
       "        text-align: right;\n",
       "    }\n",
       "</style>\n",
       "<table border=\"1\" class=\"dataframe\">\n",
       "  <thead>\n",
       "    <tr style=\"text-align: right;\">\n",
       "      <th></th>\n",
       "      <th>Exact</th>\n",
       "      <th>Poisson</th>\n",
       "    </tr>\n",
       "  </thead>\n",
       "  <tbody>\n",
       "    <tr>\n",
       "      <th>0</th>\n",
       "      <td>0.394994</td>\n",
       "      <td>0.303265</td>\n",
       "    </tr>\n",
       "    <tr>\n",
       "      <th>1</th>\n",
       "      <td>0.075618</td>\n",
       "      <td>0.075816</td>\n",
       "    </tr>\n",
       "    <tr>\n",
       "      <th>2</th>\n",
       "      <td>0.089435</td>\n",
       "      <td>0.696735</td>\n",
       "    </tr>\n",
       "  </tbody>\n",
       "</table>\n",
       "</div>\n",
       "      <button class=\"colab-df-convert\" onclick=\"convertToInteractive('df-a2365c54-4b20-4aab-903d-e00eb14ab01e')\"\n",
       "              title=\"Convert this dataframe to an interactive table.\"\n",
       "              style=\"display:none;\">\n",
       "        \n",
       "  <svg xmlns=\"http://www.w3.org/2000/svg\" height=\"24px\"viewBox=\"0 0 24 24\"\n",
       "       width=\"24px\">\n",
       "    <path d=\"M0 0h24v24H0V0z\" fill=\"none\"/>\n",
       "    <path d=\"M18.56 5.44l.94 2.06.94-2.06 2.06-.94-2.06-.94-.94-2.06-.94 2.06-2.06.94zm-11 1L8.5 8.5l.94-2.06 2.06-.94-2.06-.94L8.5 2.5l-.94 2.06-2.06.94zm10 10l.94 2.06.94-2.06 2.06-.94-2.06-.94-.94-2.06-.94 2.06-2.06.94z\"/><path d=\"M17.41 7.96l-1.37-1.37c-.4-.4-.92-.59-1.43-.59-.52 0-1.04.2-1.43.59L10.3 9.45l-7.72 7.72c-.78.78-.78 2.05 0 2.83L4 21.41c.39.39.9.59 1.41.59.51 0 1.02-.2 1.41-.59l7.78-7.78 2.81-2.81c.8-.78.8-2.07 0-2.86zM5.41 20L4 18.59l7.72-7.72 1.47 1.35L5.41 20z\"/>\n",
       "  </svg>\n",
       "      </button>\n",
       "      \n",
       "  <style>\n",
       "    .colab-df-container {\n",
       "      display:flex;\n",
       "      flex-wrap:wrap;\n",
       "      gap: 12px;\n",
       "    }\n",
       "\n",
       "    .colab-df-convert {\n",
       "      background-color: #E8F0FE;\n",
       "      border: none;\n",
       "      border-radius: 50%;\n",
       "      cursor: pointer;\n",
       "      display: none;\n",
       "      fill: #1967D2;\n",
       "      height: 32px;\n",
       "      padding: 0 0 0 0;\n",
       "      width: 32px;\n",
       "    }\n",
       "\n",
       "    .colab-df-convert:hover {\n",
       "      background-color: #E2EBFA;\n",
       "      box-shadow: 0px 1px 2px rgba(60, 64, 67, 0.3), 0px 1px 3px 1px rgba(60, 64, 67, 0.15);\n",
       "      fill: #174EA6;\n",
       "    }\n",
       "\n",
       "    [theme=dark] .colab-df-convert {\n",
       "      background-color: #3B4455;\n",
       "      fill: #D2E3FC;\n",
       "    }\n",
       "\n",
       "    [theme=dark] .colab-df-convert:hover {\n",
       "      background-color: #434B5C;\n",
       "      box-shadow: 0px 1px 3px 1px rgba(0, 0, 0, 0.15);\n",
       "      filter: drop-shadow(0px 1px 2px rgba(0, 0, 0, 0.3));\n",
       "      fill: #FFFFFF;\n",
       "    }\n",
       "  </style>\n",
       "\n",
       "      <script>\n",
       "        const buttonEl =\n",
       "          document.querySelector('#df-a2365c54-4b20-4aab-903d-e00eb14ab01e button.colab-df-convert');\n",
       "        buttonEl.style.display =\n",
       "          google.colab.kernel.accessAllowed ? 'block' : 'none';\n",
       "\n",
       "        async function convertToInteractive(key) {\n",
       "          const element = document.querySelector('#df-a2365c54-4b20-4aab-903d-e00eb14ab01e');\n",
       "          const dataTable =\n",
       "            await google.colab.kernel.invokeFunction('convertToInteractive',\n",
       "                                                     [key], {});\n",
       "          if (!dataTable) return;\n",
       "\n",
       "          const docLinkHtml = 'Like what you see? Visit the ' +\n",
       "            '<a target=\"_blank\" href=https://colab.research.google.com/notebooks/data_table.ipynb>data table notebook</a>'\n",
       "            + ' to learn more about interactive tables.';\n",
       "          element.innerHTML = '';\n",
       "          dataTable['output_type'] = 'display_data';\n",
       "          await google.colab.output.renderOutput(dataTable, element);\n",
       "          const docLink = document.createElement('div');\n",
       "          docLink.innerHTML = docLinkHtml;\n",
       "          element.appendChild(docLink);\n",
       "        }\n",
       "      </script>\n",
       "    </div>\n",
       "  </div>\n",
       "  "
      ],
      "text/plain": [
       "      Exact   Poisson\n",
       "0  0.394994  0.303265\n",
       "1  0.075618  0.075816\n",
       "2  0.089435  0.696735"
      ]
     },
     "execution_count": 17,
     "metadata": {},
     "output_type": "execute_result"
    }
   ],
   "source": [
    "def nCr(n, r):\n",
    "  return math.factorial(n) / math.factorial(r) / math.factorial(n-r)\n",
    "\n",
    "def Poisson(l, x):\n",
    "  return (l**x)*(math.e**(-l)) / math.factorial(x)\n",
    "\n",
    "n=50\n",
    "p=0.01\n",
    "\n",
    "exact_a=1-nCr(50, 0)*((1-p)**50)\n",
    "poisson_a=Poisson(n*p, 1)\n",
    "\n",
    "exact_b=nCr(50,2)*(p**2)*((1-p)**48)\n",
    "poisson_b=Poisson(n*p,2)\n",
    "\n",
    "exact_c=exact_a-nCr(50,1)*(p)*((1-p)**49)\n",
    "poisson_c=1-Poisson(n*p,1)\n",
    "\n",
    "\n",
    "import pandas as pd\n",
    "df=pd.DataFrame([[exact_a, poisson_a],[exact_b, poisson_b],[exact_c,poisson_c]], columns=['Exact','Poisson'])\n",
    "\n",
    "df"
   ]
  }
 ],
 "metadata": {
  "colab": {
   "provenance": []
  },
  "kernelspec": {
   "display_name": "Python 3 (ipykernel)",
   "language": "python",
   "name": "python3"
  },
  "language_info": {
   "codemirror_mode": {
    "name": "ipython",
    "version": 3
   },
   "file_extension": ".py",
   "mimetype": "text/x-python",
   "name": "python",
   "nbconvert_exporter": "python",
   "pygments_lexer": "ipython3",
   "version": "3.9.13"
  }
 },
 "nbformat": 4,
 "nbformat_minor": 1
}
