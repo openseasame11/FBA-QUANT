{
 "cells": [
  {
   "cell_type": "markdown",
   "id": "379322d2",
   "metadata": {},
   "source": [
    "#prob1\n",
    "\n",
    "7장\n",
    "\n",
    "diversification: unique risk는 줄일 수 있지만, market risk는 줄일 수 없음.\n",
    "hedge이 가능하려면 음의 cor를 가져야 함.\n",
    "여러 자산을 사용하면, cor이 너무 높지 않은 한 hedging나타남.\n",
    "최적 포트폴리오: CAL와 생성 가능한 자산들의 모든 포트폴리오의 접점\n",
    "separation property: 포트폴리오 고르는 작업은 1. 최적의 포트폴리오를 짜는 것과 2. 자산 배분을 하는 것.\n",
    "VaR, ES 계산: bootstrapping 작업을 통해 계산\n",
    "risk pooling: 투자자의 포트롤리오에 uncorrelated.\n",
    "risk sharing: 포트폴리오의 지분을 나누는 것.\n",
    "pooling과 sharing이 합쳐져야 위험이 줄어드는 것.\n",
    "시간 분산은 매 period마다 재 투자하는 것이 아니라, 정해진 금액을 n 기간으로 쪼개서 동일액 매수.\n",
    "\n",
    "8장\n",
    "single factor model: 시장 프리미엄 이용. regression이용해서 계산\n",
    "excess return 대신 total return이용해서 계산하는 방법도 있음.\n",
    "beta adjust해서 쓰기도 함. 시간이 흐르면 1에 가까워질 것이라는 rational\n",
    "beta 또한 beta에 대한 regression을 만들어서 추측하기도 함.\n",
    "\n",
    "\n"
   ]
  },
  {
   "cell_type": "markdown",
   "id": "2ac13b64",
   "metadata": {},
   "source": [
    "#prob2\n",
    "\n",
    "cp7 1.\n",
    "a. 증가. 특히 10~12개의 고수익률 종목을 고르는 방식이라면 개별 리스크가 큰 종목을 선택한 것. diversification 효과 감소\n",
    "b. 단, 종목을 선택할 때 섹터가 다른 종목들을 선택하는 식으로, 서로 다른 방향으로 움직이는 종목들을 위주로 선택하면 diversification 이 가능\n",
    "\n"
   ]
  },
  {
   "cell_type": "code",
   "execution_count": 1,
   "id": "faefc6de",
   "metadata": {},
   "outputs": [
    {
     "data": {
      "text/plain": [
       "array([ 0.02413793, -0.02244669])"
      ]
     },
     "execution_count": 1,
     "metadata": {},
     "output_type": "execute_result"
    }
   ],
   "source": [
    "#prob3-1\n",
    "import numpy as np\n",
    "\n",
    "prices_a = np.array([8.70, 8.91, 8.71])\n",
    "prices_a[1:]/prices_a[:-1] - 1"
   ]
  },
  {
   "cell_type": "code",
   "execution_count": 2,
   "id": "e774a200",
   "metadata": {},
   "outputs": [],
   "source": [
    "import pandas as pd\n",
    "\n",
    "prices = pd.DataFrame({\"BLUE\": [8.70, 8.91, 8.71, 8.43, 8.73],\n",
    "                       \"ORANGE\": [10.66, 11.08, 10.71, 11.59, 12.11]})"
   ]
  },
  {
   "cell_type": "code",
   "execution_count": 3,
   "id": "5c865f25",
   "metadata": {},
   "outputs": [
    {
     "data": {
      "text/html": [
       "<div>\n",
       "<style scoped>\n",
       "    .dataframe tbody tr th:only-of-type {\n",
       "        vertical-align: middle;\n",
       "    }\n",
       "\n",
       "    .dataframe tbody tr th {\n",
       "        vertical-align: top;\n",
       "    }\n",
       "\n",
       "    .dataframe thead th {\n",
       "        text-align: right;\n",
       "    }\n",
       "</style>\n",
       "<table border=\"1\" class=\"dataframe\">\n",
       "  <thead>\n",
       "    <tr style=\"text-align: right;\">\n",
       "      <th></th>\n",
       "      <th>BLUE</th>\n",
       "      <th>ORANGE</th>\n",
       "    </tr>\n",
       "  </thead>\n",
       "  <tbody>\n",
       "    <tr>\n",
       "      <th>0</th>\n",
       "      <td>NaN</td>\n",
       "      <td>NaN</td>\n",
       "    </tr>\n",
       "    <tr>\n",
       "      <th>1</th>\n",
       "      <td>0.0</td>\n",
       "      <td>0.0</td>\n",
       "    </tr>\n",
       "    <tr>\n",
       "      <th>2</th>\n",
       "      <td>0.0</td>\n",
       "      <td>0.0</td>\n",
       "    </tr>\n",
       "    <tr>\n",
       "      <th>3</th>\n",
       "      <td>0.0</td>\n",
       "      <td>0.0</td>\n",
       "    </tr>\n",
       "    <tr>\n",
       "      <th>4</th>\n",
       "      <td>NaN</td>\n",
       "      <td>NaN</td>\n",
       "    </tr>\n",
       "  </tbody>\n",
       "</table>\n",
       "</div>"
      ],
      "text/plain": [
       "   BLUE  ORANGE\n",
       "0   NaN     NaN\n",
       "1   0.0     0.0\n",
       "2   0.0     0.0\n",
       "3   0.0     0.0\n",
       "4   NaN     NaN"
      ]
     },
     "execution_count": 3,
     "metadata": {},
     "output_type": "execute_result"
    }
   ],
   "source": [
    "prices.iloc[1:]/prices.iloc[:-1] - 1"
   ]
  },
  {
   "cell_type": "code",
   "execution_count": 4,
   "id": "75c2d5b5",
   "metadata": {},
   "outputs": [
    {
     "data": {
      "text/html": [
       "<div>\n",
       "<style scoped>\n",
       "    .dataframe tbody tr th:only-of-type {\n",
       "        vertical-align: middle;\n",
       "    }\n",
       "\n",
       "    .dataframe tbody tr th {\n",
       "        vertical-align: top;\n",
       "    }\n",
       "\n",
       "    .dataframe thead th {\n",
       "        text-align: right;\n",
       "    }\n",
       "</style>\n",
       "<table border=\"1\" class=\"dataframe\">\n",
       "  <thead>\n",
       "    <tr style=\"text-align: right;\">\n",
       "      <th></th>\n",
       "      <th>BLUE</th>\n",
       "      <th>ORANGE</th>\n",
       "    </tr>\n",
       "  </thead>\n",
       "  <tbody>\n",
       "    <tr>\n",
       "      <th>0</th>\n",
       "      <td>0.024138</td>\n",
       "      <td>0.039400</td>\n",
       "    </tr>\n",
       "    <tr>\n",
       "      <th>1</th>\n",
       "      <td>-0.022447</td>\n",
       "      <td>-0.033394</td>\n",
       "    </tr>\n",
       "    <tr>\n",
       "      <th>2</th>\n",
       "      <td>-0.032147</td>\n",
       "      <td>0.082166</td>\n",
       "    </tr>\n",
       "    <tr>\n",
       "      <th>3</th>\n",
       "      <td>0.035587</td>\n",
       "      <td>0.044866</td>\n",
       "    </tr>\n",
       "  </tbody>\n",
       "</table>\n",
       "</div>"
      ],
      "text/plain": [
       "       BLUE    ORANGE\n",
       "0  0.024138  0.039400\n",
       "1 -0.022447 -0.033394\n",
       "2 -0.032147  0.082166\n",
       "3  0.035587  0.044866"
      ]
     },
     "execution_count": 4,
     "metadata": {},
     "output_type": "execute_result"
    }
   ],
   "source": [
    "prices.iloc[1:].values/prices.iloc[:-1] - 1"
   ]
  },
  {
   "cell_type": "code",
   "execution_count": 5,
   "id": "2bcf8388",
   "metadata": {},
   "outputs": [
    {
     "data": {
      "text/html": [
       "<div>\n",
       "<style scoped>\n",
       "    .dataframe tbody tr th:only-of-type {\n",
       "        vertical-align: middle;\n",
       "    }\n",
       "\n",
       "    .dataframe tbody tr th {\n",
       "        vertical-align: top;\n",
       "    }\n",
       "\n",
       "    .dataframe thead th {\n",
       "        text-align: right;\n",
       "    }\n",
       "</style>\n",
       "<table border=\"1\" class=\"dataframe\">\n",
       "  <thead>\n",
       "    <tr style=\"text-align: right;\">\n",
       "      <th></th>\n",
       "      <th>BLUE</th>\n",
       "      <th>ORANGE</th>\n",
       "    </tr>\n",
       "  </thead>\n",
       "  <tbody>\n",
       "    <tr>\n",
       "      <th>0</th>\n",
       "      <td>NaN</td>\n",
       "      <td>NaN</td>\n",
       "    </tr>\n",
       "    <tr>\n",
       "      <th>1</th>\n",
       "      <td>0.024138</td>\n",
       "      <td>0.039400</td>\n",
       "    </tr>\n",
       "    <tr>\n",
       "      <th>2</th>\n",
       "      <td>-0.022447</td>\n",
       "      <td>-0.033394</td>\n",
       "    </tr>\n",
       "    <tr>\n",
       "      <th>3</th>\n",
       "      <td>-0.032147</td>\n",
       "      <td>0.082166</td>\n",
       "    </tr>\n",
       "    <tr>\n",
       "      <th>4</th>\n",
       "      <td>0.035587</td>\n",
       "      <td>0.044866</td>\n",
       "    </tr>\n",
       "  </tbody>\n",
       "</table>\n",
       "</div>"
      ],
      "text/plain": [
       "       BLUE    ORANGE\n",
       "0       NaN       NaN\n",
       "1  0.024138  0.039400\n",
       "2 -0.022447 -0.033394\n",
       "3 -0.032147  0.082166\n",
       "4  0.035587  0.044866"
      ]
     },
     "execution_count": 5,
     "metadata": {},
     "output_type": "execute_result"
    }
   ],
   "source": [
    "returns = prices/prices.shift(1) - 1\n",
    "returns"
   ]
  },
  {
   "cell_type": "code",
   "execution_count": 6,
   "id": "4fe19a20",
   "metadata": {},
   "outputs": [
    {
     "data": {
      "text/html": [
       "<div>\n",
       "<style scoped>\n",
       "    .dataframe tbody tr th:only-of-type {\n",
       "        vertical-align: middle;\n",
       "    }\n",
       "\n",
       "    .dataframe tbody tr th {\n",
       "        vertical-align: top;\n",
       "    }\n",
       "\n",
       "    .dataframe thead th {\n",
       "        text-align: right;\n",
       "    }\n",
       "</style>\n",
       "<table border=\"1\" class=\"dataframe\">\n",
       "  <thead>\n",
       "    <tr style=\"text-align: right;\">\n",
       "      <th></th>\n",
       "      <th>BLUE</th>\n",
       "      <th>ORANGE</th>\n",
       "    </tr>\n",
       "  </thead>\n",
       "  <tbody>\n",
       "    <tr>\n",
       "      <th>0</th>\n",
       "      <td>NaN</td>\n",
       "      <td>NaN</td>\n",
       "    </tr>\n",
       "    <tr>\n",
       "      <th>1</th>\n",
       "      <td>0.024138</td>\n",
       "      <td>0.039400</td>\n",
       "    </tr>\n",
       "    <tr>\n",
       "      <th>2</th>\n",
       "      <td>-0.022447</td>\n",
       "      <td>-0.033394</td>\n",
       "    </tr>\n",
       "    <tr>\n",
       "      <th>3</th>\n",
       "      <td>-0.032147</td>\n",
       "      <td>0.082166</td>\n",
       "    </tr>\n",
       "    <tr>\n",
       "      <th>4</th>\n",
       "      <td>0.035587</td>\n",
       "      <td>0.044866</td>\n",
       "    </tr>\n",
       "  </tbody>\n",
       "</table>\n",
       "</div>"
      ],
      "text/plain": [
       "       BLUE    ORANGE\n",
       "0       NaN       NaN\n",
       "1  0.024138  0.039400\n",
       "2 -0.022447 -0.033394\n",
       "3 -0.032147  0.082166\n",
       "4  0.035587  0.044866"
      ]
     },
     "execution_count": 6,
     "metadata": {},
     "output_type": "execute_result"
    }
   ],
   "source": [
    "returns = prices.pct_change()\n",
    "returns"
   ]
  },
  {
   "cell_type": "code",
   "execution_count": 2,
   "id": "3c9b20f1",
   "metadata": {},
   "outputs": [
    {
     "data": {
      "text/html": [
       "<div>\n",
       "<style scoped>\n",
       "    .dataframe tbody tr th:only-of-type {\n",
       "        vertical-align: middle;\n",
       "    }\n",
       "\n",
       "    .dataframe tbody tr th {\n",
       "        vertical-align: top;\n",
       "    }\n",
       "\n",
       "    .dataframe thead th {\n",
       "        text-align: right;\n",
       "    }\n",
       "</style>\n",
       "<table border=\"1\" class=\"dataframe\">\n",
       "  <thead>\n",
       "    <tr style=\"text-align: right;\">\n",
       "      <th></th>\n",
       "      <th>BLUE</th>\n",
       "      <th>ORANGE</th>\n",
       "    </tr>\n",
       "  </thead>\n",
       "  <tbody>\n",
       "    <tr>\n",
       "      <th>0</th>\n",
       "      <td>NaN</td>\n",
       "      <td>NaN</td>\n",
       "    </tr>\n",
       "    <tr>\n",
       "      <th>1</th>\n",
       "      <td>0.023621</td>\n",
       "      <td>0.039662</td>\n",
       "    </tr>\n",
       "    <tr>\n",
       "      <th>2</th>\n",
       "      <td>-0.021807</td>\n",
       "      <td>-0.033638</td>\n",
       "    </tr>\n",
       "    <tr>\n",
       "      <th>3</th>\n",
       "      <td>-0.031763</td>\n",
       "      <td>0.082232</td>\n",
       "    </tr>\n",
       "    <tr>\n",
       "      <th>4</th>\n",
       "      <td>0.034477</td>\n",
       "      <td>0.044544</td>\n",
       "    </tr>\n",
       "    <tr>\n",
       "      <th>5</th>\n",
       "      <td>0.037786</td>\n",
       "      <td>-0.026381</td>\n",
       "    </tr>\n",
       "    <tr>\n",
       "      <th>6</th>\n",
       "      <td>-0.011452</td>\n",
       "      <td>-0.049187</td>\n",
       "    </tr>\n",
       "    <tr>\n",
       "      <th>7</th>\n",
       "      <td>0.032676</td>\n",
       "      <td>0.117008</td>\n",
       "    </tr>\n",
       "    <tr>\n",
       "      <th>8</th>\n",
       "      <td>-0.012581</td>\n",
       "      <td>0.067353</td>\n",
       "    </tr>\n",
       "    <tr>\n",
       "      <th>9</th>\n",
       "      <td>0.029581</td>\n",
       "      <td>0.078249</td>\n",
       "    </tr>\n",
       "    <tr>\n",
       "      <th>10</th>\n",
       "      <td>0.006151</td>\n",
       "      <td>-0.168261</td>\n",
       "    </tr>\n",
       "    <tr>\n",
       "      <th>11</th>\n",
       "      <td>0.012162</td>\n",
       "      <td>0.024041</td>\n",
       "    </tr>\n",
       "    <tr>\n",
       "      <th>12</th>\n",
       "      <td>0.021149</td>\n",
       "      <td>-0.055623</td>\n",
       "    </tr>\n",
       "  </tbody>\n",
       "</table>\n",
       "</div>"
      ],
      "text/plain": [
       "        BLUE    ORANGE\n",
       "0        NaN       NaN\n",
       "1   0.023621  0.039662\n",
       "2  -0.021807 -0.033638\n",
       "3  -0.031763  0.082232\n",
       "4   0.034477  0.044544\n",
       "5   0.037786 -0.026381\n",
       "6  -0.011452 -0.049187\n",
       "7   0.032676  0.117008\n",
       "8  -0.012581  0.067353\n",
       "9   0.029581  0.078249\n",
       "10  0.006151 -0.168261\n",
       "11  0.012162  0.024041\n",
       "12  0.021149 -0.055623"
      ]
     },
     "execution_count": 2,
     "metadata": {},
     "output_type": "execute_result"
    }
   ],
   "source": [
    "import pandas as pd\n",
    "prices = pd.read_csv(\"sample_prices.csv\")\n",
    "returns = prices.pct_change()\n",
    "returns"
   ]
  },
  {
   "cell_type": "code",
   "execution_count": 3,
   "id": "a8f895d5",
   "metadata": {},
   "outputs": [],
   "source": [
    "returns = returns.dropna()\n",
    "deviations = returns - returns.mean()\n",
    "squared_deviations = deviations**2\n",
    "mean_squared_deviations = squared_deviations.mean()\n",
    "\n",
    "import numpy as np\n",
    "\n",
    "volatility = np.sqrt(mean_squared_deviations)\n"
   ]
  },
  {
   "cell_type": "code",
   "execution_count": 4,
   "id": "865b6f26",
   "metadata": {},
   "outputs": [],
   "source": [
    "me_m = pd.read_csv(\"Portfolios_Formed_on_ME_monthly_EW.csv\",\n",
    "                   header=0, index_col=0, parse_dates=True, na_values=-99.99)\n"
   ]
  },
  {
   "cell_type": "code",
   "execution_count": 5,
   "id": "9a9e2843",
   "metadata": {},
   "outputs": [],
   "source": [
    "cols = ['Lo 10', 'Hi 10']\n",
    "returns = me_m[cols]\n",
    "returns = returns/100\n",
    "returns.columns = ['SmallCap', 'LargeCap']"
   ]
  },
  {
   "cell_type": "code",
   "execution_count": 6,
   "id": "64706e6a",
   "metadata": {},
   "outputs": [
    {
     "data": {
      "text/plain": [
       "<AxesSubplot:>"
      ]
     },
     "execution_count": 6,
     "metadata": {},
     "output_type": "execute_result"
    },
    {
     "data": {
      "image/png": "[encoded data removed]",
      "text/plain": [
       "<Figure size 432x288 with 1 Axes>"
      ]
     },
     "metadata": {
      "needs_background": "light"
     },
     "output_type": "display_data"
    }
   ],
   "source": [
    "returns.plot()"
   ]
  },
  {
   "cell_type": "code",
   "execution_count": 7,
   "id": "69fbaf90",
   "metadata": {},
   "outputs": [
    {
     "data": {
      "text/plain": [
       "<AxesSubplot:>"
      ]
     },
     "execution_count": 7,
     "metadata": {},
     "output_type": "execute_result"
    },
    {
     "data": {
      "image/png": "[encoded data removed]",
      "text/plain": [
       "<Figure size 432x288 with 1 Axes>"
      ]
     },
     "metadata": {
      "needs_background": "light"
     },
     "output_type": "display_data"
    }
   ],
   "source": [
    "import pandas as pd\n",
    "\n",
    "me_m = pd.read_csv(\"Portfolios_Formed_on_ME_monthly_EW.csv\",\n",
    "                   header=0, index_col=0, parse_dates=True, na_values=-99.99)\n",
    "rets = me_m[['Lo 10', 'Hi 10']]\n",
    "rets.columns = ['SmallCap', 'LargeCap']\n",
    "rets = rets/100\n",
    "rets.plot.line()"
   ]
  },
  {
   "cell_type": "code",
   "execution_count": 8,
   "id": "946de9f9",
   "metadata": {},
   "outputs": [],
   "source": [
    "rets.index = pd.to_datetime(rets.index, format=\"%Y%m\")\n",
    "rets.index = rets.index.to_period('M')"
   ]
  },
  {
   "cell_type": "code",
   "execution_count": 9,
   "id": "73bbe231",
   "metadata": {},
   "outputs": [
    {
     "data": {
      "text/html": [
       "<div>\n",
       "<style scoped>\n",
       "    .dataframe tbody tr th:only-of-type {\n",
       "        vertical-align: middle;\n",
       "    }\n",
       "\n",
       "    .dataframe tbody tr th {\n",
       "        vertical-align: top;\n",
       "    }\n",
       "\n",
       "    .dataframe thead th {\n",
       "        text-align: right;\n",
       "    }\n",
       "</style>\n",
       "<table border=\"1\" class=\"dataframe\">\n",
       "  <thead>\n",
       "    <tr style=\"text-align: right;\">\n",
       "      <th></th>\n",
       "      <th>SmallCap</th>\n",
       "      <th>LargeCap</th>\n",
       "    </tr>\n",
       "  </thead>\n",
       "  <tbody>\n",
       "    <tr>\n",
       "      <th>count</th>\n",
       "      <td>1110.000000</td>\n",
       "      <td>1110.000000</td>\n",
       "    </tr>\n",
       "    <tr>\n",
       "      <th>mean</th>\n",
       "      <td>0.017598</td>\n",
       "      <td>0.008870</td>\n",
       "    </tr>\n",
       "    <tr>\n",
       "      <th>std</th>\n",
       "      <td>0.106288</td>\n",
       "      <td>0.053900</td>\n",
       "    </tr>\n",
       "    <tr>\n",
       "      <th>min</th>\n",
       "      <td>-0.291400</td>\n",
       "      <td>-0.284300</td>\n",
       "    </tr>\n",
       "    <tr>\n",
       "      <th>25%</th>\n",
       "      <td>-0.027350</td>\n",
       "      <td>-0.017025</td>\n",
       "    </tr>\n",
       "    <tr>\n",
       "      <th>50%</th>\n",
       "      <td>0.010450</td>\n",
       "      <td>0.011400</td>\n",
       "    </tr>\n",
       "    <tr>\n",
       "      <th>75%</th>\n",
       "      <td>0.049950</td>\n",
       "      <td>0.037650</td>\n",
       "    </tr>\n",
       "    <tr>\n",
       "      <th>max</th>\n",
       "      <td>1.342900</td>\n",
       "      <td>0.377900</td>\n",
       "    </tr>\n",
       "  </tbody>\n",
       "</table>\n",
       "</div>"
      ],
      "text/plain": [
       "          SmallCap     LargeCap\n",
       "count  1110.000000  1110.000000\n",
       "mean      0.017598     0.008870\n",
       "std       0.106288     0.053900\n",
       "min      -0.291400    -0.284300\n",
       "25%      -0.027350    -0.017025\n",
       "50%       0.010450     0.011400\n",
       "75%       0.049950     0.037650\n",
       "max       1.342900     0.377900"
      ]
     },
     "execution_count": 9,
     "metadata": {},
     "output_type": "execute_result"
    }
   ],
   "source": [
    "rets.describe()"
   ]
  },
  {
   "cell_type": "code",
   "execution_count": 10,
   "id": "98b1ddb4",
   "metadata": {},
   "outputs": [
    {
     "data": {
      "text/plain": [
       "<AxesSubplot:>"
      ]
     },
     "execution_count": 10,
     "metadata": {},
     "output_type": "execute_result"
    },
    {
     "data": {
      "image/png": "[encoded data removed]",
      "text/plain": [
       "<Figure size 432x288 with 1 Axes>"
      ]
     },
     "metadata": {
      "needs_background": "light"
     },
     "output_type": "display_data"
    }
   ],
   "source": [
    "wealth_index = 1000*(1+rets[\"LargeCap\"]).cumprod()\n",
    "wealth_index.plot()"
   ]
  },
  {
   "cell_type": "code",
   "execution_count": 11,
   "id": "db680062",
   "metadata": {},
   "outputs": [
    {
     "data": {
      "text/plain": [
       "<AxesSubplot:>"
      ]
     },
     "execution_count": 11,
     "metadata": {},
     "output_type": "execute_result"
    },
    {
     "data": {
      "image/png": "[encoded data removed]",
      "text/plain": [
       "<Figure size 432x288 with 1 Axes>"
      ]
     },
     "metadata": {
      "needs_background": "light"
     },
     "output_type": "display_data"
    }
   ],
   "source": [
    "previous_peaks = wealth_index.cummax()\n",
    "previous_peaks.plot()"
   ]
  },
  {
   "cell_type": "code",
   "execution_count": 12,
   "id": "55e1a5a0",
   "metadata": {},
   "outputs": [
    {
     "data": {
      "text/plain": [
       "<AxesSubplot:>"
      ]
     },
     "execution_count": 12,
     "metadata": {},
     "output_type": "execute_result"
    },
    {
     "data": {
      "image/png": "[encoded data removed]",
      "text/plain": [
       "<Figure size 432x288 with 1 Axes>"
      ]
     },
     "metadata": {
      "needs_background": "light"
     },
     "output_type": "display_data"
    }
   ],
   "source": [
    "drawdown = (wealth_index - previous_peaks)/previous_peaks\n",
    "drawdown.plot()"
   ]
  },
  {
   "cell_type": "code",
   "execution_count": 13,
   "id": "fd192b9f",
   "metadata": {},
   "outputs": [
    {
     "data": {
      "text/html": [
       "<div>\n",
       "<style scoped>\n",
       "    .dataframe tbody tr th:only-of-type {\n",
       "        vertical-align: middle;\n",
       "    }\n",
       "\n",
       "    .dataframe tbody tr th {\n",
       "        vertical-align: top;\n",
       "    }\n",
       "\n",
       "    .dataframe thead th {\n",
       "        text-align: right;\n",
       "    }\n",
       "</style>\n",
       "<table border=\"1\" class=\"dataframe\">\n",
       "  <thead>\n",
       "    <tr style=\"text-align: right;\">\n",
       "      <th></th>\n",
       "      <th>Wealth</th>\n",
       "      <th>Previous Peak</th>\n",
       "      <th>Drawdown</th>\n",
       "    </tr>\n",
       "  </thead>\n",
       "  <tbody>\n",
       "    <tr>\n",
       "      <th>1926-07</th>\n",
       "      <td>1032.900000</td>\n",
       "      <td>1032.900000</td>\n",
       "      <td>0.0000</td>\n",
       "    </tr>\n",
       "    <tr>\n",
       "      <th>1926-08</th>\n",
       "      <td>1071.117300</td>\n",
       "      <td>1071.117300</td>\n",
       "      <td>0.0000</td>\n",
       "    </tr>\n",
       "    <tr>\n",
       "      <th>1926-09</th>\n",
       "      <td>1078.293786</td>\n",
       "      <td>1078.293786</td>\n",
       "      <td>0.0000</td>\n",
       "    </tr>\n",
       "    <tr>\n",
       "      <th>1926-10</th>\n",
       "      <td>1052.091247</td>\n",
       "      <td>1078.293786</td>\n",
       "      <td>-0.0243</td>\n",
       "    </tr>\n",
       "    <tr>\n",
       "      <th>1926-11</th>\n",
       "      <td>1080.497711</td>\n",
       "      <td>1080.497711</td>\n",
       "      <td>0.0000</td>\n",
       "    </tr>\n",
       "  </tbody>\n",
       "</table>\n",
       "</div>"
      ],
      "text/plain": [
       "              Wealth  Previous Peak  Drawdown\n",
       "1926-07  1032.900000    1032.900000    0.0000\n",
       "1926-08  1071.117300    1071.117300    0.0000\n",
       "1926-09  1078.293786    1078.293786    0.0000\n",
       "1926-10  1052.091247    1078.293786   -0.0243\n",
       "1926-11  1080.497711    1080.497711    0.0000"
      ]
     },
     "execution_count": 13,
     "metadata": {},
     "output_type": "execute_result"
    }
   ],
   "source": [
    "def drawdown(return_series: pd.Series):\n",
    "    \"\"\"Takes a time series of asset returns.\n",
    "       returns a DataFrame with columns for\n",
    "       the wealth index, \n",
    "       the previous peaks, and \n",
    "       the percentage drawdown\n",
    "    \"\"\"\n",
    "    wealth_index = 1000*(1+return_series).cumprod()\n",
    "    previous_peaks = wealth_index.cummax()\n",
    "    drawdowns = (wealth_index - previous_peaks)/previous_peaks\n",
    "    return pd.DataFrame({\"Wealth\": wealth_index, \n",
    "                         \"Previous Peak\": previous_peaks, \n",
    "                         \"Drawdown\": drawdowns})\n",
    "\n",
    "drawdown(rets[\"LargeCap\"]).head()"
   ]
  },
  {
   "cell_type": "code",
   "execution_count": 28,
   "id": "0887f9d0",
   "metadata": {},
   "outputs": [
    {
     "name": "stdout",
     "output_type": "stream",
     "text": [
      "[*********************100%***********************]  1 of 1 completed\n"
     ]
    }
   ],
   "source": [
    "#3-2\n",
    "\n",
    "#2월 7일이 거슬려 다른 방식 사용.\n",
    "import yfinance as yf    \n",
    "from datetime import datetime\n",
    "    \n",
    " #Load Stock price\n",
    "aapl = yf.download(\"AAPL\", start= datetime(2013,1,1), end = datetime(2023,1,1),interval='1mo')\n",
    "\n"
   ]
  },
  {
   "cell_type": "code",
   "execution_count": 55,
   "id": "422e9d75",
   "metadata": {},
   "outputs": [
    {
     "name": "stdout",
     "output_type": "stream",
     "text": [
      "[*********************100%***********************]  1 of 1 completed\n",
      "[*********************100%***********************]  1 of 1 completed\n"
     ]
    }
   ],
   "source": [
    "import yfinance as yf\n",
    "from datetime import datetime\n",
    "aapl = yf.download(\"AAPL\", start= datetime(2013,1,1), end = datetime(2023,1,1))\n",
    "sp500 = yf.download(\"^GSPC\", start= datetime(2013,1,1), end = datetime(2023,1,1))"
   ]
  },
  {
   "cell_type": "code",
   "execution_count": 56,
   "id": "7b8ce2c1",
   "metadata": {},
   "outputs": [
    {
     "data": {
      "text/plain": [
       "Date\n",
       "2013-01-01    0.031682\n",
       "2013-02-01   -0.173779\n",
       "2013-03-01   -0.045503\n",
       "2013-04-01   -0.003624\n",
       "2013-05-01    0.024201\n",
       "                ...   \n",
       "2022-08-01    0.162528\n",
       "2022-09-01   -0.020621\n",
       "2022-10-03   -0.098190\n",
       "2022-11-01    0.057564\n",
       "2022-12-01   -0.013900\n",
       "Freq: BMS, Name: Adj Close, Length: 120, dtype: float64"
      ]
     },
     "execution_count": 56,
     "metadata": {},
     "output_type": "execute_result"
    }
   ],
   "source": [
    "aapl=aapl['Adj Close']\n",
    "aapl=aapl.resample('BMS').first().pct_change().dropna()\n",
    "\n",
    "aapl"
   ]
  },
  {
   "cell_type": "code",
   "execution_count": 58,
   "id": "52ace29f",
   "metadata": {},
   "outputs": [
    {
     "data": {
      "text/plain": [
       "Date\n",
       "2013-01-01    0.025403\n",
       "2013-02-01    0.034703\n",
       "2013-03-01    0.003324\n",
       "2013-04-01    0.028962\n",
       "2013-05-01    0.013142\n",
       "                ...   \n",
       "2022-08-01    0.076673\n",
       "2022-09-01   -0.036852\n",
       "2022-10-03   -0.072708\n",
       "2022-11-01    0.048301\n",
       "2022-12-01    0.057174\n",
       "Freq: BMS, Name: Adj Close, Length: 120, dtype: float64"
      ]
     },
     "execution_count": 58,
     "metadata": {},
     "output_type": "execute_result"
    }
   ],
   "source": [
    "sp500=sp500['Adj Close'].resample('BMS').first().pct_change().dropna()\n",
    "sp500"
   ]
  },
  {
   "cell_type": "code",
   "execution_count": 45,
   "id": "b2fe4943",
   "metadata": {},
   "outputs": [],
   "source": [
    "import pandas as pd\n",
    "tbill= pd.read_csv('TB3MS.csv')"
   ]
  },
  {
   "cell_type": "code",
   "execution_count": 47,
   "id": "3363c721",
   "metadata": {},
   "outputs": [
    {
     "data": {
      "text/html": [
       "<div>\n",
       "<style scoped>\n",
       "    .dataframe tbody tr th:only-of-type {\n",
       "        vertical-align: middle;\n",
       "    }\n",
       "\n",
       "    .dataframe tbody tr th {\n",
       "        vertical-align: top;\n",
       "    }\n",
       "\n",
       "    .dataframe thead th {\n",
       "        text-align: right;\n",
       "    }\n",
       "</style>\n",
       "<table border=\"1\" class=\"dataframe\">\n",
       "  <thead>\n",
       "    <tr style=\"text-align: right;\">\n",
       "      <th></th>\n",
       "      <th>DATE</th>\n",
       "      <th>TB3MS</th>\n",
       "    </tr>\n",
       "  </thead>\n",
       "  <tbody>\n",
       "    <tr>\n",
       "      <th>0</th>\n",
       "      <td>2013-01-01</td>\n",
       "      <td>0.07</td>\n",
       "    </tr>\n",
       "    <tr>\n",
       "      <th>1</th>\n",
       "      <td>2013-02-01</td>\n",
       "      <td>0.10</td>\n",
       "    </tr>\n",
       "    <tr>\n",
       "      <th>2</th>\n",
       "      <td>2013-03-01</td>\n",
       "      <td>0.09</td>\n",
       "    </tr>\n",
       "    <tr>\n",
       "      <th>3</th>\n",
       "      <td>2013-04-01</td>\n",
       "      <td>0.06</td>\n",
       "    </tr>\n",
       "    <tr>\n",
       "      <th>4</th>\n",
       "      <td>2013-05-01</td>\n",
       "      <td>0.04</td>\n",
       "    </tr>\n",
       "    <tr>\n",
       "      <th>...</th>\n",
       "      <td>...</td>\n",
       "      <td>...</td>\n",
       "    </tr>\n",
       "    <tr>\n",
       "      <th>115</th>\n",
       "      <td>2022-08-01</td>\n",
       "      <td>2.63</td>\n",
       "    </tr>\n",
       "    <tr>\n",
       "      <th>116</th>\n",
       "      <td>2022-09-01</td>\n",
       "      <td>3.13</td>\n",
       "    </tr>\n",
       "    <tr>\n",
       "      <th>117</th>\n",
       "      <td>2022-10-01</td>\n",
       "      <td>3.72</td>\n",
       "    </tr>\n",
       "    <tr>\n",
       "      <th>118</th>\n",
       "      <td>2022-11-01</td>\n",
       "      <td>4.15</td>\n",
       "    </tr>\n",
       "    <tr>\n",
       "      <th>119</th>\n",
       "      <td>2022-12-01</td>\n",
       "      <td>4.25</td>\n",
       "    </tr>\n",
       "  </tbody>\n",
       "</table>\n",
       "<p>120 rows × 2 columns</p>\n",
       "</div>"
      ],
      "text/plain": [
       "           DATE  TB3MS\n",
       "0    2013-01-01   0.07\n",
       "1    2013-02-01   0.10\n",
       "2    2013-03-01   0.09\n",
       "3    2013-04-01   0.06\n",
       "4    2013-05-01   0.04\n",
       "..          ...    ...\n",
       "115  2022-08-01   2.63\n",
       "116  2022-09-01   3.13\n",
       "117  2022-10-01   3.72\n",
       "118  2022-11-01   4.15\n",
       "119  2022-12-01   4.25\n",
       "\n",
       "[120 rows x 2 columns]"
      ]
     },
     "execution_count": 47,
     "metadata": {},
     "output_type": "execute_result"
    }
   ],
   "source": [
    "tbill=tbill[:-1]\n",
    "tbill"
   ]
  },
  {
   "cell_type": "code",
   "execution_count": 60,
   "id": "13a1ded7",
   "metadata": {},
   "outputs": [
    {
     "name": "stdout",
     "output_type": "stream",
     "text": [
      "[-3.83179155e-02 -2.73779252e-01 -1.35503082e-01 -6.36241736e-02\n",
      " -1.57990398e-02 -1.71892361e-02 -1.32075123e-01  7.59768613e-02\n",
      "  5.69160306e-02 -5.12692100e-02 -4.27719699e-03 -3.81485155e-03\n",
      " -3.65534157e-02 -1.43286856e-01  8.59859197e-03 -3.68098975e-03\n",
      "  6.19965109e-02  2.87786751e-02  1.13427406e-02 -2.09166734e-03\n",
      "  5.99314639e-02 -5.98837100e-02  8.30449021e-02  2.63889645e-02\n",
      " -7.98824405e-02  6.50633111e-02  6.24681329e-02 -5.74932134e-02\n",
      "  1.78270641e-02 -3.44116070e-03 -6.01822799e-02 -1.34455052e-01\n",
      " -1.06393117e-01 -2.73307332e-03 -1.41412567e-02 -2.57543669e-01\n",
      " -3.62181642e-01 -3.94670083e-01 -2.41825106e-01 -1.35898993e-01\n",
      " -4.18649620e-01 -2.12124766e-01 -3.26101707e-01 -1.94045479e-01\n",
      " -2.78135868e-01 -2.75750980e-01 -4.59153950e-01 -5.22896842e-01\n",
      " -4.49172243e-01 -4.11519765e-01 -6.49545026e-01 -7.72029614e-01\n",
      " -8.69958041e-01 -9.30660110e-01 -1.13319363e+00 -9.64355204e-01\n",
      " -9.32404424e-01 -1.13242020e+00 -1.14495965e+00 -1.29138915e+00\n",
      " -1.40292623e+00 -1.59600713e+00 -1.65271471e+00 -1.80754291e+00\n",
      " -1.84548106e+00 -1.77064702e+00 -1.97608491e+00 -1.95349623e+00\n",
      " -1.99272505e+00 -2.25481699e+00 -2.35217723e+00 -2.53539971e+00\n",
      " -2.51554743e+00 -2.33554152e+00 -2.34474895e+00 -2.28701261e+00\n",
      " -2.24918416e+00 -2.34363029e+00 -1.93698788e+00 -1.91586467e+00\n",
      " -1.89934803e+00 -1.55816737e+00 -1.40094661e+00 -1.50429887e+00\n",
      " -1.38299979e+00 -1.49233202e+00 -3.19614836e-01 -3.33768498e-01\n",
      "  6.99088143e-02 -4.35882075e-02  1.30355322e-03  9.67537385e-02\n",
      "  1.23936490e-01 -2.29602189e-01 -1.58670370e-01  4.01989726e-02\n",
      " -2.54857442e-02 -3.44941391e-03 -7.59150297e-02 -5.74834672e-02\n",
      "  5.75609018e-02 -1.00727951e-01  5.45221181e-02  1.01005635e-02\n",
      "  9.60466133e-03 -1.14651502e-01 -5.76573825e-03  4.77502182e-02\n",
      " -4.53692691e-02 -3.70657110e-01 -5.04154894e-01 -6.91924006e-01\n",
      " -1.07379834e+00 -1.54717582e+00 -2.29576579e+00 -2.46747207e+00\n",
      " -3.15062147e+00 -3.81818951e+00 -4.09243597e+00 -4.26389954e+00]\n",
      "[-4.45965797e-02 -6.52972481e-02 -8.66759141e-02 -3.10380094e-02\n",
      " -2.68580842e-02 -1.35306157e-02 -5.55204657e-02  1.69116488e-02\n",
      " -5.93117084e-02 -1.63184594e-02 -3.06843571e-02 -4.77139430e-02\n",
      " -2.27419870e-02 -9.91762829e-02  9.61338830e-03 -8.44211261e-03\n",
      " -3.09758400e-02 -1.80801857e-02 -4.88273775e-03 -5.44105990e-02\n",
      "  2.00644126e-02 -4.80280452e-02  1.68161010e-02 -1.23423009e-02\n",
      " -2.76819338e-02 -3.81469131e-02  1.77719366e-02 -4.72505085e-02\n",
      "  3.59583192e-03 -1.83683737e-02 -4.62473701e-02 -6.00741699e-02\n",
      " -1.07791491e-01 -1.47906206e-02 -2.63165434e-02 -2.30674968e-01\n",
      " -3.02789199e-01 -3.46409542e-01 -2.69905964e-01 -1.82268277e-01\n",
      " -2.65826908e-01 -2.61400073e-01 -2.98275701e-01 -2.67716713e-01\n",
      " -2.89990778e-01 -3.34449921e-01 -4.72894680e-01 -4.72419209e-01\n",
      " -4.79535573e-01 -5.10380157e-01 -6.88932943e-01 -8.15492693e-01\n",
      " -8.77498097e-01 -9.62527549e-01 -1.07043211e+00 -9.90510542e-01\n",
      " -1.02991926e+00 -1.04877286e+00 -1.21013539e+00 -1.29562967e+00\n",
      " -1.38971778e+00 -1.52319777e+00 -1.75113787e+00 -1.79577365e+00\n",
      " -1.83175695e+00 -1.86993368e+00 -1.96289260e+00 -1.99822172e+00\n",
      " -2.10037000e+00 -2.24037873e+00 -2.39299001e+00 -2.35175429e+00\n",
      " -2.47046699e+00 -2.31171408e+00 -2.36410167e+00 -2.35735128e+00\n",
      " -2.33028033e+00 -2.23131894e+00 -2.01988190e+00 -1.95363321e+00\n",
      " -1.90601120e+00 -1.63830804e+00 -1.49692206e+00 -1.52468810e+00\n",
      " -1.47376173e+00 -1.52274113e+00 -3.38843907e-01 -3.40544938e-01\n",
      "  1.58044772e-02 -8.05075678e-02 -1.10322173e-01 -4.26322127e-02\n",
      " -3.95698771e-02 -1.41356488e-01 -1.10870817e-01  1.64001287e-02\n",
      " -6.95698367e-02 -2.02169330e-02  3.90691687e-03  1.02551237e-02\n",
      "  2.29839856e-02 -3.77627849e-02 -2.19422230e-02 -3.44395488e-02\n",
      " -8.78853686e-03 -8.69245109e-02  8.90005153e-03 -8.18112445e-02\n",
      " -8.71775971e-02 -3.82124860e-01 -4.92849039e-01 -7.04360045e-01\n",
      " -1.06589794e+00 -1.50303128e+00 -2.29727248e+00 -2.55332693e+00\n",
      " -3.16685201e+00 -3.79270760e+00 -4.10169946e+00 -4.19282566e+00]\n"
     ]
    }
   ],
   "source": [
    "excess_return_aapl=np.array(aapl)-np.array(tbill['TB3MS'])\n",
    "excess_return_sp500=np.array(sp500)-np.array(tbill['TB3MS'])\n",
    "print(excess_return_aapl)\n",
    "print(excess_return_sp500)"
   ]
  },
  {
   "cell_type": "code",
   "execution_count": 61,
   "id": "6ee53497",
   "metadata": {},
   "outputs": [
    {
     "data": {
      "image/png": "[encoded data removed]",
      "text/plain": [
       "<Figure size 432x288 with 1 Axes>"
      ]
     },
     "metadata": {
      "needs_background": "light"
     },
     "output_type": "display_data"
    }
   ],
   "source": [
    "#3.2-a\n",
    "plt.plot(excess_return_aapl)\n",
    "plt.show()"
   ]
  },
  {
   "cell_type": "code",
   "execution_count": 62,
   "id": "57f883ae",
   "metadata": {},
   "outputs": [
    {
     "data": {
      "image/png": "[encoded data removed]",
      "text/plain": [
       "<Figure size 432x288 with 1 Axes>"
      ]
     },
     "metadata": {
      "needs_background": "light"
     },
     "output_type": "display_data"
    }
   ],
   "source": [
    "#편의상 초과 수익률 사용.\n",
    "plt.scatter(excess_return_sp500,excess_return_aapl)\n",
    "plt.show()"
   ]
  },
  {
   "cell_type": "code",
   "execution_count": 63,
   "id": "734761a8",
   "metadata": {},
   "outputs": [
    {
     "name": "stdout",
     "output_type": "stream",
     "text": [
      "                            OLS Regression Results                            \n",
      "==============================================================================\n",
      "Dep. Variable:                      y   R-squared:                       0.996\n",
      "Model:                            OLS   Adj. R-squared:                  0.996\n",
      "Method:                 Least Squares   F-statistic:                 3.034e+04\n",
      "Date:                Wed, 15 Feb 2023   Prob (F-statistic):          3.67e-144\n",
      "Time:                        20:04:08   Log-Likelihood:                 163.49\n",
      "No. Observations:                 120   AIC:                            -323.0\n",
      "Df Residuals:                     118   BIC:                            -317.4\n",
      "Df Model:                           1                                         \n",
      "Covariance Type:            nonrobust                                         \n",
      "==============================================================================\n",
      "                 coef    std err          t      P>|t|      [0.025      0.975]\n",
      "------------------------------------------------------------------------------\n",
      "const          0.0138      0.007      1.912      0.058      -0.000       0.028\n",
      "x1             1.0021      0.006    174.198      0.000       0.991       1.014\n",
      "==============================================================================\n",
      "Omnibus:                       10.902   Durbin-Watson:                   1.908\n",
      "Prob(Omnibus):                  0.004   Jarque-Bera (JB):               12.981\n",
      "Skew:                          -0.547   Prob(JB):                      0.00152\n",
      "Kurtosis:                       4.183   Cond. No.                         2.13\n",
      "==============================================================================\n",
      "\n",
      "Notes:\n",
      "[1] Standard Errors assume that the covariance matrix of the errors is correctly specified.\n"
     ]
    }
   ],
   "source": [
    "#sm.OLS는 y,X의 꼴이다.\n",
    "\n",
    "import statsmodels.api as sm\n",
    "\n",
    "model = sm.OLS(excess_return_aapl, sm.add_constant(excess_return_sp500)).fit()\n",
    " \n",
    "#view model summary\n",
    "print(model.summary())\n",
    "\n",
    "#0.0138+1.0021*(~)+e\n",
    "#양방향 검정이지만 0.000이므로 마찬가지로 기각 가능"
   ]
  },
  {
   "cell_type": "code",
   "execution_count": 69,
   "id": "787ad6fb",
   "metadata": {},
   "outputs": [
    {
     "name": "stdout",
     "output_type": "stream",
     "text": [
      "[*********************100%***********************]  1 of 1 completed\n",
      "[*********************100%***********************]  1 of 1 completed\n",
      "[*********************100%***********************]  1 of 1 completed\n",
      "[*********************100%***********************]  1 of 1 completed\n",
      "[*********************100%***********************]  1 of 1 completed\n"
     ]
    },
    {
     "data": {
      "text/html": [
       "<div>\n",
       "<style scoped>\n",
       "    .dataframe tbody tr th:only-of-type {\n",
       "        vertical-align: middle;\n",
       "    }\n",
       "\n",
       "    .dataframe tbody tr th {\n",
       "        vertical-align: top;\n",
       "    }\n",
       "\n",
       "    .dataframe thead th {\n",
       "        text-align: right;\n",
       "    }\n",
       "</style>\n",
       "<table border=\"1\" class=\"dataframe\">\n",
       "  <thead>\n",
       "    <tr style=\"text-align: right;\">\n",
       "      <th></th>\n",
       "      <th>AAPL</th>\n",
       "      <th>MSFT</th>\n",
       "      <th>AMZN</th>\n",
       "      <th>GOOGL</th>\n",
       "      <th>NVDA</th>\n",
       "    </tr>\n",
       "    <tr>\n",
       "      <th>Date</th>\n",
       "      <th></th>\n",
       "      <th></th>\n",
       "      <th></th>\n",
       "      <th></th>\n",
       "      <th></th>\n",
       "    </tr>\n",
       "  </thead>\n",
       "  <tbody>\n",
       "    <tr>\n",
       "      <th>2018-01-03</th>\n",
       "      <td>-0.000174</td>\n",
       "      <td>0.004654</td>\n",
       "      <td>0.012775</td>\n",
       "      <td>0.017061</td>\n",
       "      <td>0.065814</td>\n",
       "    </tr>\n",
       "    <tr>\n",
       "      <th>2018-01-04</th>\n",
       "      <td>0.004645</td>\n",
       "      <td>0.008802</td>\n",
       "      <td>0.004476</td>\n",
       "      <td>0.003884</td>\n",
       "      <td>0.005271</td>\n",
       "    </tr>\n",
       "    <tr>\n",
       "      <th>2018-01-05</th>\n",
       "      <td>0.011385</td>\n",
       "      <td>0.012398</td>\n",
       "      <td>0.016163</td>\n",
       "      <td>0.013260</td>\n",
       "      <td>0.008474</td>\n",
       "    </tr>\n",
       "    <tr>\n",
       "      <th>2018-01-08</th>\n",
       "      <td>-0.003714</td>\n",
       "      <td>0.001021</td>\n",
       "      <td>0.014425</td>\n",
       "      <td>0.003531</td>\n",
       "      <td>0.030641</td>\n",
       "    </tr>\n",
       "    <tr>\n",
       "      <th>2018-01-09</th>\n",
       "      <td>-0.000115</td>\n",
       "      <td>-0.000680</td>\n",
       "      <td>0.004676</td>\n",
       "      <td>-0.001274</td>\n",
       "      <td>-0.000270</td>\n",
       "    </tr>\n",
       "    <tr>\n",
       "      <th>...</th>\n",
       "      <td>...</td>\n",
       "      <td>...</td>\n",
       "      <td>...</td>\n",
       "      <td>...</td>\n",
       "      <td>...</td>\n",
       "    </tr>\n",
       "    <tr>\n",
       "      <th>2022-12-23</th>\n",
       "      <td>-0.002798</td>\n",
       "      <td>0.002267</td>\n",
       "      <td>0.017425</td>\n",
       "      <td>0.016750</td>\n",
       "      <td>-0.008671</td>\n",
       "    </tr>\n",
       "    <tr>\n",
       "      <th>2022-12-27</th>\n",
       "      <td>-0.013878</td>\n",
       "      <td>-0.007414</td>\n",
       "      <td>-0.025924</td>\n",
       "      <td>-0.020621</td>\n",
       "      <td>-0.071353</td>\n",
       "    </tr>\n",
       "    <tr>\n",
       "      <th>2022-12-28</th>\n",
       "      <td>-0.030685</td>\n",
       "      <td>-0.010255</td>\n",
       "      <td>-0.014692</td>\n",
       "      <td>-0.015677</td>\n",
       "      <td>-0.006019</td>\n",
       "    </tr>\n",
       "    <tr>\n",
       "      <th>2022-12-29</th>\n",
       "      <td>0.028324</td>\n",
       "      <td>0.027630</td>\n",
       "      <td>0.028844</td>\n",
       "      <td>0.028249</td>\n",
       "      <td>0.040396</td>\n",
       "    </tr>\n",
       "    <tr>\n",
       "      <th>2022-12-30</th>\n",
       "      <td>0.002469</td>\n",
       "      <td>-0.004938</td>\n",
       "      <td>-0.002138</td>\n",
       "      <td>-0.002487</td>\n",
       "      <td>0.000753</td>\n",
       "    </tr>\n",
       "  </tbody>\n",
       "</table>\n",
       "<p>1258 rows × 5 columns</p>\n",
       "</div>"
      ],
      "text/plain": [
       "                AAPL      MSFT      AMZN     GOOGL      NVDA\n",
       "Date                                                        \n",
       "2018-01-03 -0.000174  0.004654  0.012775  0.017061  0.065814\n",
       "2018-01-04  0.004645  0.008802  0.004476  0.003884  0.005271\n",
       "2018-01-05  0.011385  0.012398  0.016163  0.013260  0.008474\n",
       "2018-01-08 -0.003714  0.001021  0.014425  0.003531  0.030641\n",
       "2018-01-09 -0.000115 -0.000680  0.004676 -0.001274 -0.000270\n",
       "...              ...       ...       ...       ...       ...\n",
       "2022-12-23 -0.002798  0.002267  0.017425  0.016750 -0.008671\n",
       "2022-12-27 -0.013878 -0.007414 -0.025924 -0.020621 -0.071353\n",
       "2022-12-28 -0.030685 -0.010255 -0.014692 -0.015677 -0.006019\n",
       "2022-12-29  0.028324  0.027630  0.028844  0.028249  0.040396\n",
       "2022-12-30  0.002469 -0.004938 -0.002138 -0.002487  0.000753\n",
       "\n",
       "[1258 rows x 5 columns]"
      ]
     },
     "execution_count": 69,
     "metadata": {},
     "output_type": "execute_result"
    }
   ],
   "source": [
    "#3-3\n",
    "\n",
    "#a\n",
    "import numpy as np\n",
    "import pandas as pd\n",
    "\n",
    "stocks =['AAPL','MSFT','AMZN','GOOGL','NVDA']\n",
    "\n",
    "daily_returns=pd.DataFrame()\n",
    "for i in stocks:\n",
    "    temp= yf.download(i, start= datetime(2018,1,1), end = datetime(2023,1,1))\n",
    "    daily_returns[i]=temp['Adj Close'].pct_change().dropna()\n",
    "daily_returns\n",
    "    \n",
    "\n"
   ]
  },
  {
   "cell_type": "code",
   "execution_count": 77,
   "id": "36d97979",
   "metadata": {},
   "outputs": [
    {
     "name": "stdout",
     "output_type": "stream",
     "text": [
      "[0.2874612971134005, 0.26583584124279624, 0.13332817419630513, 0.14895029127852136, 0.3530425092068887]\n",
      "           AAPL      MSFT      AMZN     GOOGL      NVDA\n",
      "AAPL   0.112125  0.080322  0.078169  0.073678  0.115570\n",
      "MSFT   0.080322  0.096307  0.079471  0.078798  0.115866\n",
      "AMZN   0.078169  0.079471  0.128184  0.076751  0.120108\n",
      "GOOGL  0.073678  0.078798  0.076751  0.098574  0.109573\n",
      "NVDA   0.115570  0.115866  0.120108  0.109573  0.269268\n"
     ]
    }
   ],
   "source": [
    "annual_ret=[]\n",
    "\n",
    "for i in daily_returns.columns:\n",
    "    annual_ret.append(np.average(daily_returns[i])*252)\n",
    "annual_cov=daily_returns.cov()*252\n",
    "\n",
    "print(annual_ret)\n",
    "print(annual_cov)\n",
    "    \n"
   ]
  },
  {
   "cell_type": "code",
   "execution_count": 85,
   "id": "8d6dbd7e",
   "metadata": {},
   "outputs": [
    {
     "data": {
      "image/png": "[encoded data removed]",
      "text/plain": [
       "<Figure size 432x288 with 1 Axes>"
      ]
     },
     "metadata": {
      "needs_background": "light"
     },
     "output_type": "display_data"
    }
   ],
   "source": [
    "port_ret=[]\n",
    "port_risk=[]\n",
    "port_weights=[]\n",
    "\n",
    "best_risk=0\n",
    "best_ret=0\n",
    "best_sharpe=0\n",
    "\n",
    "\n",
    "for kk in range(20000):\n",
    "    weights=np.random.random(len(stocks))\n",
    "    weights/=np.sum(weights)\n",
    "    temp_returns=np.dot(weights, annual_ret)\n",
    "    temp_risk = np.sqrt(np.dot(weights.T, np.dot(annual_cov, weights)))\n",
    "    port_ret.append(temp_returns)\n",
    "    port_risk.append(temp_risk)\n",
    "    port_weights.append(weights)\n",
    "    \n",
    "    if (((temp_returns-0.02)/temp_risk) >best_sharpe):\n",
    "        best_risk=temp_risk\n",
    "        best_ret=temp_returns\n",
    "        best_sharpe=((temp_returns-0.02)/temp_risk)\n",
    "    \n",
    "    \n",
    "portfolio= {'Returns':port_ret, 'risk':port_risk}\n",
    "\n",
    "plt.plot(portfolio['risk'],portfolio['Returns'])\n",
    "plt.plot([0,best_risk],[0.02,best_ret])\n",
    "plt.plot(best_risk, best_ret, marker='*',markersize=20)\n",
    "\n",
    "\n",
    "plt.show()\n",
    "\n",
    "    "
   ]
  },
  {
   "cell_type": "code",
   "execution_count": null,
   "id": "450670f3",
   "metadata": {},
   "outputs": [],
   "source": []
  }
 ],
 "metadata": {
  "kernelspec": {
   "display_name": "Python 3 (ipykernel)",
   "language": "python",
   "name": "python3"
  },
  "language_info": {
   "codemirror_mode": {
    "name": "ipython",
    "version": 3
   },
   "file_extension": ".py",
   "mimetype": "text/x-python",
   "name": "python",
   "nbconvert_exporter": "python",
   "pygments_lexer": "ipython3",
   "version": "3.9.13"
  },
  "toc": {
   "base_numbering": 1,
   "nav_menu": {},
   "number_sections": true,
   "sideBar": true,
   "skip_h1_title": false,
   "title_cell": "Table of Contents",
   "title_sidebar": "Contents",
   "toc_cell": false,
   "toc_position": {},
   "toc_section_display": true,
   "toc_window_display": false
  },
  "varInspector": {
   "cols": {
    "lenName": 16,
    "lenType": 16,
    "lenVar": 40
   },
   "kernels_config": {
    "python": {
     "delete_cmd_postfix": "",
     "delete_cmd_prefix": "del ",
     "library": "var_list.py",
     "varRefreshCmd": "print(var_dic_list())"
    },
    "r": {
     "delete_cmd_postfix": ") ",
     "delete_cmd_prefix": "rm(",
     "library": "var_list.r",
     "varRefreshCmd": "cat(var_dic_list()) "
    }
   },
   "types_to_exclude": [
    "module",
    "function",
    "builtin_function_or_method",
    "instance",
    "_Feature"
   ],
   "window_display": false
  }
 },
 "nbformat": 4,
 "nbformat_minor": 5
}
