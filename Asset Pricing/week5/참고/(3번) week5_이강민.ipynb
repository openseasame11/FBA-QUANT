{
 "cells": [
  {
   "cell_type": "markdown",
   "metadata": {},
   "source": [
    "# Week 5\n",
    "\n",
    "# Advanced Portfolio Construction and Analysis with Python\n",
    "\n",
    "Passive는 주가지수로 수익을 버는 ETF에 투자하고, 시장지수 보다 더 수익률을 얻지 않으려 하는 투자법 이다. \n",
    "\n",
    "Active는 시장지수 보다 더 수익을 버려고 하는 것이다. \n",
    "\n",
    "Indexation은 passive와 active를 섞은 것으로, active manager가 가져오는 포트폴리오를 지수화 하는 것을 의미한다. → 정확히 이해가 되지 않음…(네이버는 물가에 연동시킨다 이렇게 나옴. )\n",
    "\n",
    "![스크린샷 2023-03-01 오후 10.57.38.png](%25E1%2584%2589%25E1%2585%25B3%25E1%2584%258F%25E1%2585%25B3%25E1%2584%2585%25E1%2585%25B5%25E1%2586%25AB%25E1%2584%2589%25E1%2585%25A3%25E1%2586%25BA_2023-03-01_%25E1%2584%258B%25E1%2585%25A9%25E1%2584%2592%25E1%2585%25AE_10.57.38.png)\n",
    "\n",
    "Factor Investing은 자산에 영향을 끼치는 요소들에 대하여 분석하고 투자하는 것이다. Factor는 주식 종목들의 테마마다 공유하는 것으로 대표적으로 macro-factor와 같이 인플레이션, 정치적 상황 등등이 있다. 즉, Factor Investing은 이러한 factor들을 자신을 노출시키므로서 Factor Premium(Risk Premium)을 얻는 것이다. \n",
    "\n",
    "![스크린샷 2023-03-01 오후 11.01.31.png](%25E1%2584%2589%25E1%2585%25B3%25E1%2584%258F%25E1%2585%25B3%25E1%2584%2585%25E1%2585%25B5%25E1%2586%25AB%25E1%2584%2589%25E1%2585%25A3%25E1%2586%25BA_2023-03-01_%25E1%2584%258B%25E1%2585%25A9%25E1%2584%2592%25E1%2585%25AE_11.01.31.png)\n",
    "\n",
    "Macro Factor는 거시적 경제로 인해 주식 가격에 영향을 끼치는 요소를 의미한다. \n",
    "\n",
    "Statistical factors or implicit factor는 통계와 데이터에서는 보이지만, 실제로 무엇인지는 모르는 요소를 의미한다. \n",
    "\n",
    "그래서 Factor Investing은 어떤 주식들이 특정 요소들에 영향을 받는지 분석함을 통해, 투자를 하는 것이다. \n",
    "\n",
    "Style Factor라는 것도 있는데, 이는 대표적으로 value와 growth가 있다. value는 growth stock들을 outperform 한다.\n",
    "\n",
    "주식의 베타는 주식과 시장의 공분산을 시장의 분산으로 나눈 값이다. \n",
    "\n",
    "The Beta is nothing more than the market Beta of the stock. \n",
    "\n",
    "SML is all the securities line up on that line and therefore the excess return of the asset is nothing more than some multiple of the excess return on the market itself. The excess return of an asset is nothing more than some measure of the market's return multiplied by the exposure of that stock to the market's return which is what we call the Beta.\n",
    "\n",
    "CAPM's factor model. What that tells us is that the returns of assets are just explained by one factor. They're just explained by the return on the market and the Beta. Now, in reality, we know that doesn't really happen. We know that when we actually look at the numbers, we find that certain types of stocks outperform other types of stocks, the best-known probably and it's been known for a long time is value stocks. Value stocks outperform growth stocks.\n",
    "\n",
    "![https://coursera-video-thumbnail-notes.s3.amazonaws.com/web/wJkiuf1cEeis_Ar3WWS1OA~19WkH~121032926~425395](https://coursera-video-thumbnail-notes.s3.amazonaws.com/web/wJkiuf1cEeis_Ar3WWS1OA~19WkH~121032926~425395)\n",
    "\n",
    "![https://coursera-video-thumbnail-notes.s3.amazonaws.com/web/wJkiuf1cEeis_Ar3WWS1OA~iVahP~121032926~350499](https://coursera-video-thumbnail-notes.s3.amazonaws.com/web/wJkiuf1cEeis_Ar3WWS1OA~iVahP~121032926~350499)\n",
    "\n",
    "![https://coursera-video-thumbnail-notes.s3.amazonaws.com/web/wJkiuf1cEeis_Ar3WWS1OA~nPLWC~121032926~47071](https://coursera-video-thumbnail-notes.s3.amazonaws.com/web/wJkiuf1cEeis_Ar3WWS1OA~nPLWC~121032926~47071)\n",
    "\n",
    "the idea of Sharpe Style Analysis. It's a very, very clever idea that just builds on this exact same idea and says look, let's take what looks like a factor model, except that we're not going to use factors, we're going to use some sort of explanatory variables. We're going to use things like the returns on bonds, the returns on value, the returns on small-cap, etc, etc, and we're going to decompose some observed returns into these explanatory returns.\n",
    "\n",
    "![https://coursera-video-thumbnail-notes.s3.amazonaws.com/web/wJkiuf1cEeis_Ar3WWS1OA~nPLWC~121032926~208700](https://coursera-video-thumbnail-notes.s3.amazonaws.com/web/wJkiuf1cEeis_Ar3WWS1OA~nPLWC~121032926~208700)\n",
    "\n",
    "![https://coursera-video-thumbnail-notes.s3.amazonaws.com/web/wJkiuf1cEeis_Ar3WWS1OA~nPLWC~121032926~258736](https://coursera-video-thumbnail-notes.s3.amazonaws.com/web/wJkiuf1cEeis_Ar3WWS1OA~nPLWC~121032926~258736)\n",
    "\n",
    "![https://coursera-video-thumbnail-notes.s3.amazonaws.com/web/wJkiuf1cEeis_Ar3WWS1OA~nPLWC~121032926~330038](https://coursera-video-thumbnail-notes.s3.amazonaws.com/web/wJkiuf1cEeis_Ar3WWS1OA~nPLWC~121032926~330038)\n",
    "\n",
    "![https://coursera-video-thumbnail-notes.s3.amazonaws.com/web/wJkiuf1cEeis_Ar3WWS1OA~2uJdC~121032926~703080](https://coursera-video-thumbnail-notes.s3.amazonaws.com/web/wJkiuf1cEeis_Ar3WWS1OA~2uJdC~121032926~703080)\n",
    "\n",
    "So you can fix both of these problems by constructing factor indices, by tilting stocks in the direction of the rewarded factors, and then by using a good, also known as smart-weighting scheme for holding these factor tilted selection of stocks."
   ]
  },
  {
   "cell_type": "markdown",
   "metadata": {},
   "source": [
    "# Assignment 2 "
   ]
  },
  {
   "cell_type": "markdown",
   "metadata": {},
   "source": [
    "1. What are the factors that affecting the market? \n",
    "2. What is the difference between SML and CML? "
   ]
  },
  {
   "cell_type": "markdown",
   "metadata": {},
   "source": [
    "# Assignment 3"
   ]
  },
  {
   "cell_type": "markdown",
   "metadata": {},
   "source": [
    "## Problem 2"
   ]
  },
  {
   "cell_type": "markdown",
   "metadata": {},
   "source": [
    "the optimal weights of a portfolio\n",
    "\n",
    "we need to maximize its expected return subject to a constraint on the target expected return. \n",
    "\n",
    "Maximize $w^Tμ$ subject to $w^T1 = 1$ and $w^Tμ = μ_0$\n",
    "$$ L(w, λ, γ) = w^Tμ - λ(w^ T1 - 1) - γ(w^Tμ - μ_0) $$\n",
    "\n",
    "$$ ∂L/∂w = μ - λ1 - γμ = 0 $$\n",
    "$$ ∂L/∂λ = w^T1 - 1 = 0 $$\n",
    "$$ ∂L/∂γ = w^Tμ - μ_0 = 0 $$\n",
    "\n",
    "\n",
    "$$w = (λ + γ)Σ^(-1)μ$$\n",
    "\n",
    "\n",
    "$$(λ + γ)w^T1 = 1$$\n",
    "\n",
    " λ and γ:\n",
    "\n",
    "$$λ = (μ - μ_0Σ^(-1)1)/(1^TΣ^(-1)1)$$\n",
    "$$γ = (μ_0Σ^(-1)1 - μ)/(1^TΣ^(-1)1)$$\n",
    "\n",
    "the optimal weights:\n",
    "\n",
    "$$w* = ((μ - μ_0Σ^(-1)1)/(1^TΣ^(-1)1) + (μ_0Σ^(-1)1 - μ)/(1^TΣ^(-1)1))Σ^(-1)μ$$\n"
   ]
  },
  {
   "cell_type": "markdown",
   "metadata": {},
   "source": [
    "Problem 2"
   ]
  },
  {
   "cell_type": "markdown",
   "metadata": {},
   "source": [
    "1) Using the Lagrange Multiplier Methods, Find the optimal weights of portfolio under given the target expected return μ_0\n",
    "\n",
    "= $L(w, λ, γ, δ) = w^Tμ - λ(w^T1 - 1) - γ(w^TΣw - σ^2) - δ(w^Tμ - μ_0)$\n",
    "\n",
    "$μ - 2γΣw - δ1 = 0$\n",
    "$γ = (μ^TΣ^(-1)1 - μ_0)/(2μ^TΣ^(-1)Σ^(-1)1)$\n",
    "$δ = (2μ_0 - μ^TΣ^(-1)1)/(2μ^TΣ^(-1)μ - 2μ^TΣ^(-1)Σ^(-1)1μ_0)$\n",
    "\n",
    "\n",
    "\n",
    "2) Find the weight vector of the Tangency Portfolio.\n",
    "\n",
    "= $E(R_p) = μ_f + λ_pσ_p$\n",
    "\n",
    "3) Find the variance of the optimal portfolio.\n",
    "\n",
    "= $σ_p^2 = w*^TΣw*$\n",
    "\n",
    "4) Use the risk-aversion parameter to indicate the weight of the optimal portfolio. (Definition of risk aversion parameter  λ=(μ-r_f)/σ^2 )\n",
    "\n",
    "$w_{opt} = \\lambda^{-1}_{P}{w}\n",
    "= \\lambda^{-1}_{P}\\varSigma^{-1}\\mu_e\n",
    "\\space $\n",
    "\n",
    "5) Show that under a given constraint, all optimal portfolios have the same Sharpe Ratio and that all optimal portfolios are above the CAL of the Tangency portfolio."
   ]
  },
  {
   "cell_type": "markdown",
   "metadata": {},
   "source": [
    "## Problem 3. \n",
    "### Explain that Tangency Portfolio becomes Market Portfolio under the assumption of CAPM, and show that CAL of Tangency Portfolio becomes CML (Capital Market Line)"
   ]
  },
  {
   "cell_type": "code",
   "execution_count": null,
   "metadata": {},
   "outputs": [],
   "source": [
    "\"\"\"\" \n",
    "because the CAPM assumes that all investors hold the Market Portfolio as their optimal portfolio, \n",
    "and the Tangency Portfolio is the optimal portfolio for a single investor. \n",
    "Therefore, if all investors hold the same portfolio, it must be the Market Portfolio.\n",
    "\n",
    "The CAL (Capital Allocation Line) of the Tangency Portfolio becomes the CML (Capital Market Line) under the assumption of CAPM. \n",
    "This is because the CML represents the optimal portfolio for all investors in the market, and it is a linear relationship between the expected return and the beta of a portfolio. \n",
    "The Tangency Portfolio lies on the CML, as it is the optimal portfolio for a single investor, and its expected return is a function of its beta and the risk-free rate. \n",
    "Therefore, the CAL of the Tangency Portfolio becomes the CML under the assumption of CAPM.\n",
    "\"\"\""
   ]
  },
  {
   "cell_type": "markdown",
   "metadata": {},
   "source": [
    "\n",
    "## Problem 4. \n",
    "### 1) Follow the proof on page 184 of the textbook to induce the formula of CAPM.\n",
    "### 2) Derive the CAPM formula for r ̅_k-r_f by using Equation (6.9) in Chapter 6 of the Text book. Hint: Note that ∑_(i=1)^n▒〖σ_ik w_i=cov(r_k,r_M)〗Apply equation (6.9) both to asset k and to the market itself.\n"
   ]
  },
  {
   "cell_type": "markdown",
   "metadata": {},
   "source": []
  },
  {
   "cell_type": "markdown",
   "metadata": {},
   "source": []
  }
 ],
 "metadata": {
  "kernelspec": {
   "display_name": "Python 3.10.2 64-bit",
   "language": "python",
   "name": "python3"
  },
  "language_info": {
   "name": "python",
   "version": "3.10.2"
  },
  "orig_nbformat": 4,
  "vscode": {
   "interpreter": {
    "hash": "aee8b7b246df8f9039afb4144a1f6fd8d2ca17a180786b69acc140d282b71a49"
   }
  }
 },
 "nbformat": 4,
 "nbformat_minor": 2
}
