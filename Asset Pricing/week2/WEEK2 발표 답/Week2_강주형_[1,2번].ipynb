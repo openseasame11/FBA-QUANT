{
 "cells": [
  {
   "cell_type": "markdown",
   "id": "36486639",
   "metadata": {},
   "source": [
    "# Asset Pricing\n",
    "# Homework 2\n",
    "Ju Hyung Kang "
   ]
  },
  {
   "cell_type": "code",
   "execution_count": 2,
   "id": "1edb6add",
   "metadata": {},
   "outputs": [],
   "source": [
    "import pandas as pd\n",
    "import numpy as np\n",
    "import scipy.stats"
   ]
  },
  {
   "cell_type": "markdown",
   "id": "d006f6a2",
   "metadata": {},
   "source": [
    "# Assignment 1\n",
    "## Summarize this week study"
   ]
  },
  {
   "cell_type": "markdown",
   "id": "3b602334",
   "metadata": {},
   "source": [
    "### Chapter 5. Risk, Return, and the Historical Record"
   ]
  },
  {
   "cell_type": "markdown",
   "id": "4c94a533",
   "metadata": {},
   "source": [
    "#### 5.1 Determinants of the Level of Interest Rates\n",
    "\n",
    "The fundamental factors that determine the levele of interest rates:\n",
    "1. The supply of funds\n",
    "2. The demand for funds from busineses\n",
    "3. The demand for funds from the government (the Federal Reserve Bank)\n",
    "4. The expected rated of inflation"
   ]
  },
  {
   "cell_type": "markdown",
   "id": "beed5a70",
   "metadata": {},
   "source": [
    "##### Real and Nominal Rates of Interest\n",
    "\n",
    "A common approximation of the relation between real and nominal rates of interest:\n",
    "\n",
    "$$\n",
    "r_{real} \\approx r_{nom}-i\n",
    "$$\n",
    "\n",
    "where $r_{nom}$ the nominal interest rate, $r_{real}$ the real rate, and $i$ the inflation rate.\n",
    "\n",
    "The exact relatioship:\n",
    "\n",
    "$$\n",
    "r_{real}=\\frac{r_{nom}-i}{1+i}\n",
    "$$"
   ]
  },
  {
   "cell_type": "markdown",
   "id": "16bf81a6",
   "metadata": {},
   "source": [
    "##### The Equilibrium Real Rate of Interest\n",
    "\n",
    "The equilibrium real rate of interest can be explained with the demand and supply curves of funds. The government and the central bank (the Federal Reserve) can shift these curves through fiscal and monetary policies.\n",
    "\n",
    "##### The Equilibrium Nominal Rate of Interest\n",
    "\n",
    "Fisher hypothesis:\n",
    "$$\n",
    "r_{nom} = r_{real}+E(i)\n",
    "$$\n",
    "\n",
    "=> implies that changes in nominal rates ought to predict changes in inflation rates.\n",
    "\n",
    "##### Taxes and the Real Rate of Interest\n",
    "\n",
    "The real after-tax rate is approximately the after-tax nominal\n",
    "rate minus the inflation rate:\n",
    "\n",
    "$$\n",
    "r_{nom}(1-t)-i = (r_{real}+i)(1-t)-i=r_{real}(1-t)-it\n",
    "$$"
   ]
  },
  {
   "cell_type": "markdown",
   "id": "63abab1b",
   "metadata": {},
   "source": [
    "### 5.2 Comparing Rates of Return for Different Holding Periods\n",
    "\n",
    "##### Effective annual rate (EAR)\n",
    ":the percentage increase in funds invested over a 1-year horizon.\n",
    "\n",
    "In general, we can relate EAR to the total return, $r_f(T)$, over a holding period of length $T$ by using the following equation:\n",
    "\n",
    "$$\n",
    "1+\\text{EAR} = [1+r_f(T)]^{1/T}\n",
    "$$\n",
    "\n",
    "##### Annual percentage rates(APR)\n",
    ": Annualized rates using simple interest.\n",
    "\n",
    "The relationship among the compounding period, the EAR, and the APR is\n",
    "\n",
    "$$\n",
    "\\text{APR} = \\frac{(1+\\text{EAR})^T-1}{T}\n",
    "$$\n",
    "\n",
    "##### Continuous Compounding\n",
    "\n",
    "The continuous compounding interest rate, $r_{cc}$, is as follows:\n",
    "\n",
    "$$\n",
    "\\ln(1+\\text{EAR})=r_{cc}\n",
    "$$\n"
   ]
  },
  {
   "cell_type": "markdown",
   "id": "d233b0c7",
   "metadata": {},
   "source": [
    "### 5.4 Risk and Risk Premiums\n",
    "\n",
    "#### Holding-Period Returns\n",
    "\n",
    "The realized return, called the holding-period return, or HPR, is defined \n",
    "\n",
    "$$\n",
    "\\text{HPR} = \\frac{\\text{Ending price of a share}-\\text{Beginning price}+\\text{Cash dividend}}{\\text{Beginning price}}\n",
    "$$\n",
    "\n",
    "The percent return from dividends is called <b>the dividend yield</b>.\n",
    "\n",
    "$$\n",
    "\\text{HPR}=\\text{the Rate of capital gains} + \\text{Dividend yield}\n",
    "$$\n",
    "\n",
    "#### Expected Return and Standard Deviation\n",
    "\n",
    "Expected Return:\n",
    "\n",
    "$$\n",
    "E(r) = \\sum_s p(s)r(s)\n",
    "$$\n",
    "\n",
    "where $p(s)$ the probability of each scenario and $r(s)$ the HPR in each scenarios. Scenarios are labeled or “indexed” by $s$.\n",
    "\n",
    "Variance:\n",
    "\n",
    "$$\n",
    "\\sigma^2 = \\sum_s p(s)[r(s)-E(r)]^2\n",
    "$$\n",
    "\n",
    "#### Excess Returns and Risk Premiums\n",
    "\n",
    "$$\n",
    "\\text{Risk premium} = \\text{the expected HPR} - \\text{the expected risk-free rate}\n",
    "$$\n",
    "\n",
    "$$\n",
    "\\text{Excess return} = \\text{the actual rate of return} - \\text{the actual risk-free rate}\n",
    "$$"
   ]
  },
  {
   "cell_type": "markdown",
   "id": "25a10246",
   "metadata": {},
   "source": [
    "### 5.5 Time Series Analysis of Past Rates of Return\n",
    "\n",
    "#### Expected Returns and the Arithmetic Average\n",
    "\n",
    "When we use historical data, we treat each observation as an equally likely “scenario.” Thus, $p(s)=\\frac{1}{n}$ for all $s$.\n",
    "\n",
    "The expected return, $E(r)$, is\n",
    "\n",
    "$$\n",
    "E(r) = \\sum^n_{s=1}p(s)r(s)=\\frac{1}{n}\\sum^n_{s=1}r(s)\n",
    "$$\n",
    "\n",
    "#### The Geometric (Time-Weighted) Average Return\n",
    "\n",
    "The geometric average return, $g$, is as follows:\n",
    "\n",
    "$$\n",
    "\\text{Termianl value} = (1+r_1)(1+r_2) \\cdots (1+r_n)\n",
    "$$\n",
    "$$\n",
    "(1+g)^n=\\text{Terminal value}\n",
    "$$\n",
    "$$\n",
    "g=\\text{Termianl value}^{1/n} -1\n",
    "$$\n",
    "\n",
    "#### Variance and Standard Deviation\n",
    "\n",
    "$$\n",
    "\\text{Variance} = \\text{Expected value of squared deviations}\n",
    "$$\n",
    "$$\n",
    "\\sigma^2 = \\sum p(s)[r(s)-E(r)]^2\n",
    "$$\n",
    "\n",
    "Using historical data with n observations, we could <i>estimate</i> variance as\n",
    "\n",
    "$$\n",
    "\\hat{\\sigma}^2=\\frac{1}{n-1}\\sum^n_{s=1}[r(s)-\\bar{r}]^2 \n",
    "$$\n",
    "\n",
    "where $\\hat{\\sigma}$ replaces $\\sigma$ to denote that it is an estimate.\n",
    "\n",
    "#### Mean and Standard Deviation Estimates from Higher-Frequency Observations\n",
    "\n",
    "It is the <b>duration</b>, not <b>frequency</b> of a sample time series that improves accuracy.\n",
    "\n",
    "#### The Reward-to-Volatility (Sharpe) Ratio\n",
    "\n",
    "$$\n",
    "\\text{Sharpe ratio} = \\frac{\\text{Risk premium}}{\\text{SD of excess return}}\n",
    "$$"
   ]
  },
  {
   "cell_type": "markdown",
   "id": "1296e89c",
   "metadata": {},
   "source": [
    "### 5.6 The Normal Distribution\n",
    "\n",
    "Investment management is far more tractable when rates of return can be well approximated by the normal distribution."
   ]
  },
  {
   "cell_type": "markdown",
   "id": "c52662ed",
   "metadata": {},
   "source": [
    "### 5.7 Deviations from Normality and Alternative Risk Measures\n",
    "\n",
    "Moments: $(R-\\bar{R})^n$\n",
    "\n",
    "The first moment: zero\n",
    "\n",
    "The second moment: $\\hat{\\sigma}^2$\n",
    "\n",
    "The third moment: $\\text{Skew} = \\text{Average}\\left[\\frac{(R-\\bar{R})^3}{\\hat{\\sigma}^3}\\right]$\n",
    "\n",
    "The fourth moment: $\\text{Kurtosis}=\\text{Average}\\left[\\frac{(R-\\bar{R})^4}{\\hat{\\sigma}^4}\\right]-3$\n",
    "\n",
    "\n",
    "#### Value at Risk\n",
    "\n",
    "Value at risk(VaR): the loss corresponding to a very low percentile of the entire return distribution.\n",
    "\n",
    "$$\n",
    "\\text{VaR}(1\\%, \\text{normal}) =\\text{Mean} - 2.33\\text{SD} \n",
    "$$\n",
    "\n",
    "#### Expected Shortfall\n",
    "\n",
    "Expected shortfall (ES): the expected loss given that we find ourselves in one of the worst-case scenarios.\n",
    "\n",
    "#### Lower Partial Standard Deviation and the Sortino Ratio\n",
    "\n",
    "The lower partial standard deviation(LPSD) of excess returns: computed like the usual standard deviation, but using only negative deviations from the risk-free rate.\n",
    "\n",
    "Sortino ratio: the ratio of average exces returns to LPSD\n"
   ]
  },
  {
   "cell_type": "markdown",
   "id": "29c61cc2",
   "metadata": {},
   "source": [
    "### 5.9 Normality and Long-Term Investments\n",
    "\n",
    "The two-period compound return is not the sum of the two returns, which is not normal. In fact, the actual distribution approaches the <b>lognormal distribution</b>.\n",
    "\n",
    "The expected per-period continuously compounded return: $E(r_{cc})$\n",
    "\n",
    "The expected cumulative return after an investment of $T$ periods: $E(r_{cc})T$\n",
    "\n",
    "The expected final value of the portfolio: $E(W_T)=W_0 \\exp[E(r_{cc}T]$\n",
    "\n",
    "The variance of the cumulative return is proportional to the time horizon: $\\text{Var}(r_{cc}T)=T\\text{Var}(r_{cc})$\n",
    "\n",
    "#### Short-Run versus Long-Run Risk\n",
    "\n",
    "Because expected return increases with horizon at a faster rate than standard deviation, the expected return of a long-term risky investment becomes ever larger relative to its standard deviation. This may lead to a misleading idea.\n",
    "\n",
    "A better way to quantify the risk of a long-term investment would be to calculate the market price of insuring it against a loss.\n",
    "\n",
    "#### Forecasts for the Long Haul\n",
    "\n",
    "The arithmetic average of short-term returns can be misleading when used to forecast long-term cumulative returns.\n",
    "\n",
    "=> Use a weighted average of the arithmetic and geometric historical averages"
   ]
  },
  {
   "cell_type": "markdown",
   "id": "863ef3dc",
   "metadata": {},
   "source": [
    "# Chapter 6. Capital Allocation to Risky Assets"
   ]
  },
  {
   "cell_type": "markdown",
   "id": "3e7ec669",
   "metadata": {},
   "source": [
    "## 6.1 Risk and Risk Aversion\n",
    "\n",
    "#### Risk, Speculation, and Gambling\n",
    "\n",
    "Speculation: the assumption of considerable investment risk to obtain\n",
    "commensurate gain.\n",
    "\n",
    "To gamble: to bet or wager on an uncertain outcome.\n",
    "\n",
    "The central difference between gambling and speculation is the lack of “commensurate gain.\"\n",
    "\n",
    "#### Risk Aversion and Utility Values\n",
    "\n",
    "Risk-averse investors consider only risk-free or speculative prospects with positive risk premiums.\n",
    "\n",
    "Utility: a welfare score to competing portfolios on the basis of the expected return and risk of those portfolios.\n",
    "\n",
    "$$\n",
    "U=E(r)-\\frac{1}{2}A\\sigma^2\n",
    "$$\n",
    "\n",
    "where $U$ is the utility value and $A$ is an index of the investor’s risk aversion.\n",
    "\n",
    "The <b>certainty equivalent</b> is the rate that a risk-free investment would need to offer to provide the same utility score as the risky portfolio.\n",
    "\n",
    "For risk-averse investor: $A>0$\n",
    "\n",
    "For risk-neutral investor: $A=0$\n",
    "\n",
    "For risk-lover: $A<0$\n",
    "\n",
    "\n",
    "<b>The mean-variance (M-V) criterion</b>\n",
    "\n",
    "portfolio $A$ dominates $B$ if\n",
    "\n",
    "$$\n",
    "E(r_A) \\geq E(r_B)\n",
    "$$\n",
    "and\n",
    "$$\n",
    "\\sigma_A \\leq \\sigma_B\n",
    "$$\n",
    "and at least one inequality is strict.\n",
    "\n",
    "Indifference curve: all portfolio points with the same utility value."
   ]
  },
  {
   "cell_type": "markdown",
   "id": "a83ba2f6",
   "metadata": {},
   "source": [
    "## 6.2 Capital Allocation across Risky and Risk-Free Portfolios\n",
    "\n",
    "Rather than thinking of our risky holdings as E and B separately, it is better to view our holdings as if they were in a single fund that holds equities and bonds in fixed proportions."
   ]
  },
  {
   "cell_type": "markdown",
   "id": "fb568d5e",
   "metadata": {},
   "source": [
    "## 6.3 The Risk-Free Asset\n",
    "\n",
    "The government can issue default-free bonds.\n",
    "\n",
    "It is common practice to view Treasury bills as “the” risk-free asset."
   ]
  },
  {
   "cell_type": "markdown",
   "id": "0632f885",
   "metadata": {},
   "source": [
    "## 6.4 Portfolios of One Risky Asset and a Risk-Free Asset\n",
    "\n",
    "Notatation\n",
    "\n",
    "The risky rate of return of the risky portfolio, P: $r_P$\n",
    "\n",
    "The standard deviation of P: $\\sigma_P$\n",
    "\n",
    "The expected rate of return of P: $E(r_P)$\n",
    "\n",
    "The rate of return on the risk-free asset: $r_f$\n",
    "\n",
    "\n",
    "\n",
    "The proportion of the risky portfolio: $y$\n",
    "\n",
    "The rate of return on the complete portfolio, C: $r_C = yr_P+(1-y)r_f$\n",
    "\n",
    "The standard deviation of C: $\\sigma_C = y\\sigma_P$\n",
    "\n",
    "The expected rate of return of C: $E(r_c)=r_f+y[E(r_P)-r_f]=r_f+\\frac{\\sigma_C}{\\sigma_P}[E(r_P)-r_f]$\n",
    "\n",
    "\n",
    "The reward-to-volatility ratio (Sharpe ratio): $S = \\frac{E(r_P)-r_f}{\\sigma_P}$\n",
    "\n",
    "\n",
    "Capital allocation line (CAL): $y=Sx + r_f = \\frac{E(r_P)-r_f}{\\sigma_P}x+r_f$"
   ]
  },
  {
   "cell_type": "markdown",
   "id": "649a38ff",
   "metadata": {},
   "source": [
    "## 6.5 Risk Tolerance and Asset Allocation\n",
    "\n",
    "The utility maximization problem:\n",
    "\n",
    "$$\n",
    "\\max_y U = E(r_C)-\\frac{1}{2}A\\sigma^2_c=r_f+y[E(r_P)-r_f]-\\frac{1}{2}Ay^2 \\sigma^2_P\n",
    "$$\n",
    "Solved by setting the derivative of this expression to zero.\n",
    "$$\n",
    "y*=\\frac{E(r_P)-r_f}{A\\sigma^2_P}\n",
    "$$\n",
    "\n",
    "The optimal position in the risky asset is:\n",
    "\n",
    "- inversely proportional: the level of risk aversion, the level of risk\n",
    "- directly proportional: the risk premium"
   ]
  },
  {
   "cell_type": "markdown",
   "id": "0eb64009",
   "metadata": {},
   "source": [
    "## 6.6 Passive Strategies: The Capital Market Line\n",
    "\n",
    "Passive strategy: a portfolio decision that avoids any direct or indirect security analysis."
   ]
  },
  {
   "cell_type": "markdown",
   "id": "417c5072",
   "metadata": {},
   "source": [
    "# Assignment 2\n",
    "## Make a problem about the above subject."
   ]
  },
  {
   "cell_type": "markdown",
   "id": "bcb431cf",
   "metadata": {},
   "source": [
    "Problem) Let the complete portfolio be comprised of $y\\%$ of risky portfolio and $(1-y)\\%$ of risk free assets. Prove that $y$ which maximizes the utility of the complete portfolio is $\\frac{E(r_P)-r_f}{A\\sigma^2_P}$, where $E(r_P)$ is the expected return of the risk porfolio, $A$ the an index of the investor’s risk aversion, $r_f$ the risk free rate, and $\\sigma_P$ the standard deviation. Note that the utility is defined as $U=E(r)-\\frac{1}{2}A\\sigma^2$, where $E(r)$ is the expected return of a portfolio, $A$ is the an index of the investor’s risk aversion, and $\\sigma$ is the standard deviation of a porfolio. Assume that the investor is risk averse."
   ]
  },
  {
   "cell_type": "markdown",
   "id": "58f0f8fd",
   "metadata": {},
   "source": [
    "Solution) Note that the utility function of the complete portfolio is as follows:\n",
    "\n",
    "$$\n",
    "U_C = E(r_C)-\\frac{1}{2}A \\sigma^2_C\n",
    "$$\n",
    "\n",
    "Here, note that\n",
    "\n",
    "$$\n",
    "E(r_C) = yE(r_P)+(1-y)r_f = (E(r_P) - r_f)y + r_f\n",
    "$$\n",
    "and\n",
    "$$\n",
    "\\sigma^2_C = y^2 \\sigma^2_P\n",
    "$$\n",
    "\n",
    "Then,\n",
    "$$\n",
    "U_C = (E(r_P) - r_f)y + r_f -\\frac{1}{2}A y^2 \\sigma^2_P\n",
    "$$\n",
    "\n",
    "Since the investor is risk averse, $A>0$. Thus, $U_C$ is concave downward, which means that the maximum of $U_C$ locates where $U_C'=0$.\n",
    "\n",
    "Differentiate $U_C$ with $y$, then\n",
    "\n",
    "$$\n",
    "\\frac{d}{dy}U_C = E(r_P) - r_f - A \\sigma^2_Py\n",
    "$$\n",
    "\n",
    "The $y$ that makes derivative 0 is\n",
    "\n",
    "$$\n",
    "E(r_P) - r_f - A \\sigma^2_Py = 0\n",
    "$$\n",
    "\n",
    "$$\n",
    "A \\sigma^2_Py = E(r_P) - r_f\n",
    "$$\n",
    "\n",
    "$$\n",
    "y = \\frac{E(r_P) - r_f}{A \\sigma^2_P}\n",
    "$$"
   ]
  },
  {
   "cell_type": "markdown",
   "id": "e16593b9",
   "metadata": {},
   "source": [
    "# Assignment 3\n",
    "## Solve the following problems"
   ]
  },
  {
   "cell_type": "markdown",
   "id": "aad49f74",
   "metadata": {},
   "source": [
    "### Problem 1\n",
    "#### Let $X_1, X_2, Y_1,$ and $Y_2$ be random variables."
   ]
  },
  {
   "cell_type": "markdown",
   "id": "f4c6d9fb",
   "metadata": {},
   "source": [
    "##### (a) Show that $Cov(X_1+X_2, Y_1+Y_2)$$=Cov(X_1, Y_1)+Cov(X_1,Y_2)$$ + Cov(X_2, Y_1)+Cov(X_2, Y_2)$."
   ]
  },
  {
   "cell_type": "markdown",
   "id": "09c2129a",
   "metadata": {},
   "source": [
    "Solution) $Cov(X_1+X_2, Y_1+Y_2)$$=E[(X_1+X_2-E(X_1+X_2))(Y_1+Y_2-E(Y_1+Y_2))]$$=E[(X_1-E(X_1)+X_2-E(X_2))(Y_1-E(Y_1)+Y_2-E(Y_2))]$$=E[(X_1-E(X_1))(Y_1-E(Y_1))] + E[(X_1-E(X_1))(Y_2-E(Y_2))] + E[(X_2-E(X_2))(Y_1-E(Y_1))] + E[(X_2-E(X_2))(Y_2-E(Y_2))]$$=Cov(X_1, Y_1)+Cov(X_1,Y_2)$$ + Cov(X_2, Y_1)+Cov(X_2, Y_2)$"
   ]
  },
  {
   "cell_type": "markdown",
   "id": "acbc973a",
   "metadata": {},
   "source": [
    "##### (b) Show that if $X, Y,$ and $Z$ are independent, then $Cov(\\alpha_1 X + Y, \\alpha_2 X+ Z)=\\alpha_1 \\alpha_2 \\sigma^2_X$."
   ]
  },
  {
   "cell_type": "markdown",
   "id": "cac765c2",
   "metadata": {},
   "source": [
    "Solution) According to (a),\n",
    "$$\n",
    "Cov(\\alpha_1 X + Y, \\alpha_2 X+ Z)=Cov(\\alpha_1 X, \\alpha_2 X) + Cov(\\alpha_1 X, Z) + Cov(Y, \\alpha_2 X) + Cov(Y, Z) = Cov(\\alpha_1 X, \\alpha_2 X) = \\alpha_1 \\alpha_2 Var(X) = \\alpha_1 \\alpha_2 \\sigma^2_X\n",
    "$$"
   ]
  },
  {
   "cell_type": "markdown",
   "id": "70551544",
   "metadata": {},
   "source": [
    "##### (c) Generalize part (a) to an arbtrary number of $X_i$s and $Y_i$s."
   ]
  },
  {
   "cell_type": "markdown",
   "id": "aa188814",
   "metadata": {},
   "source": [
    "Solution) Assume $Cov(X_1+X_2+\\cdots+X_i, Y_1+ Y_2+ \\cdots + Y_i) = Cov(X_1, Y_1) + \\cdots + Cov(X_i, Y_i)$ where $i \\geq 2$ holds. According to (a), the equation holds when $i=2$.\n",
    "\n",
    "Think of $Cov(X_1+X_2+\\cdots+X_i+X_{i+1}, Y_1+ Y_2+ \\cdots + Y_i + Y_{i+1})$.\n",
    "\n",
    "It is possible to check that the equation also holds at $n=i+1$:\n",
    "\n",
    "$$\n",
    "Cov(X_1+X_2+\\cdots+X_i+X_{i+1}, Y_1+ Y_2+ \\cdots + Y_i + Y_{i+1})=Cov(X_1+X_2+\\cdots+X_i, Y_1+ Y_2+ \\cdots + Y_i) + Cov(X_1+X_2+\\cdots+X_i, Y_{i+1}) + Cov(X_{i+1}, Y_1+ Y_2+ \\cdots + Y_i)+Cov(X_{i+1}, Y_{i+1})\n",
    "$$"
   ]
  },
  {
   "cell_type": "markdown",
   "id": "c5b3b6a0",
   "metadata": {},
   "source": [
    "#### Problem 2\n",
    "##### Let $r_t$ be a log return. Suppose that $\\dots, r_{-1}, r_0, r_1, r_2, \\dots$ are i.i.d. N(0.1, 0.6)."
   ]
  },
  {
   "cell_type": "markdown",
   "id": "aafeee03",
   "metadata": {},
   "source": [
    "##### (a) What is the distribution of $r_t(3) = r_t + r_{t-1}+r_{t-2}$?"
   ]
  },
  {
   "cell_type": "markdown",
   "id": "79a91f20",
   "metadata": {},
   "source": [
    "Solution) Since r_t are i.i.d., $E(r_t(3))=E(r_t)+E(r_{t-1})+E(r_{t-2})=0.1 \\cdot 3 = 0.3$, and $Var(r_t(3))=Var(r_t)+Var(r_{t-1})+Var(r_{t-2})=0.6 \\cdot 3 = 1.8$. Thus, $r_t(3) \\sim N(0.3, 1.8)$"
   ]
  },
  {
   "cell_type": "markdown",
   "id": "4916f3c9",
   "metadata": {},
   "source": [
    "##### (b) What is the $P\\{r_1(3)<2\\}$?"
   ]
  },
  {
   "cell_type": "markdown",
   "id": "defe1791",
   "metadata": {},
   "source": [
    "Solution)\n",
    "$P(r_1(3)<2) = P(r_1(3)-0.3 < 2-0.3)$$ = P(\\frac{r_1(3)-0.3}{\\sqrt{1.8}} < \\frac{1.7}{\\sqrt{1.8}}=\\frac{17\\sqrt{5}}{30}=1.267)$$\\approx 0.89742$"
   ]
  },
  {
   "cell_type": "markdown",
   "id": "bf23a977",
   "metadata": {},
   "source": [
    "##### (c) What is the covariance between $r_1(2)$ and $r_2(2)$?"
   ]
  },
  {
   "cell_type": "markdown",
   "id": "f28ab16d",
   "metadata": {},
   "source": [
    "Solution) Note that $r_1(2) = r_1+r_0$ and $r_2(2)=r_2+r_1$. Thus,\n",
    "\n",
    "$$\n",
    "Cov(r_1(2), r_2(2))=Cov(r_1+r_0, r_2+r_1)=Var(r_1) = 0.6\n",
    "$$\n"
   ]
  },
  {
   "cell_type": "markdown",
   "id": "a9fe110e",
   "metadata": {},
   "source": [
    "##### (d) What is the conditional distribution of $r_t(3)$ given $r_{t-2} = 0.8$?"
   ]
  },
  {
   "cell_type": "markdown",
   "id": "87076e9b",
   "metadata": {},
   "source": [
    "$E(r_t(3))=E(r_t)+E(r_{t-1})+E(r_{t-2})=0.1 \\cdot 2 + 0.8= 1$\n",
    "\n",
    "$Var(r_t(3))=Var(r_t)+Var(r_{t-1})+Var(r_{t-2})=0.6 \\cdot 2 + 0 = 1.2$\n",
    "\n",
    "Thus, $r_t(3)|\\{r_{t-2} = 0.8\\}\\sim N(1, 1.2)$"
   ]
  },
  {
   "cell_type": "markdown",
   "id": "832761b4",
   "metadata": {},
   "source": [
    "#### Problem 3\n",
    "##### (a) Visit Professor Kenneth French's data library website and download the monthly returns of \"6 portfolios formed on size and book-to-market(2x3).\" Choose the value-weighted series for the period from January 1930-December 2016 (1,020 months). Split the sample in half and compute the average, SD, skew, and kurtosis for each of the six portfolios for the two halves. (Using python and submit the code) "
   ]
  },
  {
   "cell_type": "code",
   "execution_count": 6,
   "id": "fe812028",
   "metadata": {},
   "outputs": [
    {
     "name": "stdout",
     "output_type": "stream",
     "text": [
      "1020\n"
     ]
    }
   ],
   "source": [
    "# Read CSV\n",
    "\n",
    "df = pd.read_csv('C:/Users/kangj/Desktop/FBA/AP/HW/HWs/HW2/6_Portfolios_2x3_CSV/6_Portfolios_2x3_processed.csv', index_col=0)\n",
    "df = df.loc[\"193012\":]\n",
    "df = df[:1020]\n",
    "df.head()\n",
    "print(len(df))"
   ]
  },
  {
   "cell_type": "code",
   "execution_count": 9,
   "id": "b093fbf3",
   "metadata": {},
   "outputs": [
    {
     "name": "stdout",
     "output_type": "stream",
     "text": [
      "510\n",
      "510\n"
     ]
    }
   ],
   "source": [
    "# Slice the dataframe\n",
    "\n",
    "threshold = int(len(df)/2)\n",
    "\n",
    "df1 = df[:threshold]\n",
    "print(len(df1))\n",
    "df2 = df[threshold:]\n",
    "print(len(df2))"
   ]
  },
  {
   "cell_type": "code",
   "execution_count": 10,
   "id": "a1bd0623",
   "metadata": {},
   "outputs": [],
   "source": [
    "# Calculating function\n",
    "def describe(x):\n",
    "    M1 = np.mean(x)\n",
    "    M2 = np.var(x)\n",
    "    M3 = scipy.stats.skew(x)\n",
    "    M4 = scipy.stats.kurtosis(x)\n",
    "    \n",
    "    print(x.name)\n",
    "    print(\"Mean {:.4f}\\nVariance {:.4f}\\nSkew {:.4f}\\nKurtosis {:.4f}\\n\".format(M1, M2, M3, M4))"
   ]
  },
  {
   "cell_type": "code",
   "execution_count": 18,
   "id": "810afa24",
   "metadata": {},
   "outputs": [
    {
     "name": "stdout",
     "output_type": "stream",
     "text": [
      "SMALL LoBM\n",
      "Mean 0.8750\n",
      "Variance 65.4940\n",
      "Skew 1.1097\n",
      "Kurtosis 8.9406\n",
      "\n",
      "ME1 BM2\n",
      "Mean 1.0902\n",
      "Variance 67.5670\n",
      "Skew 1.5835\n",
      "Kurtosis 13.0748\n",
      "\n",
      "SMALL HiBM\n",
      "Mean 1.3954\n",
      "Variance 98.4143\n",
      "Skew 2.3241\n",
      "Kurtosis 17.9262\n",
      "\n",
      "BIG LoBM\n",
      "Mean 0.7796\n",
      "Variance 33.7698\n",
      "Skew -0.0243\n",
      "Kurtosis 6.4010\n",
      "\n",
      "ME2 BM2\n",
      "Mean 0.8256\n",
      "Variance 43.7051\n",
      "Skew 1.6815\n",
      "Kurtosis 17.4355\n",
      "\n",
      "BIG HiBM\n",
      "Mean 1.1833\n",
      "Variance 74.9486\n",
      "Skew 1.7548\n",
      "Kurtosis 14.8886\n",
      "\n"
     ]
    }
   ],
   "source": [
    "# df1\n",
    "describe(df1['SMALL LoBM'])\n",
    "describe(df1['ME1 BM2'])\n",
    "describe(df1['SMALL HiBM'])\n",
    "describe(df1['BIG LoBM'])\n",
    "describe(df1['ME2 BM2'])\n",
    "describe(df1['BIG HiBM'])"
   ]
  },
  {
   "cell_type": "code",
   "execution_count": 11,
   "id": "7a9d04a0",
   "metadata": {},
   "outputs": [
    {
     "name": "stdout",
     "output_type": "stream",
     "text": [
      "SMALL LoBM\n",
      "Mean 0.9707\n",
      "Variance 47.4201\n",
      "Skew -0.3832\n",
      "Kurtosis 2.0382\n",
      "\n",
      "ME1 BM2\n",
      "Mean 1.3479\n",
      "Variance 29.3058\n",
      "Skew -0.5695\n",
      "Kurtosis 3.3569\n",
      "\n",
      "SMALL HiBM\n",
      "Mean 1.4519\n",
      "Variance 31.5002\n",
      "Skew -0.4941\n",
      "Kurtosis 4.1960\n",
      "\n",
      "BIG LoBM\n",
      "Mean 0.9156\n",
      "Variance 22.8664\n",
      "Skew -0.3121\n",
      "Kurtosis 1.8906\n",
      "\n",
      "ME2 BM2\n",
      "Mean 1.0502\n",
      "Variance 19.5651\n",
      "Skew -0.4352\n",
      "Kurtosis 2.3626\n",
      "\n",
      "BIG HiBM\n",
      "Mean 1.1297\n",
      "Variance 24.6978\n",
      "Skew -0.5633\n",
      "Kurtosis 2.7956\n",
      "\n"
     ]
    }
   ],
   "source": [
    "# df2\n",
    "describe(df2['SMALL LoBM'])\n",
    "describe(df2['ME1 BM2'])\n",
    "describe(df2['SMALL HiBM'])\n",
    "describe(df2['BIG LoBM'])\n",
    "describe(df2['ME2 BM2'])\n",
    "describe(df2['BIG HiBM'])"
   ]
  },
  {
   "cell_type": "markdown",
   "id": "ff9dd634",
   "metadata": {},
   "source": [
    "##### (b) Do the six split-halves statistics suggest to you that returns come from the same distribution over the entire period?"
   ]
  },
  {
   "cell_type": "markdown",
   "id": "deeb36bc",
   "metadata": {},
   "source": [
    "Solution) No, the statistics are different, which means that the distribution has changed over the period."
   ]
  },
  {
   "cell_type": "markdown",
   "id": "5fddf866",
   "metadata": {},
   "source": [
    "#### Problem 4\n",
    "##### You manage a risky portfolio with an expected rate of return of 18% and a standard deviation of 28%. The T-bill rate is 8%."
   ]
  },
  {
   "cell_type": "markdown",
   "id": "47ab4b50",
   "metadata": {},
   "source": [
    "##### (a) Your client chooses to invest 70% of a portfolio in your fund and 30% in an essentially risk-free money market fund. What is the expected value and standard deviation of the rate of return on his portfolio?"
   ]
  },
  {
   "cell_type": "markdown",
   "id": "cbcbce76",
   "metadata": {},
   "source": [
    "Solution) The return of the complete portfolio is $r_C = 0.7r_P + 0.3r_f$. Thus,\n",
    "\n",
    "$$\n",
    "E(r_C) = 0.7 \\cdot 18\\% + 0.3 \\cdot 8\\% = 0.15\n",
    "$$\n",
    "\n",
    "$$\n",
    "\\sigma_C = 0.7 \\cdot 0.28 = 0.196\n",
    "$$"
   ]
  },
  {
   "cell_type": "markdown",
   "id": "f1f339d0",
   "metadata": {},
   "source": [
    "##### (b) What is the reward-to-volatility (Sharpe) ratio of your risky portfolio? And your client's?"
   ]
  },
  {
   "cell_type": "markdown",
   "id": "15385144",
   "metadata": {},
   "source": [
    "Solution) The sharpe ratio of my risky porfolio is\n",
    "\n",
    "$$\n",
    "S_P = \\frac{E(r_P)-r_f}{\\sigma_P} = \\frac{18\\%-8\\%}{28\\%}=\\frac{5}{14} = 0.3571\n",
    "$$\n",
    "\n",
    "The sharpe ratio of my client is\n",
    "\n",
    "$$\n",
    "S_C = \\frac{E(r_C)-r_f}{\\sigma_C}= \\frac{0.15-0.08}{0.196}=\\frac{143}{98}=0.3571\n",
    "$$"
   ]
  },
  {
   "cell_type": "markdown",
   "id": "c1732b5a",
   "metadata": {},
   "source": [
    "##### (c) Draw the CAL of your portfolio on an expected return-standard deviation diagram. What is the slope of the CAL?"
   ]
  },
  {
   "attachments": {
    "image.png": {
     "image/png": "[encoded data removed]"
    }
   },
   "cell_type": "markdown",
   "id": "8aa8dc61",
   "metadata": {},
   "source": [
    "The CAL of r_C with the slope of 0.3571:\n",
    "\n",
    "![image.png](attachment:image.png)"
   ]
  },
  {
   "cell_type": "markdown",
   "id": "c362cf33",
   "metadata": {},
   "source": [
    "##### (d) Suppose that your client decides to invest in your portfolio a proportion y of the total investment budget so that the overall portfolio will have an expected rate of return of 16%. What is the proportion y? What are you client's investment proportions in your three stocks and the T-bill fund?"
   ]
  },
  {
   "cell_type": "markdown",
   "id": "3d910c15",
   "metadata": {},
   "source": [
    "Solution) $y$ can be calculated as follows:\n",
    "\n",
    "$$\n",
    "0.16 = 0.18y + 0.08(1-y), y=0.8\n",
    "$$"
   ]
  },
  {
   "cell_type": "markdown",
   "id": "b2223fae",
   "metadata": {},
   "source": [
    "##### (e) Your client's degree of risk aversion is A=3.5. What proportion, y, of the total investment should be invested in your fund?"
   ]
  },
  {
   "cell_type": "markdown",
   "id": "d42e8c7b",
   "metadata": {},
   "source": [
    "Solution) According to the formula,\n",
    "\n",
    "$$\n",
    "y* = \\frac{0.18-0.08}{3.5 \\cdot 0.28^2}=\\frac{125}{345}=0.3644\n",
    "$$"
   ]
  }
 ],
 "metadata": {
  "kernelspec": {
   "display_name": "Python 3 (ipykernel)",
   "language": "python",
   "name": "python3"
  },
  "language_info": {
   "codemirror_mode": {
    "name": "ipython",
    "version": 3
   },
   "file_extension": ".py",
   "mimetype": "text/x-python",
   "name": "python",
   "nbconvert_exporter": "python",
   "pygments_lexer": "ipython3",
   "version": "3.9.13"
  }
 },
 "nbformat": 4,
 "nbformat_minor": 5
}
